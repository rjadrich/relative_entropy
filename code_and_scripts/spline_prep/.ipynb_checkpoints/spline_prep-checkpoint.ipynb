{
 "cells": [
  {
   "cell_type": "markdown",
   "metadata": {},
   "source": [
    "###This notebook prepares a spline input to the relative entropy code"
   ]
  },
  {
   "cell_type": "code",
   "execution_count": 1,
   "metadata": {
    "collapsed": false
   },
   "outputs": [],
   "source": [
    "import pandas as pd\n",
    "from scipy.optimize import curve_fit\n",
    "from numpy import power, linspace, tanh, array\n",
    "import matplotlib.pyplot as plt\n",
    "%matplotlib inline "
   ]
  },
  {
   "cell_type": "markdown",
   "metadata": {},
   "source": [
    "**Simple IPL potential to fit the re potential and parameters**"
   ]
  },
  {
   "cell_type": "code",
   "execution_count": 2,
   "metadata": {
    "collapsed": true
   },
   "outputs": [],
   "source": [
    "def ipl_pot(R, d, a, A, k, r_cut, dr, r_shrink):\n",
    "    UR = A*power(d/R, a)*((1.0 - tanh(k*(R/d - r_shrink)))/2.0)\n",
    "    UR = UR - UR[0]\n",
    "    return UR"
   ]
  },
  {
   "cell_type": "markdown",
   "metadata": {},
   "source": [
    "**Function to make the initial guess**"
   ]
  },
  {
   "cell_type": "code",
   "execution_count": 6,
   "metadata": {
    "collapsed": true
   },
   "outputs": [],
   "source": [
    "def init_guess(R, UR, N_fix):\n",
    "    #oprn filestream\n",
    "    parameters_filestream = open(\"parameters.txt\", 'w')\n",
    "    \n",
    "    #initial line for cut point\n",
    "    line = \"%0.15f\\n\" % R[0]\n",
    "    parameters_filestream.write(line)\n",
    "                 \n",
    "    for i in range(1, N_fix):\n",
    "        line = \"%0.15f\\n\" % R[i]\n",
    "        parameters_filestream.write(line)\n",
    "        line = \"%0.15f\\n\" % (UR[i] - UR[i - 1])\n",
    "        parameters_filestream.write(line)\n",
    "        line = \"%d\\n\" % 0\n",
    "        parameters_filestream.write(line)\n",
    "    \n",
    "    for i in range(N_fix, len(R)):\n",
    "        line = \"%0.15f\\n\" % R[i]\n",
    "        parameters_filestream.write(line)\n",
    "        line = \"%0.15f\\n\" % (UR[i] - UR[i - 1])\n",
    "        parameters_filestream.write(line)\n",
    "        line = \"%d\\n\" % 1\n",
    "        parameters_filestream.write(line)\n",
    "        \n",
    "    parameters_filestream.close()"
   ]
  },
  {
   "cell_type": "markdown",
   "metadata": {},
   "source": [
    "**Parameters to generate initial guess**"
   ]
  },
  {
   "cell_type": "code",
   "execution_count": 7,
   "metadata": {
    "collapsed": false
   },
   "outputs": [],
   "source": [
    "#trial ipl params\n",
    "d = 1.0\n",
    "a = 5.0\n",
    "A = 8.0\n",
    "k = 9.0\n",
    "\n",
    "#re potential constraints\n",
    "r_cut = 3.00\n",
    "dr = 0.1\n",
    "N_opt = 25\n",
    "N_fix = 3\n",
    "r_shrink = 2.40\n",
    "\n",
    "#vector of r values\n",
    "R = array([r_cut - i*dr for i in range(N_opt + N_fix)])\n",
    "\n",
    "#get the potential\n",
    "UR = ipl_pot(R, \n",
    "             d, a, A, k, \n",
    "             r_cut, dr, r_shrink)"
   ]
  },
  {
   "cell_type": "markdown",
   "metadata": {},
   "source": [
    "**Generate initial guess file**"
   ]
  },
  {
   "cell_type": "code",
   "execution_count": 8,
   "metadata": {
    "collapsed": false
   },
   "outputs": [],
   "source": [
    "init_guess(R, UR, N_fix)"
   ]
  },
  {
   "cell_type": "markdown",
   "metadata": {},
   "source": [
    "**Plot our initial guess**"
   ]
  },
  {
   "cell_type": "code",
   "execution_count": 9,
   "metadata": {
    "collapsed": false
   },
   "outputs": [
    {
     "data": {
      "text/plain": [
       "<matplotlib.text.Text at 0x16e0c7f0>"
      ]
     },
     "execution_count": 9,
     "metadata": {},
     "output_type": "execute_result"
    },
    {
     "data": {
      "image/png": "[encoded data removed]",
      "text/plain": [
       "<matplotlib.figure.Figure at 0x16dc3320>"
      ]
     },
     "metadata": {},
     "output_type": "display_data"
    }
   ],
   "source": [
    "#font scpecifications\n",
    "title_font = {'family' : 'arial', 'color'  : 'black', 'weight' : 'heavy','size': 20}\n",
    "axis_label_font = {'family' : 'arial', 'color'  : 'black', 'weight' : 'normal','size': 20}\n",
    "axescolor = '#f6f6f6'\n",
    "\n",
    "#figure size and tick style\n",
    "plt.rcParams[\"figure.figsize\"] = [6,6]\n",
    "plt.rc('axes',edgecolor='black',linewidth=1)\n",
    "plt.tick_params(which='both', axis='both', color='black', length=4, width=0.5)\n",
    "plt.rcParams['xtick.direction'] = 'in'\n",
    "plt.rcParams['ytick.direction'] = 'in'\n",
    "\n",
    "#actual data and labeling\n",
    "plt.xlabel('$\\mathbf{r}$', fontsize=20, fontdict = axis_label_font)\n",
    "plt.ylabel('$\\mathbf{u(r)}$', fontsize=20, fontdict = axis_label_font)\n",
    "plt.plot(R, UR, c=\"g\", linestyle = '-', linewidth = 2)\n",
    "plt.scatter(R, UR, c=\"g\", linestyle = '-', linewidth = 2)\n",
    "plt.ylim((0,5.0))\n",
    "plt.xlim((0,3.5))\n",
    "\n",
    "#title and axis labels\n",
    "plt.tick_params(axis='both', labelsize=20)\n",
    "plt.title(\"Asymptotic fit\", y=1.05, fontdict = title_font)"
   ]
  },
  {
   "cell_type": "code",
   "execution_count": 333,
   "metadata": {
    "collapsed": false
   },
   "outputs": [
    {
     "name": "stdout",
     "output_type": "stream",
     "text": [
      "[ 3.   2.9  2.8  2.7  2.6  2.5  2.4  2.3  2.2  2.1  2.   1.9  1.8  1.7  1.6\n",
      "  1.5  1.4  1.3  1.2  1.1  1.   0.9  0.8  0.7  0.6  0.5  0.4  0.3]\n",
      "[  0.00000000e+00   4.14120575e-06   3.40065370e-05   2.50010831e-04\n",
      "   1.79016434e-03   1.16197677e-02   5.02340249e-02   1.06662250e-01\n",
      "   1.51100999e-01   1.95000133e-01   2.49812821e-01   3.23048320e-01\n",
      "   4.23367887e-01   5.63434451e-01   7.62938356e-01   1.05349717e+00\n",
      "   1.48747476e+00   2.15463192e+00   3.21501990e+00   4.96736991e+00\n",
      "   7.99999933e+00   1.35480696e+01   2.44140618e+01   4.75992139e+01\n",
      "   1.02880658e+02   2.55999999e+02   7.81249999e+02   3.29218107e+03]\n"
     ]
    }
   ],
   "source": [
    "print R\n",
    "print UR"
   ]
  },
  {
   "cell_type": "code",
   "execution_count": 334,
   "metadata": {
    "collapsed": false
   },
   "outputs": [
    {
     "data": {
      "text/plain": [
       "28"
      ]
     },
     "execution_count": 334,
     "metadata": {},
     "output_type": "execute_result"
    }
   ],
   "source": [
    "len(R)"
   ]
  },
  {
   "cell_type": "code",
   "execution_count": null,
   "metadata": {
    "collapsed": true
   },
   "outputs": [],
   "source": []
  }
 ],
 "metadata": {
  "kernelspec": {
   "display_name": "Python 2",
   "language": "python",
   "name": "python2"
  },
  "language_info": {
   "codemirror_mode": {
    "name": "ipython",
    "version": 2
   },
   "file_extension": ".py",
   "mimetype": "text/x-python",
   "name": "python",
   "nbconvert_exporter": "python",
   "pygments_lexer": "ipython2",
   "version": "2.7.10"
  }
 },
 "nbformat": 4,
 "nbformat_minor": 0
}
