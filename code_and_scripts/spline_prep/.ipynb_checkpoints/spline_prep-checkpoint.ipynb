{
 "cells": [
  {
   "cell_type": "markdown",
   "metadata": {},
   "source": [
    "###This notebook prepares a spline input to the relative entropy code"
   ]
  },
  {
   "cell_type": "code",
   "execution_count": 1,
   "metadata": {
    "collapsed": false
   },
   "outputs": [],
   "source": [
    "import pandas as pd\n",
    "from scipy.optimize import curve_fit\n",
    "from numpy import power, linspace, tanh, array\n",
    "import matplotlib.pyplot as plt\n",
    "%matplotlib inline "
   ]
  },
  {
   "cell_type": "markdown",
   "metadata": {},
   "source": [
    "**Simple IPL potential to fit the re potential and parameters**"
   ]
  },
  {
   "cell_type": "code",
   "execution_count": 2,
   "metadata": {
    "collapsed": true
   },
   "outputs": [],
   "source": [
    "def ipl_pot(R, d, a, A, k, r_cut, dr, r_shrink):\n",
    "    UR = A*power(d/R, a)*((1.0 - tanh(k*(R/d - r_shrink)))/2.0)\n",
    "    UR = UR - UR[-1]\n",
    "    return UR"
   ]
  },
  {
   "cell_type": "markdown",
   "metadata": {},
   "source": [
    "**Function to make the initial guess**"
   ]
  },
  {
   "cell_type": "code",
   "execution_count": 3,
   "metadata": {
    "collapsed": true
   },
   "outputs": [],
   "source": [
    "def init_guess(R, UR, N_fix):\n",
    "    #oprn filestream\n",
    "    parameters_filestream = open(\"parameters.txt\", 'w')\n",
    "    \n",
    "    #the line that says do a spline\n",
    "    parameters_filestream.write(\"-1\\n\")\n",
    "                    \n",
    "    for i in range(0, len(R) - N_fix):\n",
    "        line = \"%0.15f\\n\" % R[i]\n",
    "        parameters_filestream.write(line)\n",
    "        line = \"%0.15f\\n\" % (UR[i] - UR[i + 1])\n",
    "        parameters_filestream.write(line)\n",
    "        line = \"%d\\n\" % 1\n",
    "        parameters_filestream.write(line)\n",
    "    \n",
    "    for i in range(len(R) - N_fix, len(R) - 1):\n",
    "        line = \"%0.15f\\n\" % R[i]\n",
    "        parameters_filestream.write(line)\n",
    "        line = \"%0.15f\\n\" % (UR[i] - UR[i + 1])\n",
    "        parameters_filestream.write(line)\n",
    "        line = \"%d\\n\" % 0\n",
    "        parameters_filestream.write(line)\n",
    "        \n",
    "    #final line for cut point\n",
    "    line = \"%0.15f\\n\" % R[-1]\n",
    "    parameters_filestream.write(line)\n",
    "        \n",
    "    parameters_filestream.close()"
   ]
  },
  {
   "cell_type": "markdown",
   "metadata": {},
   "source": [
    "**Parameters to generate initial guess**"
   ]
  },
  {
   "cell_type": "code",
   "execution_count": 15,
   "metadata": {
    "collapsed": false
   },
   "outputs": [],
   "source": [
    "#trial ipl params\n",
    "d = 1.0\n",
    "a = 5.0\n",
    "A = 8.0\n",
    "k = 9.0\n",
    "\n",
    "#re potential constraints\n",
    "r_cut = 3.00\n",
    "dr = 0.1\n",
    "N_opt = 26\n",
    "N_fix = 3\n",
    "r_shrink = 2.40\n",
    "\n",
    "#vector of r values\n",
    "R_temp = [r_cut - i*dr for i in range(N_opt + N_fix)]\n",
    "R_temp.reverse()\n",
    "R = array(R_temp)\n",
    "\n",
    "#get the potential\n",
    "UR = ipl_pot(R, \n",
    "             d, a, A, k, \n",
    "             r_cut, dr, r_shrink)"
   ]
  },
  {
   "cell_type": "markdown",
   "metadata": {},
   "source": [
    "**Generate initial guess file**"
   ]
  },
  {
   "cell_type": "code",
   "execution_count": 17,
   "metadata": {
    "collapsed": false
   },
   "outputs": [],
   "source": [
    "init_guess(R, UR, N_fix)"
   ]
  },
  {
   "cell_type": "markdown",
   "metadata": {},
   "source": [
    "**Plot our initial guess**"
   ]
  },
  {
   "cell_type": "code",
   "execution_count": 18,
   "metadata": {
    "collapsed": false
   },
   "outputs": [
    {
     "data": {
      "text/plain": [
       "<matplotlib.text.Text at 0x16ed4f60>"
      ]
     },
     "execution_count": 18,
     "metadata": {},
     "output_type": "execute_result"
    },
    {
     "data": {
      "image/png": "[encoded data removed]",
      "text/plain": [
       "<matplotlib.figure.Figure at 0x16e89470>"
      ]
     },
     "metadata": {},
     "output_type": "display_data"
    }
   ],
   "source": [
    "#font scpecifications\n",
    "title_font = {'family' : 'arial', 'color'  : 'black', 'weight' : 'heavy','size': 20}\n",
    "axis_label_font = {'family' : 'arial', 'color'  : 'black', 'weight' : 'normal','size': 20}\n",
    "axescolor = '#f6f6f6'\n",
    "\n",
    "#figure size and tick style\n",
    "plt.rcParams[\"figure.figsize\"] = [6,6]\n",
    "plt.rc('axes',edgecolor='black',linewidth=1)\n",
    "plt.tick_params(which='both', axis='both', color='black', length=4, width=0.5)\n",
    "plt.rcParams['xtick.direction'] = 'in'\n",
    "plt.rcParams['ytick.direction'] = 'in'\n",
    "\n",
    "#actual data and labeling\n",
    "plt.xlabel('$\\mathbf{r}$', fontsize=20, fontdict = axis_label_font)\n",
    "plt.ylabel('$\\mathbf{u(r)}$', fontsize=20, fontdict = axis_label_font)\n",
    "plt.plot(R, UR, c=\"g\", linestyle = '-', linewidth = 2)\n",
    "plt.scatter(R, UR, c=\"g\", linestyle = '-', linewidth = 2)\n",
    "plt.ylim((0,5.0))\n",
    "plt.xlim((0,3.5))\n",
    "\n",
    "#title and axis labels\n",
    "plt.tick_params(axis='both', labelsize=20)\n",
    "plt.title(\"Asymptotic fit\", y=1.05, fontdict = title_font)"
   ]
  },
  {
   "cell_type": "code",
   "execution_count": 16,
   "metadata": {
    "collapsed": false
   },
   "outputs": [
    {
     "name": "stdout",
     "output_type": "stream",
     "text": [
      "[ 0.2  0.3  0.4  0.5  0.6  0.7  0.8  0.9  1.   1.1  1.2  1.3  1.4  1.5  1.6\n",
      "  1.7  1.8  1.9  2.   2.1  2.2  2.3  2.4  2.5  2.6  2.7  2.8  2.9  3. ]\n",
      "[  2.50000000e+04   3.29218107e+03   7.81249999e+02   2.55999999e+02\n",
      "   1.02880658e+02   4.75992139e+01   2.44140618e+01   1.35480696e+01\n",
      "   7.99999933e+00   4.96736991e+00   3.21501990e+00   2.15463192e+00\n",
      "   1.48747476e+00   1.05349717e+00   7.62938356e-01   5.63434451e-01\n",
      "   4.23367887e-01   3.23048320e-01   2.49812821e-01   1.95000133e-01\n",
      "   1.51100999e-01   1.06662250e-01   5.02340249e-02   1.16197677e-02\n",
      "   1.79016434e-03   2.50010831e-04   3.40065370e-05   4.14120575e-06\n",
      "   0.00000000e+00]\n"
     ]
    }
   ],
   "source": [
    "print R\n",
    "print UR"
   ]
  },
  {
   "cell_type": "code",
   "execution_count": 19,
   "metadata": {
    "collapsed": false
   },
   "outputs": [
    {
     "data": {
      "text/plain": [
       "29"
      ]
     },
     "execution_count": 19,
     "metadata": {},
     "output_type": "execute_result"
    }
   ],
   "source": [
    "len(R)"
   ]
  },
  {
   "cell_type": "code",
   "execution_count": 15,
   "metadata": {
    "collapsed": false
   },
   "outputs": [
    {
     "name": "stdout",
     "output_type": "stream",
     "text": [
      "None\n"
     ]
    }
   ],
   "source": [
    "print ([3,5,6,2]).reverse()"
   ]
  },
  {
   "cell_type": "code",
   "execution_count": null,
   "metadata": {
    "collapsed": true
   },
   "outputs": [],
   "source": []
  },
  {
   "cell_type": "code",
   "execution_count": null,
   "metadata": {
    "collapsed": true
   },
   "outputs": [],
   "source": []
  },
  {
   "cell_type": "code",
   "execution_count": null,
   "metadata": {
    "collapsed": true
   },
   "outputs": [],
   "source": []
  },
  {
   "cell_type": "code",
   "execution_count": 50,
   "metadata": {
    "collapsed": true
   },
   "outputs": [],
   "source": [
    "#trial ipl params\n",
    "d = 1.0\n",
    "a = 5.0\n",
    "A = 8.0\n",
    "k = 9.0\n",
    "\n",
    "#re potential constraints\n",
    "r_cut = 4.8\n",
    "dr = 0.15\n",
    "N_opt = 29\n",
    "N_fix = 2\n",
    "r_shrink = 4.2\n",
    "\n",
    "#vector of r values\n",
    "R_temp = [r_cut - i*dr for i in range(N_opt + N_fix)]\n",
    "R_temp.reverse()\n",
    "R = array(R_temp)\n",
    "\n",
    "#get the potential\n",
    "UR = ipl_pot(R, \n",
    "             d, a, A, k, \n",
    "             r_cut, dr, r_shrink)"
   ]
  },
  {
   "cell_type": "code",
   "execution_count": 51,
   "metadata": {
    "collapsed": false
   },
   "outputs": [
    {
     "data": {
      "text/plain": [
       "<matplotlib.text.Text at 0x1a34e3c8>"
      ]
     },
     "execution_count": 51,
     "metadata": {},
     "output_type": "execute_result"
    },
    {
     "data": {
      "image/png": "[encoded data removed]",
      "text/plain": [
       "<matplotlib.figure.Figure at 0x19dc75f8>"
      ]
     },
     "metadata": {},
     "output_type": "display_data"
    }
   ],
   "source": [
    "#font scpecifications\n",
    "title_font = {'family' : 'arial', 'color'  : 'black', 'weight' : 'heavy','size': 20}\n",
    "axis_label_font = {'family' : 'arial', 'color'  : 'black', 'weight' : 'normal','size': 20}\n",
    "axescolor = '#f6f6f6'\n",
    "\n",
    "#figure size and tick style\n",
    "plt.rcParams[\"figure.figsize\"] = [6,6]\n",
    "plt.rc('axes',edgecolor='black',linewidth=1)\n",
    "plt.tick_params(which='both', axis='both', color='black', length=4, width=0.5)\n",
    "plt.rcParams['xtick.direction'] = 'in'\n",
    "plt.rcParams['ytick.direction'] = 'in'\n",
    "\n",
    "#actual data and labeling\n",
    "plt.xlabel('$\\mathbf{r}$', fontsize=20, fontdict = axis_label_font)\n",
    "plt.ylabel('$\\mathbf{u(r)}$', fontsize=20, fontdict = axis_label_font)\n",
    "plt.plot(R, UR, c=\"g\", linestyle = '-', linewidth = 2)\n",
    "plt.scatter(R, UR, c=\"g\", linestyle = '-', linewidth = 2)\n",
    "plt.ylim((0,5.0))\n",
    "plt.xlim((0,5.0))\n",
    "\n",
    "#title and axis labels\n",
    "plt.tick_params(axis='both', labelsize=20)\n",
    "plt.title(\"Asymptotic fit\", y=1.05, fontdict = title_font)"
   ]
  },
  {
   "cell_type": "code",
   "execution_count": 52,
   "metadata": {
    "collapsed": false
   },
   "outputs": [
    {
     "name": "stdout",
     "output_type": "stream",
     "text": [
      "[ 0.3   0.45  0.6   0.75  0.9   1.05  1.2   1.35  1.5   1.65  1.8   1.95\n",
      "  2.1   2.25  2.4   2.55  2.7   2.85  3.    3.15  3.3   3.45  3.6   3.75\n",
      "  3.9   4.05  4.2   4.35  4.5   4.65  4.8 ]\n",
      "[  3.29218107e+03   4.33538248e+02   1.02880658e+02   3.37119341e+01\n",
      "   1.35480702e+01   6.26820927e+00   3.21502051e+00   1.78410795e+00\n",
      "   1.05349788e+00   6.54139272e-01   4.23377131e-01   2.83737562e-01\n",
      "   1.95881478e-01   1.38732175e-01   1.00469329e-01   7.41974039e-02\n",
      "   5.57533115e-02   4.25466169e-02   3.29217466e-02   2.57950359e-02\n",
      "   2.04417883e-02   1.63678719e-02   1.32302034e-02   1.07844814e-02\n",
      "   8.82686920e-03   6.87959335e-03   3.06058504e-03   3.23381027e-04\n",
      "   1.94290175e-05   1.05258060e-06   0.00000000e+00]\n"
     ]
    }
   ],
   "source": [
    "print R\n",
    "print UR"
   ]
  },
  {
   "cell_type": "code",
   "execution_count": 53,
   "metadata": {
    "collapsed": true
   },
   "outputs": [],
   "source": [
    "init_guess(R, UR, N_fix)"
   ]
  },
  {
   "cell_type": "code",
   "execution_count": 54,
   "metadata": {
    "collapsed": false
   },
   "outputs": [
    {
     "data": {
      "text/plain": [
       "31"
      ]
     },
     "execution_count": 54,
     "metadata": {},
     "output_type": "execute_result"
    }
   ],
   "source": [
    "len(R)"
   ]
  },
  {
   "cell_type": "code",
   "execution_count": 3,
   "metadata": {
    "collapsed": false
   },
   "outputs": [],
   "source": [
    "ur_df = pd.read_csv(\"table.xvg\", delim_whitespace = True, index_col = False)[[\"r\", \"ur\"]]"
   ]
  },
  {
   "cell_type": "code",
   "execution_count": 4,
   "metadata": {
    "collapsed": false
   },
   "outputs": [
    {
     "data": {
      "text/html": [
       "<div>\n",
       "<table border=\"1\" class=\"dataframe\">\n",
       "  <thead>\n",
       "    <tr style=\"text-align: right;\">\n",
       "      <th></th>\n",
       "      <th>r</th>\n",
       "      <th>ur</th>\n",
       "    </tr>\n",
       "  </thead>\n",
       "  <tbody>\n",
       "    <tr>\n",
       "      <th>0</th>\n",
       "      <td>0.000</td>\n",
       "      <td>68411.927957</td>\n",
       "    </tr>\n",
       "    <tr>\n",
       "      <th>1</th>\n",
       "      <td>0.005</td>\n",
       "      <td>67326.537007</td>\n",
       "    </tr>\n",
       "    <tr>\n",
       "      <th>2</th>\n",
       "      <td>0.010</td>\n",
       "      <td>66241.146057</td>\n",
       "    </tr>\n",
       "    <tr>\n",
       "      <th>3</th>\n",
       "      <td>0.015</td>\n",
       "      <td>65155.755107</td>\n",
       "    </tr>\n",
       "    <tr>\n",
       "      <th>4</th>\n",
       "      <td>0.020</td>\n",
       "      <td>64070.364157</td>\n",
       "    </tr>\n",
       "    <tr>\n",
       "      <th>5</th>\n",
       "      <td>0.025</td>\n",
       "      <td>62984.973207</td>\n",
       "    </tr>\n",
       "    <tr>\n",
       "      <th>6</th>\n",
       "      <td>0.030</td>\n",
       "      <td>61899.582257</td>\n",
       "    </tr>\n",
       "    <tr>\n",
       "      <th>7</th>\n",
       "      <td>0.035</td>\n",
       "      <td>60814.191307</td>\n",
       "    </tr>\n",
       "    <tr>\n",
       "      <th>8</th>\n",
       "      <td>0.040</td>\n",
       "      <td>59728.800357</td>\n",
       "    </tr>\n",
       "    <tr>\n",
       "      <th>9</th>\n",
       "      <td>0.045</td>\n",
       "      <td>58643.409407</td>\n",
       "    </tr>\n",
       "    <tr>\n",
       "      <th>10</th>\n",
       "      <td>0.050</td>\n",
       "      <td>57558.018457</td>\n",
       "    </tr>\n",
       "    <tr>\n",
       "      <th>11</th>\n",
       "      <td>0.055</td>\n",
       "      <td>56472.627507</td>\n",
       "    </tr>\n",
       "    <tr>\n",
       "      <th>12</th>\n",
       "      <td>0.060</td>\n",
       "      <td>55387.236557</td>\n",
       "    </tr>\n",
       "    <tr>\n",
       "      <th>13</th>\n",
       "      <td>0.065</td>\n",
       "      <td>54301.845607</td>\n",
       "    </tr>\n",
       "    <tr>\n",
       "      <th>14</th>\n",
       "      <td>0.070</td>\n",
       "      <td>53216.454657</td>\n",
       "    </tr>\n",
       "    <tr>\n",
       "      <th>15</th>\n",
       "      <td>0.075</td>\n",
       "      <td>52131.063707</td>\n",
       "    </tr>\n",
       "    <tr>\n",
       "      <th>16</th>\n",
       "      <td>0.080</td>\n",
       "      <td>51045.672757</td>\n",
       "    </tr>\n",
       "    <tr>\n",
       "      <th>17</th>\n",
       "      <td>0.085</td>\n",
       "      <td>49960.281807</td>\n",
       "    </tr>\n",
       "    <tr>\n",
       "      <th>18</th>\n",
       "      <td>0.090</td>\n",
       "      <td>48874.890857</td>\n",
       "    </tr>\n",
       "    <tr>\n",
       "      <th>19</th>\n",
       "      <td>0.095</td>\n",
       "      <td>47789.499907</td>\n",
       "    </tr>\n",
       "    <tr>\n",
       "      <th>20</th>\n",
       "      <td>0.100</td>\n",
       "      <td>46704.108957</td>\n",
       "    </tr>\n",
       "    <tr>\n",
       "      <th>21</th>\n",
       "      <td>0.105</td>\n",
       "      <td>45618.718007</td>\n",
       "    </tr>\n",
       "    <tr>\n",
       "      <th>22</th>\n",
       "      <td>0.110</td>\n",
       "      <td>44533.327057</td>\n",
       "    </tr>\n",
       "    <tr>\n",
       "      <th>23</th>\n",
       "      <td>0.115</td>\n",
       "      <td>43447.936107</td>\n",
       "    </tr>\n",
       "    <tr>\n",
       "      <th>24</th>\n",
       "      <td>0.120</td>\n",
       "      <td>42362.545157</td>\n",
       "    </tr>\n",
       "    <tr>\n",
       "      <th>25</th>\n",
       "      <td>0.125</td>\n",
       "      <td>41277.154207</td>\n",
       "    </tr>\n",
       "    <tr>\n",
       "      <th>26</th>\n",
       "      <td>0.130</td>\n",
       "      <td>40191.763257</td>\n",
       "    </tr>\n",
       "    <tr>\n",
       "      <th>27</th>\n",
       "      <td>0.135</td>\n",
       "      <td>39106.372307</td>\n",
       "    </tr>\n",
       "    <tr>\n",
       "      <th>28</th>\n",
       "      <td>0.140</td>\n",
       "      <td>38020.981357</td>\n",
       "    </tr>\n",
       "    <tr>\n",
       "      <th>29</th>\n",
       "      <td>0.145</td>\n",
       "      <td>36935.590407</td>\n",
       "    </tr>\n",
       "    <tr>\n",
       "      <th>...</th>\n",
       "      <td>...</td>\n",
       "      <td>...</td>\n",
       "    </tr>\n",
       "    <tr>\n",
       "      <th>3171</th>\n",
       "      <td>15.855</td>\n",
       "      <td>0.000000</td>\n",
       "    </tr>\n",
       "    <tr>\n",
       "      <th>3172</th>\n",
       "      <td>15.860</td>\n",
       "      <td>0.000000</td>\n",
       "    </tr>\n",
       "    <tr>\n",
       "      <th>3173</th>\n",
       "      <td>15.865</td>\n",
       "      <td>0.000000</td>\n",
       "    </tr>\n",
       "    <tr>\n",
       "      <th>3174</th>\n",
       "      <td>15.870</td>\n",
       "      <td>0.000000</td>\n",
       "    </tr>\n",
       "    <tr>\n",
       "      <th>3175</th>\n",
       "      <td>15.875</td>\n",
       "      <td>0.000000</td>\n",
       "    </tr>\n",
       "    <tr>\n",
       "      <th>3176</th>\n",
       "      <td>15.880</td>\n",
       "      <td>0.000000</td>\n",
       "    </tr>\n",
       "    <tr>\n",
       "      <th>3177</th>\n",
       "      <td>15.885</td>\n",
       "      <td>0.000000</td>\n",
       "    </tr>\n",
       "    <tr>\n",
       "      <th>3178</th>\n",
       "      <td>15.890</td>\n",
       "      <td>0.000000</td>\n",
       "    </tr>\n",
       "    <tr>\n",
       "      <th>3179</th>\n",
       "      <td>15.895</td>\n",
       "      <td>0.000000</td>\n",
       "    </tr>\n",
       "    <tr>\n",
       "      <th>3180</th>\n",
       "      <td>15.900</td>\n",
       "      <td>0.000000</td>\n",
       "    </tr>\n",
       "    <tr>\n",
       "      <th>3181</th>\n",
       "      <td>15.905</td>\n",
       "      <td>0.000000</td>\n",
       "    </tr>\n",
       "    <tr>\n",
       "      <th>3182</th>\n",
       "      <td>15.910</td>\n",
       "      <td>0.000000</td>\n",
       "    </tr>\n",
       "    <tr>\n",
       "      <th>3183</th>\n",
       "      <td>15.915</td>\n",
       "      <td>0.000000</td>\n",
       "    </tr>\n",
       "    <tr>\n",
       "      <th>3184</th>\n",
       "      <td>15.920</td>\n",
       "      <td>0.000000</td>\n",
       "    </tr>\n",
       "    <tr>\n",
       "      <th>3185</th>\n",
       "      <td>15.925</td>\n",
       "      <td>0.000000</td>\n",
       "    </tr>\n",
       "    <tr>\n",
       "      <th>3186</th>\n",
       "      <td>15.930</td>\n",
       "      <td>0.000000</td>\n",
       "    </tr>\n",
       "    <tr>\n",
       "      <th>3187</th>\n",
       "      <td>15.935</td>\n",
       "      <td>0.000000</td>\n",
       "    </tr>\n",
       "    <tr>\n",
       "      <th>3188</th>\n",
       "      <td>15.940</td>\n",
       "      <td>0.000000</td>\n",
       "    </tr>\n",
       "    <tr>\n",
       "      <th>3189</th>\n",
       "      <td>15.945</td>\n",
       "      <td>0.000000</td>\n",
       "    </tr>\n",
       "    <tr>\n",
       "      <th>3190</th>\n",
       "      <td>15.950</td>\n",
       "      <td>0.000000</td>\n",
       "    </tr>\n",
       "    <tr>\n",
       "      <th>3191</th>\n",
       "      <td>15.955</td>\n",
       "      <td>0.000000</td>\n",
       "    </tr>\n",
       "    <tr>\n",
       "      <th>3192</th>\n",
       "      <td>15.960</td>\n",
       "      <td>0.000000</td>\n",
       "    </tr>\n",
       "    <tr>\n",
       "      <th>3193</th>\n",
       "      <td>15.965</td>\n",
       "      <td>0.000000</td>\n",
       "    </tr>\n",
       "    <tr>\n",
       "      <th>3194</th>\n",
       "      <td>15.970</td>\n",
       "      <td>0.000000</td>\n",
       "    </tr>\n",
       "    <tr>\n",
       "      <th>3195</th>\n",
       "      <td>15.975</td>\n",
       "      <td>0.000000</td>\n",
       "    </tr>\n",
       "    <tr>\n",
       "      <th>3196</th>\n",
       "      <td>15.980</td>\n",
       "      <td>0.000000</td>\n",
       "    </tr>\n",
       "    <tr>\n",
       "      <th>3197</th>\n",
       "      <td>15.985</td>\n",
       "      <td>0.000000</td>\n",
       "    </tr>\n",
       "    <tr>\n",
       "      <th>3198</th>\n",
       "      <td>15.990</td>\n",
       "      <td>0.000000</td>\n",
       "    </tr>\n",
       "    <tr>\n",
       "      <th>3199</th>\n",
       "      <td>15.995</td>\n",
       "      <td>0.000000</td>\n",
       "    </tr>\n",
       "    <tr>\n",
       "      <th>3200</th>\n",
       "      <td>16.000</td>\n",
       "      <td>0.000000</td>\n",
       "    </tr>\n",
       "  </tbody>\n",
       "</table>\n",
       "<p>3201 rows × 2 columns</p>\n",
       "</div>"
      ],
      "text/plain": [
       "           r            ur\n",
       "0      0.000  68411.927957\n",
       "1      0.005  67326.537007\n",
       "2      0.010  66241.146057\n",
       "3      0.015  65155.755107\n",
       "4      0.020  64070.364157\n",
       "5      0.025  62984.973207\n",
       "6      0.030  61899.582257\n",
       "7      0.035  60814.191307\n",
       "8      0.040  59728.800357\n",
       "9      0.045  58643.409407\n",
       "10     0.050  57558.018457\n",
       "11     0.055  56472.627507\n",
       "12     0.060  55387.236557\n",
       "13     0.065  54301.845607\n",
       "14     0.070  53216.454657\n",
       "15     0.075  52131.063707\n",
       "16     0.080  51045.672757\n",
       "17     0.085  49960.281807\n",
       "18     0.090  48874.890857\n",
       "19     0.095  47789.499907\n",
       "20     0.100  46704.108957\n",
       "21     0.105  45618.718007\n",
       "22     0.110  44533.327057\n",
       "23     0.115  43447.936107\n",
       "24     0.120  42362.545157\n",
       "25     0.125  41277.154207\n",
       "26     0.130  40191.763257\n",
       "27     0.135  39106.372307\n",
       "28     0.140  38020.981357\n",
       "29     0.145  36935.590407\n",
       "...      ...           ...\n",
       "3171  15.855      0.000000\n",
       "3172  15.860      0.000000\n",
       "3173  15.865      0.000000\n",
       "3174  15.870      0.000000\n",
       "3175  15.875      0.000000\n",
       "3176  15.880      0.000000\n",
       "3177  15.885      0.000000\n",
       "3178  15.890      0.000000\n",
       "3179  15.895      0.000000\n",
       "3180  15.900      0.000000\n",
       "3181  15.905      0.000000\n",
       "3182  15.910      0.000000\n",
       "3183  15.915      0.000000\n",
       "3184  15.920      0.000000\n",
       "3185  15.925      0.000000\n",
       "3186  15.930      0.000000\n",
       "3187  15.935      0.000000\n",
       "3188  15.940      0.000000\n",
       "3189  15.945      0.000000\n",
       "3190  15.950      0.000000\n",
       "3191  15.955      0.000000\n",
       "3192  15.960      0.000000\n",
       "3193  15.965      0.000000\n",
       "3194  15.970      0.000000\n",
       "3195  15.975      0.000000\n",
       "3196  15.980      0.000000\n",
       "3197  15.985      0.000000\n",
       "3198  15.990      0.000000\n",
       "3199  15.995      0.000000\n",
       "3200  16.000      0.000000\n",
       "\n",
       "[3201 rows x 2 columns]"
      ]
     },
     "execution_count": 4,
     "metadata": {},
     "output_type": "execute_result"
    }
   ],
   "source": [
    "ur_df"
   ]
  },
  {
   "cell_type": "code",
   "execution_count": 21,
   "metadata": {
    "collapsed": false
   },
   "outputs": [],
   "source": [
    "R = []\n",
    "UR = []\n",
    "for k in range(len(ur_df)):\n",
    "    r = ur_df[\"r\"][k]\n",
    "    ur = ur_df[\"ur\"][k]\n",
    "    if abs((r/0.2)-1.0) < 0.000001:\n",
    "        R.append(r)\n",
    "        UR.append(ur)\n",
    "    elif len(R) > 0:\n",
    "        if abs((r - R[-1]/0.02)) < 0.000001:\n",
    "            R.append(r)\n",
    "            UR.append(ur)\n",
    "    "
   ]
  },
  {
   "cell_type": "code",
   "execution_count": 22,
   "metadata": {
    "collapsed": false
   },
   "outputs": [
    {
     "data": {
      "text/plain": [
       "[0.20000000000000001, 10.0]"
      ]
     },
     "execution_count": 22,
     "metadata": {},
     "output_type": "execute_result"
    }
   ],
   "source": [
    "R"
   ]
  },
  {
   "cell_type": "code",
   "execution_count": 26,
   "metadata": {
    "collapsed": false
   },
   "outputs": [],
   "source": [
    "knot_locs = [0.2 + i*0.02 for i in range(100) if 0.2 + i*0.02 <= 1.6]"
   ]
  },
  {
   "cell_type": "code",
   "execution_count": null,
   "metadata": {
    "collapsed": true
   },
   "outputs": [],
   "source": [
    "ur_df[\"keep\"] = "
   ]
  },
  {
   "cell_type": "code",
   "execution_count": null,
   "metadata": {
    "collapsed": true
   },
   "outputs": [],
   "source": []
  },
  {
   "cell_type": "code",
   "execution_count": null,
   "metadata": {
    "collapsed": true
   },
   "outputs": [],
   "source": [
    "FOR SIMPLE CUBIC"
   ]
  },
  {
   "cell_type": "code",
   "execution_count": 70,
   "metadata": {
    "collapsed": true
   },
   "outputs": [],
   "source": [
    "#trial ipl params\n",
    "d = 1.0\n",
    "a = 5.0\n",
    "A = 8.0\n",
    "k = 9.0\n",
    "\n",
    "#re potential constraints\n",
    "r_cut = 1.70\n",
    "dr = 0.025\n",
    "N_opt = 50\n",
    "N_fix = 3\n",
    "r_shrink = 1.10\n",
    "\n",
    "#vector of r values\n",
    "R_temp = [r_cut - i*dr for i in range(N_opt + N_fix)]\n",
    "R_temp.reverse()\n",
    "R = array(R_temp)\n",
    "\n",
    "#get the potential\n",
    "UR = ipl_pot(R, \n",
    "             d, a, A, k, \n",
    "             r_cut, dr, r_shrink)"
   ]
  },
  {
   "cell_type": "code",
   "execution_count": 71,
   "metadata": {
    "collapsed": true
   },
   "outputs": [],
   "source": [
    "init_guess(R, UR, N_fix)"
   ]
  },
  {
   "cell_type": "code",
   "execution_count": 67,
   "metadata": {
    "collapsed": false
   },
   "outputs": [
    {
     "data": {
      "text/plain": [
       "<matplotlib.text.Text at 0x1a16aa90>"
      ]
     },
     "execution_count": 67,
     "metadata": {},
     "output_type": "execute_result"
    },
    {
     "data": {
      "image/png": "[encoded data removed]",
      "text/plain": [
       "<matplotlib.figure.Figure at 0x1a033b00>"
      ]
     },
     "metadata": {},
     "output_type": "display_data"
    }
   ],
   "source": [
    "#font scpecifications\n",
    "title_font = {'family' : 'arial', 'color'  : 'black', 'weight' : 'heavy','size': 20}\n",
    "axis_label_font = {'family' : 'arial', 'color'  : 'black', 'weight' : 'normal','size': 20}\n",
    "axescolor = '#f6f6f6'\n",
    "\n",
    "#figure size and tick style\n",
    "plt.rcParams[\"figure.figsize\"] = [6,6]\n",
    "plt.rc('axes',edgecolor='black',linewidth=1)\n",
    "plt.tick_params(which='both', axis='both', color='black', length=4, width=0.5)\n",
    "plt.rcParams['xtick.direction'] = 'in'\n",
    "plt.rcParams['ytick.direction'] = 'in'\n",
    "\n",
    "#actual data and labeling\n",
    "plt.xlabel('$\\mathbf{r}$', fontsize=20, fontdict = axis_label_font)\n",
    "plt.ylabel('$\\mathbf{u(r)}$', fontsize=20, fontdict = axis_label_font)\n",
    "plt.plot(R, UR, c=\"g\", linestyle = '-', linewidth = 2)\n",
    "plt.scatter(R, UR, c=\"g\", linestyle = '-', linewidth = 2)\n",
    "plt.ylim((0,5.0))\n",
    "plt.xlim((0,5.0))\n",
    "\n",
    "#title and axis labels\n",
    "plt.tick_params(axis='both', labelsize=20)\n",
    "plt.title(\"Asymptotic fit\", y=1.05, fontdict = title_font)"
   ]
  },
  {
   "cell_type": "code",
   "execution_count": 68,
   "metadata": {
    "collapsed": false
   },
   "outputs": [
    {
     "name": "stdout",
     "output_type": "stream",
     "text": [
      "[ 0.4    0.425  0.45   0.475  0.5    0.525  0.55   0.575  0.6    0.625\n",
      "  0.65   0.675  0.7    0.725  0.75   0.775  0.8    0.825  0.85   0.875  0.9\n",
      "  0.925  0.95   0.975  1.     1.025  1.05   1.075  1.1    1.125  1.15\n",
      "  1.175  1.2    1.225  1.25   1.275  1.3    1.325  1.35   1.375  1.4    1.425\n",
      "  1.45   1.475  1.5    1.525  1.55   1.575  1.6    1.625  1.65   1.675  1.7  ]\n",
      "[  7.81247354e+02   5.76956448e+02   4.33534641e+02   3.30838677e+02\n",
      "   2.55994766e+02   2.00576270e+02   1.58947872e+02   1.27267218e+02\n",
      "   1.02867952e+02   8.38698359e+01   6.89273094e+01   5.70642799e+01\n",
      "   4.75636927e+01   3.98925336e+01   3.36501307e+01   2.85320103e+01\n",
      "   2.43042787e+01   2.07852170e+01   1.78318788e+01   1.53302103e+01\n",
      "   1.31877208e+01   1.13281281e+01   9.68776031e+00   8.21385714e+00\n",
      "   6.86517999e+00   5.61514752e+00   4.45636881e+00   3.40275674e+00\n",
      "   2.48367380e+00   1.72852902e+00   1.14966197e+00   7.35339194e-01\n",
      "   4.56042599e-01   2.76509306e-01   1.65069381e-01   9.75523079e-02\n",
      "   5.72952557e-02   3.35326462e-02   1.95903988e-02   1.14371324e-02\n",
      "   6.67660237e-03   3.89821167e-03   2.27620061e-03   1.32859627e-03\n",
      "   7.74446240e-04   4.50016582e-04   2.59846753e-04   1.48235971e-04\n",
      "   8.26489893e-05   4.40592220e-05   2.13259855e-05   7.91767785e-06\n",
      "   0.00000000e+00]\n"
     ]
    }
   ],
   "source": [
    "print R\n",
    "print UR"
   ]
  },
  {
   "cell_type": "code",
   "execution_count": 72,
   "metadata": {
    "collapsed": false
   },
   "outputs": [
    {
     "data": {
      "text/plain": [
       "53"
      ]
     },
     "execution_count": 72,
     "metadata": {},
     "output_type": "execute_result"
    }
   ],
   "source": [
    "len(R)"
   ]
  },
  {
   "cell_type": "code",
   "execution_count": null,
   "metadata": {
    "collapsed": true
   },
   "outputs": [],
   "source": [
    "FOR DIAMOND"
   ]
  },
  {
   "cell_type": "code",
   "execution_count": 32,
   "metadata": {
    "collapsed": true
   },
   "outputs": [],
   "source": [
    "#trial ipl params\n",
    "d = 1.0\n",
    "a = 5.0\n",
    "A = 1.0\n",
    "k = 9.0\n",
    "\n",
    "#re potential constraints\n",
    "r_cut = 1.85\n",
    "dr = 0.015\n",
    "N_opt = 103\n",
    "N_fix = 3\n",
    "r_shrink = 1.10\n",
    "\n",
    "#vector of r values\n",
    "R_temp = [r_cut - i*dr for i in range(N_opt + N_fix)]\n",
    "R_temp.reverse()\n",
    "R = array(R_temp)\n",
    "\n",
    "#get the potential\n",
    "UR = ipl_pot(R, \n",
    "             d, a, A, k, \n",
    "             r_cut, dr, r_shrink)"
   ]
  },
  {
   "cell_type": "code",
   "execution_count": 33,
   "metadata": {
    "collapsed": false
   },
   "outputs": [
    {
     "name": "stdout",
     "output_type": "stream",
     "text": [
      "[ 0.275  0.29   0.305  0.32   0.335  0.35   0.365  0.38   0.395  0.41\n",
      "  0.425  0.44   0.455  0.47   0.485  0.5    0.515  0.53   0.545  0.56\n",
      "  0.575  0.59   0.605  0.62   0.635  0.65   0.665  0.68   0.695  0.71\n",
      "  0.725  0.74   0.755  0.77   0.785  0.8    0.815  0.83   0.845  0.86\n",
      "  0.875  0.89   0.905  0.92   0.935  0.95   0.965  0.98   0.995  1.01\n",
      "  1.025  1.04   1.055  1.07   1.085  1.1    1.115  1.13   1.145  1.16\n",
      "  1.175  1.19   1.205  1.22   1.235  1.25   1.265  1.28   1.295  1.31\n",
      "  1.325  1.34   1.355  1.37   1.385  1.4    1.415  1.43   1.445  1.46\n",
      "  1.475  1.49   1.505  1.52   1.535  1.55   1.565  1.58   1.595  1.61\n",
      "  1.625  1.64   1.655  1.67   1.685  1.7    1.715  1.73   1.745  1.76\n",
      "  1.775  1.79   1.805  1.82   1.835  1.85 ]\n",
      "[  6.35823209e+02   4.87539501e+02   3.78879003e+02   2.98022986e+02\n",
      "   2.37014824e+02   1.90396597e+02   1.54360045e+02   1.26206288e+02\n",
      "   1.03995173e+02   8.63135468e+01   7.21195574e+01   6.06364278e+01\n",
      "   5.12789442e+01   4.36019133e+01   3.72635772e+01   3.19993472e+01\n",
      "   2.76027434e+01   2.39114244e+01   2.07968506e+01   1.81565687e+01\n",
      "   1.59084036e+01   1.39860532e+01   1.23357195e+01   1.09135172e+01\n",
      "   9.68346416e+00   8.61591505e+00   7.68633162e+00   6.87431261e+00\n",
      "   6.16282368e+00   5.53758291e+00   4.98656808e+00   4.49961939e+00\n",
      "   4.06811770e+00   3.68472255e+00   3.34315794e+00   3.03803621e+00\n",
      "   2.76471258e+00   2.51916441e+00   2.29789059e+00   2.09782732e+00\n",
      "   1.91627766e+00   1.75085265e+00   1.59942297e+00   1.46008048e+00\n",
      "   1.33110984e+00   1.21097141e+00   1.09829703e+00   9.91900501e-01\n",
      "   8.90803978e-01   7.94278859e-01   7.01894814e-01   6.13563577e-01\n",
      "   5.29556695e-01   4.50473459e-01   3.77142478e-01   3.10460598e-01\n",
      "   2.51200360e-01   1.99837405e-01   1.56447517e-01   1.20697451e-01\n",
      "   9.19187727e-02   6.92289337e-02   5.16589108e-02   3.82580265e-02\n",
      "   2.81633977e-02   2.06350460e-02   1.50647839e-02   1.09685565e-02\n",
      "   7.97040376e-03   5.78369357e-03   4.19295421e-03   3.03792333e-03\n",
      "   2.20035254e-03   1.59351342e-03   1.15407671e-03   8.35948731e-04\n",
      "   6.05658633e-04   4.38941279e-04   3.18224765e-04   2.30793105e-04\n",
      "   1.67447968e-04   1.21536682e-04   8.82476726e-05   6.41004677e-05\n",
      "   4.65768543e-05   3.38542790e-05   2.46131947e-05   1.78978553e-05\n",
      "   1.30157212e-05   9.46475147e-06   6.88083762e-06   4.99978582e-06\n",
      "   3.62981054e-06   2.63162484e-06   1.90402289e-06   1.37343487e-06\n",
      "   9.86356203e-07   7.03857556e-07   4.97601849e-07   3.46953213e-07\n",
      "   2.36877568e-07   1.56417329e-07   9.75827421e-08   5.45456673e-08\n",
      "   2.30530465e-08   0.00000000e+00]\n"
     ]
    }
   ],
   "source": [
    "print R\n",
    "print UR"
   ]
  },
  {
   "cell_type": "code",
   "execution_count": 34,
   "metadata": {
    "collapsed": false
   },
   "outputs": [
    {
     "data": {
      "text/plain": [
       "<matplotlib.text.Text at 0x16fc9dd8>"
      ]
     },
     "execution_count": 34,
     "metadata": {},
     "output_type": "execute_result"
    },
    {
     "data": {
      "image/png": "[encoded data removed]",
      "text/plain": [
       "<matplotlib.figure.Figure at 0x16fd4240>"
      ]
     },
     "metadata": {},
     "output_type": "display_data"
    }
   ],
   "source": [
    "#font scpecifications\n",
    "title_font = {'family' : 'arial', 'color'  : 'black', 'weight' : 'heavy','size': 20}\n",
    "axis_label_font = {'family' : 'arial', 'color'  : 'black', 'weight' : 'normal','size': 20}\n",
    "axescolor = '#f6f6f6'\n",
    "\n",
    "#figure size and tick style\n",
    "plt.rcParams[\"figure.figsize\"] = [6,6]\n",
    "plt.rc('axes',edgecolor='black',linewidth=1)\n",
    "plt.tick_params(which='both', axis='both', color='black', length=4, width=0.5)\n",
    "plt.rcParams['xtick.direction'] = 'in'\n",
    "plt.rcParams['ytick.direction'] = 'in'\n",
    "\n",
    "#actual data and labeling\n",
    "plt.xlabel('$\\mathbf{r}$', fontsize=20, fontdict = axis_label_font)\n",
    "plt.ylabel('$\\mathbf{u(r)}$', fontsize=20, fontdict = axis_label_font)\n",
    "plt.plot(R, UR, c=\"g\", linestyle = '-', linewidth = 2)\n",
    "plt.scatter(R, UR, c=\"g\", linestyle = '-', linewidth = 2)\n",
    "plt.ylim((0,5.0))\n",
    "plt.xlim((0,5.0))\n",
    "\n",
    "#title and axis labels\n",
    "plt.tick_params(axis='both', labelsize=20)\n",
    "plt.title(\"Asymptotic fit\", y=1.05, fontdict = title_font)"
   ]
  },
  {
   "cell_type": "code",
   "execution_count": 35,
   "metadata": {
    "collapsed": true
   },
   "outputs": [],
   "source": [
    "init_guess(R, UR, N_fix)"
   ]
  },
  {
   "cell_type": "code",
   "execution_count": 36,
   "metadata": {
    "collapsed": false
   },
   "outputs": [
    {
     "data": {
      "text/plain": [
       "106"
      ]
     },
     "execution_count": 36,
     "metadata": {},
     "output_type": "execute_result"
    }
   ],
   "source": [
    "len(R)"
   ]
  },
  {
   "cell_type": "code",
   "execution_count": 4,
   "metadata": {
    "collapsed": true
   },
   "outputs": [],
   "source": [
    "#FOR HONEYCOMB, SQUARE, KAGOME"
   ]
  },
  {
   "cell_type": "code",
   "execution_count": 11,
   "metadata": {
    "collapsed": true
   },
   "outputs": [],
   "source": [
    "#trial ipl params\n",
    "d = 1.0\n",
    "a = 5.0\n",
    "A = 1.0\n",
    "k = 9.0\n",
    "\n",
    "#re potential constraints\n",
    "r_cut = 2.00\n",
    "dr = 0.015\n",
    "N_opt = 112\n",
    "N_fix = 3\n",
    "r_shrink = 1.10\n",
    "\n",
    "#vector of r values\n",
    "R_temp = [r_cut - i*dr for i in range(N_opt + N_fix)]\n",
    "R_temp.reverse()\n",
    "R = array(R_temp)\n",
    "\n",
    "#get the potential\n",
    "UR = ipl_pot(R, \n",
    "             d, a, A, k, \n",
    "             r_cut, dr, r_shrink)"
   ]
  },
  {
   "cell_type": "code",
   "execution_count": 15,
   "metadata": {
    "collapsed": false
   },
   "outputs": [
    {
     "name": "stdout",
     "output_type": "stream",
     "text": [
      "[ 0.29   0.305  0.32   0.335  0.35   0.365  0.38   0.395  0.41   0.425\n",
      "  0.44   0.455  0.47   0.485  0.5    0.515  0.53   0.545  0.56   0.575\n",
      "  0.59   0.605  0.62   0.635  0.65   0.665  0.68   0.695  0.71   0.725\n",
      "  0.74   0.755  0.77   0.785  0.8    0.815  0.83   0.845  0.86   0.875\n",
      "  0.89   0.905  0.92   0.935  0.95   0.965  0.98   0.995  1.01   1.025\n",
      "  1.04   1.055  1.07   1.085  1.1    1.115  1.13   1.145  1.16   1.175\n",
      "  1.19   1.205  1.22   1.235  1.25   1.265  1.28   1.295  1.31   1.325\n",
      "  1.34   1.355  1.37   1.385  1.4    1.415  1.43   1.445  1.46   1.475\n",
      "  1.49   1.505  1.52   1.535  1.55   1.565  1.58   1.595  1.61   1.625\n",
      "  1.64   1.655  1.67   1.685  1.7    1.715  1.73   1.745  1.76   1.775\n",
      "  1.79   1.805  1.82   1.835  1.85   1.865  1.88   1.895  1.91   1.925\n",
      "  1.94   1.955  1.97   1.985  2.   ]\n",
      "[  4.87539501e+02   3.78879003e+02   2.98022986e+02   2.37014824e+02\n",
      "   1.90396597e+02   1.54360045e+02   1.26206289e+02   1.03995173e+02\n",
      "   8.63135468e+01   7.21195574e+01   6.06364279e+01   5.12789443e+01\n",
      "   4.36019134e+01   3.72635772e+01   3.19993472e+01   2.76027435e+01\n",
      "   2.39114245e+01   2.07968507e+01   1.81565687e+01   1.59084037e+01\n",
      "   1.39860532e+01   1.23357195e+01   1.09135172e+01   9.68346422e+00\n",
      "   8.61591511e+00   7.68633168e+00   6.87431267e+00   6.16282374e+00\n",
      "   5.53758297e+00   4.98656814e+00   4.49961946e+00   4.06811776e+00\n",
      "   3.68472261e+00   3.34315800e+00   3.03803627e+00   2.76471264e+00\n",
      "   2.51916447e+00   2.29789065e+00   2.09782739e+00   1.91627772e+00\n",
      "   1.75085271e+00   1.59942303e+00   1.46008054e+00   1.33110990e+00\n",
      "   1.21097147e+00   1.09829709e+00   9.91900562e-01   8.90804038e-01\n",
      "   7.94278919e-01   7.01894874e-01   6.13563637e-01   5.29556755e-01\n",
      "   4.50473519e-01   3.77142538e-01   3.10460659e-01   2.51200420e-01\n",
      "   1.99837466e-01   1.56447577e-01   1.20697511e-01   9.19188331e-02\n",
      "   6.92289940e-02   5.16589712e-02   3.82580869e-02   2.81634581e-02\n",
      "   2.06351064e-02   1.50648443e-02   1.09686169e-02   7.97046415e-03\n",
      "   5.78375396e-03   4.19301460e-03   3.03798372e-03   2.20041292e-03\n",
      "   1.59357380e-03   1.15413709e-03   8.36009117e-04   6.05719019e-04\n",
      "   4.39001665e-04   3.18285151e-04   2.30853491e-04   1.67508354e-04\n",
      "   1.21597068e-04   8.83080586e-05   6.41608537e-05   4.66372403e-05\n",
      "   3.39146650e-05   2.46735807e-05   1.79582413e-05   1.30761072e-05\n",
      "   9.52513748e-06   6.94122363e-06   5.06017182e-06   3.69019654e-06\n",
      "   2.69201084e-06   1.96440889e-06   1.43382087e-06   1.04674221e-06\n",
      "   7.64243561e-07   5.57987853e-07   4.07339217e-07   2.97263572e-07\n",
      "   2.16803333e-07   1.57968746e-07   1.14931671e-07   8.34390506e-08\n",
      "   6.03860041e-08   4.35049797e-08   3.11393065e-08   2.20781666e-08\n",
      "   1.54362768e-08   1.05661312e-08   6.99396664e-09   4.37302102e-09\n",
      "   2.44940023e-09   1.03714327e-09   0.00000000e+00]\n"
     ]
    }
   ],
   "source": [
    "print R\n",
    "print UR"
   ]
  },
  {
   "cell_type": "code",
   "execution_count": 16,
   "metadata": {
    "collapsed": true
   },
   "outputs": [],
   "source": [
    "init_guess(R, UR, N_fix)"
   ]
  },
  {
   "cell_type": "code",
   "execution_count": 17,
   "metadata": {
    "collapsed": false
   },
   "outputs": [
    {
     "data": {
      "text/plain": [
       "115"
      ]
     },
     "execution_count": 17,
     "metadata": {},
     "output_type": "execute_result"
    }
   ],
   "source": [
    "len(R)"
   ]
  },
  {
   "cell_type": "code",
   "execution_count": 4,
   "metadata": {
    "collapsed": true
   },
   "outputs": [],
   "source": [
    "#FOR PRISM PENTAG"
   ]
  },
  {
   "cell_type": "code",
   "execution_count": 11,
   "metadata": {
    "collapsed": true
   },
   "outputs": [],
   "source": [
    "#trial ipl params\n",
    "d = 1.0\n",
    "a = 5.0\n",
    "A = 1.0\n",
    "k = 9.0\n",
    "\n",
    "#re potential constraints\n",
    "r_cut = 2.50\n",
    "dr = 0.015\n",
    "N_opt = 145\n",
    "N_fix = 3\n",
    "r_shrink = 1.10\n",
    "\n",
    "#vector of r values\n",
    "R_temp = [r_cut - i*dr for i in range(N_opt + N_fix)]\n",
    "R_temp.reverse()\n",
    "R = array(R_temp)\n",
    "\n",
    "#get the potential\n",
    "UR = ipl_pot(R, \n",
    "             d, a, A, k, \n",
    "             r_cut, dr, r_shrink)"
   ]
  },
  {
   "cell_type": "code",
   "execution_count": 13,
   "metadata": {
    "collapsed": false
   },
   "outputs": [
    {
     "name": "stdout",
     "output_type": "stream",
     "text": [
      "[ 0.295  0.31   0.325  0.34   0.355  0.37   0.385  0.4    0.415  0.43\n",
      "  0.445  0.46   0.475  0.49   0.505  0.52   0.535  0.55   0.565  0.58\n",
      "  0.595  0.61   0.625  0.64   0.655  0.67   0.685  0.7    0.715  0.73\n",
      "  0.745  0.76   0.775  0.79   0.805  0.82   0.835  0.85   0.865  0.88\n",
      "  0.895  0.91   0.925  0.94   0.955  0.97   0.985  1.     1.015  1.03\n",
      "  1.045  1.06   1.075  1.09   1.105  1.12   1.135  1.15   1.165  1.18\n",
      "  1.195  1.21   1.225  1.24   1.255  1.27   1.285  1.3    1.315  1.33\n",
      "  1.345  1.36   1.375  1.39   1.405  1.42   1.435  1.45   1.465  1.48\n",
      "  1.495  1.51   1.525  1.54   1.555  1.57   1.585  1.6    1.615  1.63\n",
      "  1.645  1.66   1.675  1.69   1.705  1.72   1.735  1.75   1.765  1.78\n",
      "  1.795  1.81   1.825  1.84   1.855  1.87   1.885  1.9    1.915  1.93\n",
      "  1.945  1.96   1.975  1.99   2.005  2.02   2.035  2.05   2.065  2.08\n",
      "  2.095  2.11   2.125  2.14   2.155  2.17   2.185  2.2    2.215  2.23\n",
      "  2.245  2.26   2.275  2.29   2.305  2.32   2.335  2.35   2.365  2.38\n",
      "  2.395  2.41   2.425  2.44   2.455  2.47   2.485  2.5  ]\n",
      "[  4.47599609e+02   3.49294093e+02   2.75792731e+02   2.20092335e+02\n",
      "   1.77360777e+02   1.44208389e+02   1.18221165e+02   9.76559207e+01\n",
      "   8.12376961e+01   6.80229103e+01   5.73055458e+01   4.85519335e+01\n",
      "   4.13548360e+01   3.54007285e+01   3.04462224e+01   2.63008984e+01\n",
      "   2.28146839e+01   1.98684854e+01   1.73671765e+01   1.52343048e+01\n",
      "   1.34080676e+01   1.18382270e+01   1.04837309e+01   9.31086510e+00\n",
      "   8.29180889e+00   7.40349996e+00   6.62673641e+00   5.94546303e+00\n",
      "   5.34620070e+00   4.81758805e+00   4.35001135e+00   3.93530420e+00\n",
      "   3.56650273e+00   3.23764496e+00   2.94360568e+00   2.67995984e+00\n",
      "   2.44286895e+00   2.22898629e+00   2.03537757e+00   1.85945450e+00\n",
      "   1.69891958e+00   1.55172098e+00   1.41601745e+00   1.29015353e+00\n",
      "   1.17264652e+00   1.06218696e+00   9.57654398e-01   8.58148935e-01\n",
      "   7.63035849e-01   6.71994764e-01   5.85057366e-01   5.02611091e-01\n",
      "   4.25346030e-01   3.54133894e-01   2.89851657e-01   2.33189494e-01\n",
      "   1.84496729e-01   1.43709183e-01   1.10370472e-01   8.37262372e-02\n",
      "   6.28516043e-02   4.67736638e-02   3.45650999e-02   2.54015925e-02\n",
      "   1.85871157e-02   1.35562692e-02   9.86303834e-03   7.16334366e-03\n",
      "   5.19620286e-03   3.76618727e-03   2.72836715e-03   1.97604140e-03\n",
      "   1.43107825e-03   1.03649391e-03   7.50849097e-04   5.44071157e-04\n",
      "   3.94367693e-04   2.85961777e-04   2.07438214e-04   1.50540265e-04\n",
      "   1.09296346e-04   7.93873389e-05   5.76887727e-05   4.19397950e-05\n",
      "   3.05039276e-05   2.21961912e-05   1.61581871e-05   1.17678237e-05\n",
      "   8.57406164e-06   6.24973180e-06   4.55740651e-06   3.32470385e-06\n",
      "   2.42640974e-06   1.77152973e-06   1.29390693e-06   9.45420713e-07\n",
      "   6.91053840e-07   5.05313169e-07   3.69631195e-07   2.70478808e-07\n",
      "   1.97993945e-07   1.44984667e-07   1.06204094e-07   7.78228307e-08\n",
      "   5.70449220e-08   4.18281661e-08   3.06803446e-08   2.25106983e-08\n",
      "   1.65216270e-08   1.21296868e-08   8.90793661e-09   6.54384877e-09\n",
      "   4.80856877e-09   3.53445668e-09   2.59867226e-09   1.91117320e-09\n",
      "   1.40593685e-09   1.03453732e-09   7.61444323e-10   5.60581112e-10\n",
      "   4.12803345e-10   3.04051927e-10   2.23999190e-10   1.65056327e-10\n",
      "   1.21645466e-10   8.96656348e-11   6.61008810e-11   4.87325862e-11\n",
      "   3.59282396e-11   2.64862789e-11   1.95220973e-11   1.43842682e-11\n",
      "   1.05929553e-11   7.79462804e-12   5.72874882e-12   4.20326356e-12\n",
      "   3.07656870e-12   2.24423386e-12   1.62922353e-12   1.17469789e-12\n",
      "   8.38708911e-13   5.90292207e-13   4.06585978e-13   2.70706408e-13\n",
      "   1.70182543e-13   9.57997184e-14   4.07497041e-14   0.00000000e+00]\n"
     ]
    }
   ],
   "source": [
    "print R\n",
    "print UR"
   ]
  },
  {
   "cell_type": "code",
   "execution_count": 14,
   "metadata": {
    "collapsed": true
   },
   "outputs": [],
   "source": [
    "init_guess(R, UR, N_fix)"
   ]
  },
  {
   "cell_type": "code",
   "execution_count": 15,
   "metadata": {
    "collapsed": false
   },
   "outputs": [
    {
     "data": {
      "text/plain": [
       "148"
      ]
     },
     "execution_count": 15,
     "metadata": {},
     "output_type": "execute_result"
    }
   ],
   "source": [
    "len(R)"
   ]
  },
  {
   "cell_type": "code",
   "execution_count": null,
   "metadata": {
    "collapsed": true
   },
   "outputs": [],
   "source": []
  },
  {
   "cell_type": "code",
   "execution_count": null,
   "metadata": {
    "collapsed": true
   },
   "outputs": [],
   "source": []
  },
  {
   "cell_type": "code",
   "execution_count": 22,
   "metadata": {
    "collapsed": true
   },
   "outputs": [],
   "source": [
    "#trial ipl params\n",
    "d = 1.0\n",
    "a = 5.0\n",
    "A = 1.0\n",
    "k = 9.0\n",
    "\n",
    "#re potential constraints\n",
    "r_cut = 2.70\n",
    "dr = 0.015\n",
    "N_opt = 156\n",
    "N_fix = 3\n",
    "r_shrink = 1.10\n",
    "\n",
    "#vector of r values\n",
    "R_temp = [r_cut - i*dr for i in range(N_opt + N_fix)]\n",
    "R_temp.reverse()\n",
    "R = array(R_temp)\n",
    "\n",
    "#get the potential\n",
    "UR = ipl_pot(R, \n",
    "             d, a, A, k, \n",
    "             r_cut, dr, r_shrink)"
   ]
  },
  {
   "cell_type": "code",
   "execution_count": 23,
   "metadata": {
    "collapsed": false
   },
   "outputs": [
    {
     "name": "stdout",
     "output_type": "stream",
     "text": [
      "[ 0.33   0.345  0.36   0.375  0.39   0.405  0.42   0.435  0.45   0.465\n",
      "  0.48   0.495  0.51   0.525  0.54   0.555  0.57   0.585  0.6    0.615\n",
      "  0.63   0.645  0.66   0.675  0.69   0.705  0.72   0.735  0.75   0.765\n",
      "  0.78   0.795  0.81   0.825  0.84   0.855  0.87   0.885  0.9    0.915\n",
      "  0.93   0.945  0.96   0.975  0.99   1.005  1.02   1.035  1.05   1.065\n",
      "  1.08   1.095  1.11   1.125  1.14   1.155  1.17   1.185  1.2    1.215\n",
      "  1.23   1.245  1.26   1.275  1.29   1.305  1.32   1.335  1.35   1.365\n",
      "  1.38   1.395  1.41   1.425  1.44   1.455  1.47   1.485  1.5    1.515\n",
      "  1.53   1.545  1.56   1.575  1.59   1.605  1.62   1.635  1.65   1.665\n",
      "  1.68   1.695  1.71   1.725  1.74   1.755  1.77   1.785  1.8    1.815\n",
      "  1.83   1.845  1.86   1.875  1.89   1.905  1.92   1.935  1.95   1.965\n",
      "  1.98   1.995  2.01   2.025  2.04   2.055  2.07   2.085  2.1    2.115\n",
      "  2.13   2.145  2.16   2.175  2.19   2.205  2.22   2.235  2.25   2.265\n",
      "  2.28   2.295  2.31   2.325  2.34   2.355  2.37   2.385  2.4    2.415\n",
      "  2.43   2.445  2.46   2.475  2.49   2.505  2.52   2.535  2.55   2.565\n",
      "  2.58   2.595  2.61   2.625  2.64   2.655  2.67   2.685  2.7  ]\n",
      "[  2.55522934e+02   2.04599223e+02   1.65381445e+02   1.34847447e+02\n",
      "   1.10834698e+02   9.17747651e+01   7.65158574e+01   6.42023560e+01\n",
      "   5.41918315e+01   4.59971070e+01   3.92452981e+01   3.36485155e+01\n",
      "   2.89826781e+01   2.50720352e+01   2.17777496e+01   1.89894000e+01\n",
      "   1.66186021e+01   1.45941820e+01   1.28584954e+01   1.13646017e+01\n",
      "   1.00740776e+01   8.95531701e+00   7.98219857e+00   7.13303642e+00\n",
      "   6.38974908e+00   5.73719732e+00   5.16265408e+00   4.65537787e+00\n",
      "   4.20626778e+00   3.80758306e+00   3.45271418e+00   3.13599489e+00\n",
      "   2.85254733e+00   2.59815356e+00   2.36914874e+00   2.16233175e+00\n",
      "   1.97489044e+00   1.80433907e+00   1.64846654e+00   1.50529464e+00\n",
      "   1.37304624e+00   1.25012429e+00   1.13510307e+00   1.02673358e+00\n",
      "   9.23964622e-01   8.25979273e-01   7.32242286e-01   6.42547626e-01\n",
      "   5.57047538e-01   4.76239554e-01   4.00891022e-01   3.31896815e-01\n",
      "   2.70092226e-01   2.16067564e-01   1.70037656e-01   1.31800921e-01\n",
      "   1.00788657e-01   7.61750669e-02   5.70067616e-02   4.23174016e-02\n",
      "   3.12093693e-02   2.28996382e-02   1.67363145e-02   1.21954752e-02\n",
      "   8.86716753e-03   6.43707843e-03   4.66791687e-03   3.38262251e-03\n",
      "   2.45023655e-03   1.77453517e-03   1.28516215e-03   9.30859847e-04\n",
      "   6.74381901e-04   4.88713158e-04   3.54284034e-04   2.56930136e-04\n",
      "   1.86404348e-04   1.35295216e-04   9.82424802e-05   7.13689997e-05\n",
      "   5.18698089e-05   3.77150393e-05   2.74352298e-05   1.99661965e-05\n",
      "   1.45369363e-05   1.05886110e-05   7.71598164e-06   5.62505548e-06\n",
      "   4.10244831e-06   2.99321074e-06   2.18477391e-06   1.59532030e-06\n",
      "   1.16535605e-06   8.51600547e-07   6.22553979e-07   4.55280616e-07\n",
      "   3.33073208e-07   2.43756392e-07   1.78453690e-07   1.30691020e-07\n",
      "   9.57445795e-08   7.01662845e-08   5.14382578e-08   3.77211750e-08\n",
      "   2.76708897e-08   2.03047567e-08   1.49041452e-08   1.09433144e-08\n",
      "   8.03750312e-09   5.90502729e-09   4.33959481e-09   3.19007621e-09\n",
      "   2.34571727e-09   1.72532600e-09   1.26936281e-09   9.34152334e-10\n",
      "   6.87646505e-10   5.06321855e-10   3.72906818e-10   2.74716364e-10\n",
      "   2.02431288e-10   1.49203156e-10   1.09997795e-10   8.11136370e-11\n",
      "   5.98282048e-11   4.41385926e-11   3.25708805e-11   2.40401397e-11\n",
      "   1.77475597e-11   1.31048462e-11   9.67862838e-12   7.14958314e-12\n",
      "   5.28236364e-12   3.90347184e-12   2.88497513e-12   2.13251602e-12\n",
      "   1.57648643e-12   1.16552232e-12   8.61713501e-13   6.37074964e-13\n",
      "   4.70941126e-13   3.48050797e-13   2.57130762e-13   1.89849720e-13\n",
      "   1.40052955e-13   1.03189521e-13   7.58951535e-14   5.56820369e-14\n",
      "   4.07107632e-14   2.96192587e-14   2.14015246e-14   1.53108851e-14\n",
      "   1.07967200e-14   7.45008166e-15   4.96888834e-15   3.12857063e-15\n",
      "   1.76365293e-15   7.51336099e-16   0.00000000e+00]\n"
     ]
    }
   ],
   "source": [
    "print R\n",
    "print UR"
   ]
  },
  {
   "cell_type": "code",
   "execution_count": 24,
   "metadata": {
    "collapsed": true
   },
   "outputs": [],
   "source": [
    "init_guess(R, UR, N_fix)"
   ]
  },
  {
   "cell_type": "code",
   "execution_count": 25,
   "metadata": {
    "collapsed": false
   },
   "outputs": [
    {
     "data": {
      "text/plain": [
       "159"
      ]
     },
     "execution_count": 25,
     "metadata": {},
     "output_type": "execute_result"
    }
   ],
   "source": [
    "len(R)"
   ]
  },
  {
   "cell_type": "code",
   "execution_count": null,
   "metadata": {
    "collapsed": true
   },
   "outputs": [],
   "source": []
  },
  {
   "cell_type": "code",
   "execution_count": null,
   "metadata": {
    "collapsed": true
   },
   "outputs": [],
   "source": []
  },
  {
   "cell_type": "code",
   "execution_count": null,
   "metadata": {
    "collapsed": true
   },
   "outputs": [],
   "source": [
    "#"
   ]
  },
  {
   "cell_type": "code",
   "execution_count": 53,
   "metadata": {
    "collapsed": true
   },
   "outputs": [],
   "source": [
    "#trial ipl params\n",
    "d = 1.0\n",
    "a = 5.0\n",
    "A = 1.0\n",
    "k = 9.0\n",
    "\n",
    "#re potential constraints\n",
    "r_cut = 3.6\n",
    "dr = 0.015\n",
    "N_opt = 216\n",
    "N_fix = 3\n",
    "r_shrink = 1.10\n",
    "\n",
    "#vector of r values\n",
    "R_temp = [r_cut - i*dr for i in range(N_opt + N_fix)]\n",
    "R_temp.reverse()\n",
    "R = array(R_temp)\n",
    "\n",
    "#get the potential\n",
    "UR = ipl_pot(R, \n",
    "             d, a, A, k, \n",
    "             r_cut, dr, r_shrink)"
   ]
  },
  {
   "cell_type": "code",
   "execution_count": 54,
   "metadata": {
    "collapsed": false
   },
   "outputs": [
    {
     "name": "stdout",
     "output_type": "stream",
     "text": [
      "[ 0.33   0.345  0.36   0.375  0.39   0.405  0.42   0.435  0.45   0.465\n",
      "  0.48   0.495  0.51   0.525  0.54   0.555  0.57   0.585  0.6    0.615\n",
      "  0.63   0.645  0.66   0.675  0.69   0.705  0.72   0.735  0.75   0.765\n",
      "  0.78   0.795  0.81   0.825  0.84   0.855  0.87   0.885  0.9    0.915\n",
      "  0.93   0.945  0.96   0.975  0.99   1.005  1.02   1.035  1.05   1.065\n",
      "  1.08   1.095  1.11   1.125  1.14   1.155  1.17   1.185  1.2    1.215\n",
      "  1.23   1.245  1.26   1.275  1.29   1.305  1.32   1.335  1.35   1.365\n",
      "  1.38   1.395  1.41   1.425  1.44   1.455  1.47   1.485  1.5    1.515\n",
      "  1.53   1.545  1.56   1.575  1.59   1.605  1.62   1.635  1.65   1.665\n",
      "  1.68   1.695  1.71   1.725  1.74   1.755  1.77   1.785  1.8    1.815\n",
      "  1.83   1.845  1.86   1.875  1.89   1.905  1.92   1.935  1.95   1.965\n",
      "  1.98   1.995  2.01   2.025  2.04   2.055  2.07   2.085  2.1    2.115\n",
      "  2.13   2.145  2.16   2.175  2.19   2.205  2.22   2.235  2.25   2.265\n",
      "  2.28   2.295  2.31   2.325  2.34   2.355  2.37   2.385  2.4    2.415\n",
      "  2.43   2.445  2.46   2.475  2.49   2.505  2.52   2.535  2.55   2.565\n",
      "  2.58   2.595  2.61   2.625  2.64   2.655  2.67   2.685  2.7    2.715\n",
      "  2.73   2.745  2.76   2.775  2.79   2.805  2.82   2.835  2.85   2.865\n",
      "  2.88   2.895  2.91   2.925  2.94   2.955  2.97   2.985  3.     3.015\n",
      "  3.03   3.045  3.06   3.075  3.09   3.105  3.12   3.135  3.15   3.165\n",
      "  3.18   3.195  3.21   3.225  3.24   3.255  3.27   3.285  3.3    3.315\n",
      "  3.33   3.345  3.36   3.375  3.39   3.405  3.42   3.435  3.45   3.465\n",
      "  3.48   3.495  3.51   3.525  3.54   3.555  3.57   3.585  3.6  ]\n",
      "[  2.55522934e+02   2.04599223e+02   1.65381445e+02   1.34847447e+02\n",
      "   1.10834698e+02   9.17747651e+01   7.65158574e+01   6.42023560e+01\n",
      "   5.41918315e+01   4.59971070e+01   3.92452981e+01   3.36485155e+01\n",
      "   2.89826781e+01   2.50720352e+01   2.17777496e+01   1.89894000e+01\n",
      "   1.66186021e+01   1.45941820e+01   1.28584954e+01   1.13646017e+01\n",
      "   1.00740776e+01   8.95531701e+00   7.98219857e+00   7.13303642e+00\n",
      "   6.38974908e+00   5.73719732e+00   5.16265408e+00   4.65537787e+00\n",
      "   4.20626778e+00   3.80758306e+00   3.45271418e+00   3.13599489e+00\n",
      "   2.85254733e+00   2.59815356e+00   2.36914874e+00   2.16233175e+00\n",
      "   1.97489044e+00   1.80433907e+00   1.64846654e+00   1.50529464e+00\n",
      "   1.37304624e+00   1.25012429e+00   1.13510307e+00   1.02673358e+00\n",
      "   9.23964622e-01   8.25979273e-01   7.32242286e-01   6.42547626e-01\n",
      "   5.57047538e-01   4.76239554e-01   4.00891022e-01   3.31896815e-01\n",
      "   2.70092226e-01   2.16067564e-01   1.70037656e-01   1.31800921e-01\n",
      "   1.00788657e-01   7.61750669e-02   5.70067616e-02   4.23174016e-02\n",
      "   3.12093693e-02   2.28996382e-02   1.67363145e-02   1.21954752e-02\n",
      "   8.86716753e-03   6.43707843e-03   4.66791687e-03   3.38262251e-03\n",
      "   2.45023655e-03   1.77453517e-03   1.28516215e-03   9.30859847e-04\n",
      "   6.74381901e-04   4.88713158e-04   3.54284034e-04   2.56930136e-04\n",
      "   1.86404348e-04   1.35295216e-04   9.82424802e-05   7.13689997e-05\n",
      "   5.18698089e-05   3.77150393e-05   2.74352298e-05   1.99661965e-05\n",
      "   1.45369363e-05   1.05886110e-05   7.71598164e-06   5.62505548e-06\n",
      "   4.10244831e-06   2.99321075e-06   2.18477392e-06   1.59532030e-06\n",
      "   1.16535605e-06   8.51600549e-07   6.22553981e-07   4.55280618e-07\n",
      "   3.33073211e-07   2.43756395e-07   1.78453692e-07   1.30691022e-07\n",
      "   9.57445816e-08   7.01662867e-08   5.14382600e-08   3.77211772e-08\n",
      "   2.76708918e-08   2.03047588e-08   1.49041473e-08   1.09433165e-08\n",
      "   8.03750529e-09   5.90502945e-09   4.33959698e-09   3.19007837e-09\n",
      "   2.34571943e-09   1.72532817e-09   1.26936497e-09   9.34154499e-10\n",
      "   6.87648670e-10   5.06324020e-10   3.72908983e-10   2.74718529e-10\n",
      "   2.02433453e-10   1.49205321e-10   1.09999960e-10   8.11158023e-11\n",
      "   5.98303701e-11   4.41407579e-11   3.25730458e-11   2.40423050e-11\n",
      "   1.77497250e-11   1.31070115e-11   9.68079367e-12   7.15174844e-12\n",
      "   5.28452893e-12   3.90563713e-12   2.88714042e-12   2.13468132e-12\n",
      "   1.57865172e-12   1.16768761e-12   8.63878794e-13   6.39240257e-13\n",
      "   4.73106420e-13   3.50216090e-13   2.59296056e-13   1.92015013e-13\n",
      "   1.42218249e-13   1.05354815e-13   7.80604468e-14   5.78473302e-14\n",
      "   4.28760564e-14   3.17845519e-14   2.35668178e-14   1.74761784e-14\n",
      "   1.29620132e-14   9.61537490e-15   7.13418159e-15   5.29386387e-15\n",
      "   3.92894617e-15   2.91662934e-15   2.16529324e-15   1.60754193e-15\n",
      "   1.19412820e-15   8.86886077e-16   6.58896106e-16   4.89477473e-16\n",
      "   3.63830395e-16   2.70449554e-16   2.00767960e-16   1.49438272e-16\n",
      "   1.11005316e-16   8.25351603e-17   6.13566882e-17   4.55883491e-17\n",
      "   3.40506384e-17   2.54083789e-17   1.87014509e-17   1.40432512e-17\n",
      "   1.03291942e-17   7.72987546e-18   5.71102379e-18   4.23347747e-18\n",
      "   3.26030591e-18   2.33257939e-18   1.86215407e-18   1.41335960e-18\n",
      "   9.85275858e-19   7.69364606e-19   5.63285431e-19   3.66625361e-19\n",
      "   3.57978926e-19   1.74788020e-19   1.70704368e-19   1.66734673e-19\n",
      "   1.62875241e-19   0.00000000e+00   0.00000000e+00   0.00000000e+00\n",
      "   0.00000000e+00   0.00000000e+00   0.00000000e+00   0.00000000e+00\n",
      "   0.00000000e+00   0.00000000e+00   0.00000000e+00   0.00000000e+00\n",
      "   0.00000000e+00   0.00000000e+00   0.00000000e+00   0.00000000e+00\n",
      "   0.00000000e+00   0.00000000e+00   0.00000000e+00   0.00000000e+00\n",
      "   0.00000000e+00   0.00000000e+00   0.00000000e+00   0.00000000e+00\n",
      "   0.00000000e+00   0.00000000e+00   0.00000000e+00]\n"
     ]
    }
   ],
   "source": [
    "print R\n",
    "print UR"
   ]
  },
  {
   "cell_type": "code",
   "execution_count": 55,
   "metadata": {
    "collapsed": true
   },
   "outputs": [],
   "source": [
    "init_guess(R, UR, N_fix)"
   ]
  },
  {
   "cell_type": "code",
   "execution_count": 56,
   "metadata": {
    "collapsed": false
   },
   "outputs": [
    {
     "data": {
      "text/plain": [
       "219"
      ]
     },
     "execution_count": 56,
     "metadata": {},
     "output_type": "execute_result"
    }
   ],
   "source": [
    "len(R)"
   ]
  },
  {
   "cell_type": "code",
   "execution_count": null,
   "metadata": {
    "collapsed": true
   },
   "outputs": [],
   "source": []
  },
  {
   "cell_type": "code",
   "execution_count": null,
   "metadata": {
    "collapsed": true
   },
   "outputs": [],
   "source": []
  },
  {
   "cell_type": "code",
   "execution_count": null,
   "metadata": {
    "collapsed": true
   },
   "outputs": [],
   "source": []
  },
  {
   "cell_type": "code",
   "execution_count": null,
   "metadata": {
    "collapsed": true
   },
   "outputs": [],
   "source": []
  },
  {
   "cell_type": "code",
   "execution_count": 79,
   "metadata": {
    "collapsed": true
   },
   "outputs": [],
   "source": [
    "#trial ipl params\n",
    "d = 1.0\n",
    "a = 5.0\n",
    "A = 8.0\n",
    "k = 9.0\n",
    "\n",
    "#re potential constraints\n",
    "r_cut = 7.1\n",
    "dr = 0.03\n",
    "N_opt = 221\n",
    "N_fix = 3\n",
    "r_shrink = 4.2\n",
    "\n",
    "#vector of r values\n",
    "R_temp = [r_cut - i*dr for i in range(N_opt + N_fix)]\n",
    "R_temp.reverse()\n",
    "R = array(R_temp)\n",
    "\n",
    "#get the potential\n",
    "UR = ipl_pot(R, \n",
    "             d, a, A, k, \n",
    "             r_cut, dr, r_shrink)"
   ]
  },
  {
   "cell_type": "code",
   "execution_count": 80,
   "metadata": {
    "collapsed": false
   },
   "outputs": [
    {
     "name": "stdout",
     "output_type": "stream",
     "text": [
      "[ 0.41  0.44  0.47  0.5   0.53  0.56  0.59  0.62  0.65  0.68  0.71  0.74\n",
      "  0.77  0.8   0.83  0.86  0.89  0.92  0.95  0.98  1.01  1.04  1.07  1.1\n",
      "  1.13  1.16  1.19  1.22  1.25  1.28  1.31  1.34  1.37  1.4   1.43  1.46\n",
      "  1.49  1.52  1.55  1.58  1.61  1.64  1.67  1.7   1.73  1.76  1.79  1.82\n",
      "  1.85  1.88  1.91  1.94  1.97  2.    2.03  2.06  2.09  2.12  2.15  2.18\n",
      "  2.21  2.24  2.27  2.3   2.33  2.36  2.39  2.42  2.45  2.48  2.51  2.54\n",
      "  2.57  2.6   2.63  2.66  2.69  2.72  2.75  2.78  2.81  2.84  2.87  2.9\n",
      "  2.93  2.96  2.99  3.02  3.05  3.08  3.11  3.14  3.17  3.2   3.23  3.26\n",
      "  3.29  3.32  3.35  3.38  3.41  3.44  3.47  3.5   3.53  3.56  3.59  3.62\n",
      "  3.65  3.68  3.71  3.74  3.77  3.8   3.83  3.86  3.89  3.92  3.95  3.98\n",
      "  4.01  4.04  4.07  4.1   4.13  4.16  4.19  4.22  4.25  4.28  4.31  4.34\n",
      "  4.37  4.4   4.43  4.46  4.49  4.52  4.55  4.58  4.61  4.64  4.67  4.7\n",
      "  4.73  4.76  4.79  4.82  4.85  4.88  4.91  4.94  4.97  5.    5.03  5.06\n",
      "  5.09  5.12  5.15  5.18  5.21  5.24  5.27  5.3   5.33  5.36  5.39  5.42\n",
      "  5.45  5.48  5.51  5.54  5.57  5.6   5.63  5.66  5.69  5.72  5.75  5.78\n",
      "  5.81  5.84  5.87  5.9   5.93  5.96  5.99  6.02  6.05  6.08  6.11  6.14\n",
      "  6.17  6.2   6.23  6.26  6.29  6.32  6.35  6.38  6.41  6.44  6.47  6.5\n",
      "  6.53  6.56  6.59  6.62  6.65  6.68  6.71  6.74  6.77  6.8   6.83  6.86\n",
      "  6.89  6.92  6.95  6.98  7.01  7.04  7.07  7.1 ]\n",
      "[  6.90511162e+02   4.85094784e+02   3.48819453e+02   2.56000000e+02\n",
      "   1.91298092e+02   1.45261275e+02   1.11899959e+02   8.73235815e+01\n",
      "   6.89482430e+01   5.50231467e+01   4.43402608e+01   3.60521682e+01\n",
      "   2.95553673e+01   2.44140625e+01   2.03095137e+01   1.70058260e+01\n",
      "   1.43264950e+01   1.21381039e+01   1.03388435e+01   8.85033294e+00\n",
      "   7.61172550e+00   6.57541685e+00   5.70388944e+00   4.96737058e+00\n",
      "   4.34207949e+00   3.80890412e+00   3.35239497e+00   2.95999402e+00\n",
      "   2.62144000e+00   2.32830644e+00   2.07364070e+00   1.85168025e+00\n",
      "   1.65762829e+00   1.48747546e+00   1.33785732e+00   1.20594002e+00\n",
      "   1.08932795e+00   9.85988949e-01   8.94193474e-01   8.12464796e-01\n",
      "   7.39538191e-01   6.74327307e-01   6.15896351e-01   5.63437022e-01\n",
      "   5.16249295e-01   4.73725375e-01   4.35336250e-01   4.00620388e-01\n",
      "   3.69174202e-01   3.40643998e-01   3.14719136e-01   2.91126231e-01\n",
      "   2.69624192e-01   2.50000000e-01   2.32065081e-01   2.15652196e-01\n",
      "   2.00612762e-01   1.86814543e-01   1.74139658e-01   1.62482847e-01\n",
      "   1.51749972e-01   1.41856714e-01   1.32727435e-01   1.24294184e-01\n",
      "   1.16495831e-01   1.09277304e-01   1.02588926e-01   9.63858224e-02\n",
      "   9.06274093e-02   8.52769350e-02   8.03010788e-02   7.56695940e-02\n",
      "   7.13549934e-02   6.73322686e-02   6.35786416e-02   6.00733435e-02\n",
      "   5.67974172e-02   5.37335417e-02   5.08658748e-02   4.81799126e-02\n",
      "   4.56623636e-02   4.33010360e-02   4.10847363e-02   3.90031782e-02\n",
      "   3.70469010e-02   3.52071955e-02   3.34760375e-02   3.18460280e-02\n",
      "   3.03103387e-02   2.88626633e-02   2.74971727e-02   2.62084746e-02\n",
      "   2.49915776e-02   2.38418575e-02   2.27550275e-02   2.17271102e-02\n",
      "   2.07544134e-02   1.98335069e-02   1.89612015e-02   1.81345305e-02\n",
      "   1.73507320e-02   1.66072329e-02   1.59016342e-02   1.52316973e-02\n",
      "   1.45953309e-02   1.39905789e-02   1.34156075e-02   1.28686929e-02\n",
      "   1.23482062e-02   1.18525966e-02   1.13803673e-02   1.09300432e-02\n",
      "   1.05001216e-02   1.00889945e-02   9.69482733e-03   9.31536195e-03\n",
      "   8.94760202e-03   8.58731117e-03   8.22823211e-03   7.86092304e-03\n",
      "   7.47117170e-03   7.03823598e-03   6.53397665e-03   5.92561419e-03\n",
      "   5.18670731e-03   4.31901515e-03   3.37535811e-03   2.45655689e-03\n",
      "   1.66770434e-03   1.06694677e-03   6.52577172e-04   3.86910673e-04\n",
      "   2.24823442e-04   1.29020628e-04   7.34905456e-05   4.16779429e-05\n",
      "   2.35775698e-05   1.33197244e-05   7.51936215e-06   4.24349651e-06\n",
      "   2.39453584e-06   1.35123222e-06   7.62574547e-07   4.30424286e-07\n",
      "   2.42987366e-07   1.37198273e-07   7.74808570e-08   4.37645227e-08\n",
      "   2.47247696e-08   1.39708979e-08   7.89583064e-09   4.46325840e-09\n",
      "   2.52340006e-09   1.42691855e-09   8.07031267e-10   4.56518877e-10\n",
      "   2.58287523e-10   1.46158317e-10   8.27214589e-11   4.68259415e-11\n",
      "   2.65110961e-11   1.50120792e-11   8.50207998e-12   4.81592700e-12\n",
      "   2.72837572e-12   1.54595644e-12   8.76109392e-13   4.96577194e-13\n",
      "   2.81502064e-13   1.59603504e-13   9.05040683e-14   5.13284619e-14\n",
      "   2.91146894e-14   1.65168754e-14   9.37149521e-15   5.31799150e-15\n",
      "   3.01821227e-15   1.71319478e-15   9.72610073e-16   5.52221977e-16\n",
      "   3.13596476e-16   1.78079156e-16   1.01188280e-16   5.74581840e-17\n",
      "   3.26426583e-17   1.85425121e-17   1.05387038e-17   6.00995946e-18\n",
      "   3.39691780e-18   1.92422045e-18   1.09517486e-18   6.10674255e-19\n",
      "   3.47650166e-19   1.93897301e-19   9.46367862e-20   4.61953812e-20\n",
      "   4.51042010e-20   0.00000000e+00   0.00000000e+00   0.00000000e+00\n",
      "   0.00000000e+00   0.00000000e+00   0.00000000e+00   0.00000000e+00\n",
      "   0.00000000e+00   0.00000000e+00   0.00000000e+00   0.00000000e+00\n",
      "   0.00000000e+00   0.00000000e+00   0.00000000e+00   0.00000000e+00\n",
      "   0.00000000e+00   0.00000000e+00   0.00000000e+00   0.00000000e+00\n",
      "   0.00000000e+00   0.00000000e+00   0.00000000e+00   0.00000000e+00\n",
      "   0.00000000e+00   0.00000000e+00   0.00000000e+00   0.00000000e+00]\n"
     ]
    }
   ],
   "source": [
    "print R\n",
    "print UR"
   ]
  },
  {
   "cell_type": "code",
   "execution_count": 81,
   "metadata": {
    "collapsed": true
   },
   "outputs": [],
   "source": [
    "init_guess(R, UR, N_fix)"
   ]
  },
  {
   "cell_type": "code",
   "execution_count": 82,
   "metadata": {
    "collapsed": false
   },
   "outputs": [
    {
     "data": {
      "text/plain": [
       "224"
      ]
     },
     "execution_count": 82,
     "metadata": {},
     "output_type": "execute_result"
    }
   ],
   "source": [
    "len(R)"
   ]
  },
  {
   "cell_type": "code",
   "execution_count": null,
   "metadata": {
    "collapsed": true
   },
   "outputs": [],
   "source": []
  },
  {
   "cell_type": "code",
   "execution_count": null,
   "metadata": {
    "collapsed": true
   },
   "outputs": [],
   "source": []
  },
  {
   "cell_type": "code",
   "execution_count": null,
   "metadata": {
    "collapsed": true
   },
   "outputs": [],
   "source": [
    "#RECT KAGOME"
   ]
  },
  {
   "cell_type": "code",
   "execution_count": 12,
   "metadata": {
    "collapsed": false
   },
   "outputs": [],
   "source": [
    "#trial ipl params\n",
    "d = 1.0\n",
    "a = 5.0\n",
    "A = 1.0\n",
    "k = 9.0\n",
    "\n",
    "#re potential constraints\n",
    "r_cut = 5.5\n",
    "dr = 0.015\n",
    "N_opt = 342\n",
    "N_fix = 3\n",
    "r_shrink = 1.10\n",
    "\n",
    "#vector of r values\n",
    "R_temp = [r_cut - i*dr for i in range(N_opt + N_fix)]\n",
    "R_temp.reverse()\n",
    "R = array(R_temp)\n",
    "\n",
    "#get the potential\n",
    "UR = ipl_pot(R, \n",
    "             d, a, A, k, \n",
    "             r_cut, dr, r_shrink)"
   ]
  },
  {
   "cell_type": "code",
   "execution_count": 13,
   "metadata": {
    "collapsed": false,
    "scrolled": true
   },
   "outputs": [
    {
     "name": "stdout",
     "output_type": "stream",
     "text": [
      "[ 0.34   0.355  0.37   0.385  0.4    0.415  0.43   0.445  0.46   0.475\n",
      "  0.49   0.505  0.52   0.535  0.55   0.565  0.58   0.595  0.61   0.625\n",
      "  0.64   0.655  0.67   0.685  0.7    0.715  0.73   0.745  0.76   0.775\n",
      "  0.79   0.805  0.82   0.835  0.85   0.865  0.88   0.895  0.91   0.925\n",
      "  0.94   0.955  0.97   0.985  1.     1.015  1.03   1.045  1.06   1.075\n",
      "  1.09   1.105  1.12   1.135  1.15   1.165  1.18   1.195  1.21   1.225\n",
      "  1.24   1.255  1.27   1.285  1.3    1.315  1.33   1.345  1.36   1.375\n",
      "  1.39   1.405  1.42   1.435  1.45   1.465  1.48   1.495  1.51   1.525\n",
      "  1.54   1.555  1.57   1.585  1.6    1.615  1.63   1.645  1.66   1.675\n",
      "  1.69   1.705  1.72   1.735  1.75   1.765  1.78   1.795  1.81   1.825\n",
      "  1.84   1.855  1.87   1.885  1.9    1.915  1.93   1.945  1.96   1.975\n",
      "  1.99   2.005  2.02   2.035  2.05   2.065  2.08   2.095  2.11   2.125\n",
      "  2.14   2.155  2.17   2.185  2.2    2.215  2.23   2.245  2.26   2.275\n",
      "  2.29   2.305  2.32   2.335  2.35   2.365  2.38   2.395  2.41   2.425\n",
      "  2.44   2.455  2.47   2.485  2.5    2.515  2.53   2.545  2.56   2.575\n",
      "  2.59   2.605  2.62   2.635  2.65   2.665  2.68   2.695  2.71   2.725\n",
      "  2.74   2.755  2.77   2.785  2.8    2.815  2.83   2.845  2.86   2.875\n",
      "  2.89   2.905  2.92   2.935  2.95   2.965  2.98   2.995  3.01   3.025\n",
      "  3.04   3.055  3.07   3.085  3.1    3.115  3.13   3.145  3.16   3.175\n",
      "  3.19   3.205  3.22   3.235  3.25   3.265  3.28   3.295  3.31   3.325\n",
      "  3.34   3.355  3.37   3.385  3.4    3.415  3.43   3.445  3.46   3.475\n",
      "  3.49   3.505  3.52   3.535  3.55   3.565  3.58   3.595  3.61   3.625\n",
      "  3.64   3.655  3.67   3.685  3.7    3.715  3.73   3.745  3.76   3.775\n",
      "  3.79   3.805  3.82   3.835  3.85   3.865  3.88   3.895  3.91   3.925\n",
      "  3.94   3.955  3.97   3.985  4.     4.015  4.03   4.045  4.06   4.075\n",
      "  4.09   4.105  4.12   4.135  4.15   4.165  4.18   4.195  4.21   4.225\n",
      "  4.24   4.255  4.27   4.285  4.3    4.315  4.33   4.345  4.36   4.375\n",
      "  4.39   4.405  4.42   4.435  4.45   4.465  4.48   4.495  4.51   4.525\n",
      "  4.54   4.555  4.57   4.585  4.6    4.615  4.63   4.645  4.66   4.675\n",
      "  4.69   4.705  4.72   4.735  4.75   4.765  4.78   4.795  4.81   4.825\n",
      "  4.84   4.855  4.87   4.885  4.9    4.915  4.93   4.945  4.96   4.975\n",
      "  4.99   5.005  5.02   5.035  5.05   5.065  5.08   5.095  5.11   5.125\n",
      "  5.14   5.155  5.17   5.185  5.2    5.215  5.23   5.245  5.26   5.275\n",
      "  5.29   5.305  5.32   5.335  5.35   5.365  5.38   5.395  5.41   5.425\n",
      "  5.44   5.455  5.47   5.485  5.5  ]\n",
      "[  2.20092335e+02   1.77360777e+02   1.44208389e+02   1.18221165e+02\n",
      "   9.76559207e+01   8.12376961e+01   6.80229103e+01   5.73055458e+01\n",
      "   4.85519335e+01   4.13548360e+01   3.54007285e+01   3.04462224e+01\n",
      "   2.63008984e+01   2.28146839e+01   1.98684854e+01   1.73671765e+01\n",
      "   1.52343048e+01   1.34080676e+01   1.18382270e+01   1.04837309e+01\n",
      "   9.31086510e+00   8.29180889e+00   7.40349996e+00   6.62673641e+00\n",
      "   5.94546303e+00   5.34620070e+00   4.81758805e+00   4.35001135e+00\n",
      "   3.93530420e+00   3.56650273e+00   3.23764496e+00   2.94360568e+00\n",
      "   2.67995984e+00   2.44286895e+00   2.22898629e+00   2.03537757e+00\n",
      "   1.85945450e+00   1.69891958e+00   1.55172098e+00   1.41601745e+00\n",
      "   1.29015353e+00   1.17264652e+00   1.06218696e+00   9.57654398e-01\n",
      "   8.58148935e-01   7.63035849e-01   6.71994764e-01   5.85057366e-01\n",
      "   5.02611091e-01   4.25346030e-01   3.54133894e-01   2.89851657e-01\n",
      "   2.33189494e-01   1.84496729e-01   1.43709183e-01   1.10370472e-01\n",
      "   8.37262372e-02   6.28516043e-02   4.67736638e-02   3.45650999e-02\n",
      "   2.54015925e-02   1.85871157e-02   1.35562692e-02   9.86303834e-03\n",
      "   7.16334366e-03   5.19620286e-03   3.76618727e-03   2.72836715e-03\n",
      "   1.97604140e-03   1.43107825e-03   1.03649391e-03   7.50849097e-04\n",
      "   5.44071158e-04   3.94367694e-04   2.85961777e-04   2.07438214e-04\n",
      "   1.50540265e-04   1.09296346e-04   7.93873390e-05   5.76887729e-05\n",
      "   4.19397951e-05   3.05039278e-05   2.21961913e-05   1.61581873e-05\n",
      "   1.17678238e-05   8.57406175e-06   6.24973192e-06   4.55740662e-06\n",
      "   3.32470397e-06   2.42640986e-06   1.77152984e-06   1.29390705e-06\n",
      "   9.45420830e-07   6.91053957e-07   5.05313285e-07   3.69631312e-07\n",
      "   2.70478925e-07   1.97994061e-07   1.44984783e-07   1.06204210e-07\n",
      "   7.78229471e-08   5.70450384e-08   4.18282825e-08   3.06804610e-08\n",
      "   2.25108147e-08   1.65217435e-08   1.21298032e-08   8.90805304e-09\n",
      "   6.54396520e-09   4.80868521e-09   3.53457312e-09   2.59878869e-09\n",
      "   1.91128963e-09   1.40605329e-09   1.03465375e-09   7.61560757e-10\n",
      "   5.60697546e-10   4.12919779e-10   3.04168361e-10   2.24115623e-10\n",
      "   1.65172761e-10   1.21761900e-10   8.97820683e-11   6.62173145e-11\n",
      "   4.88490197e-11   3.60446731e-11   2.66027124e-11   1.96385308e-11\n",
      "   1.45007017e-11   1.07093888e-11   7.91106155e-12   5.84518233e-12\n",
      "   4.31969707e-12   3.19300221e-12   2.36066737e-12   1.74565705e-12\n",
      "   1.29113140e-12   9.55142422e-13   7.06725719e-13   5.23019489e-13\n",
      "   3.87139919e-13   2.86616054e-13   2.12233230e-13   1.57183216e-13\n",
      "   1.16433512e-13   8.62640485e-14   6.39231649e-14   4.73761514e-14\n",
      "   3.51188253e-14   2.60373492e-14   1.93073338e-14   1.43191767e-14\n",
      "   1.06216122e-14   7.88034297e-15   5.84734380e-15   4.33965854e-15\n",
      "   3.22098663e-15   2.39123120e-15   1.77547841e-15   1.31854285e-15\n",
      "   9.79116847e-16   7.27504281e-16   5.40545040e-16   4.01565928e-16\n",
      "   2.98353963e-16   2.21713909e-16   1.64830214e-16   1.22706084e-16\n",
      "   9.10918907e-17   6.78269410e-17   5.03897391e-17   3.75644977e-17\n",
      "   2.79801317e-17   2.06454677e-17   1.54050050e-17   1.13855654e-17\n",
      "   8.50357242e-18   6.44991709e-18   4.71809902e-18   3.50649579e-18\n",
      "   2.56562726e-18   1.87744261e-18   1.42490660e-18   9.93286188e-19\n",
      "   7.75589206e-19   5.67820717e-19   3.69563049e-19   3.60833608e-19\n",
      "   1.76175219e-19   1.72052737e-19   1.68045474e-19   1.64149689e-19\n",
      "   0.00000000e+00   0.00000000e+00   0.00000000e+00   0.00000000e+00\n",
      "   0.00000000e+00   0.00000000e+00   0.00000000e+00   0.00000000e+00\n",
      "   0.00000000e+00   0.00000000e+00   0.00000000e+00   0.00000000e+00\n",
      "   0.00000000e+00   0.00000000e+00   0.00000000e+00   0.00000000e+00\n",
      "   0.00000000e+00   0.00000000e+00   0.00000000e+00   0.00000000e+00\n",
      "   0.00000000e+00   0.00000000e+00   0.00000000e+00   0.00000000e+00\n",
      "   0.00000000e+00   0.00000000e+00   0.00000000e+00   0.00000000e+00\n",
      "   0.00000000e+00   0.00000000e+00   0.00000000e+00   0.00000000e+00\n",
      "   0.00000000e+00   0.00000000e+00   0.00000000e+00   0.00000000e+00\n",
      "   0.00000000e+00   0.00000000e+00   0.00000000e+00   0.00000000e+00\n",
      "   0.00000000e+00   0.00000000e+00   0.00000000e+00   0.00000000e+00\n",
      "   0.00000000e+00   0.00000000e+00   0.00000000e+00   0.00000000e+00\n",
      "   0.00000000e+00   0.00000000e+00   0.00000000e+00   0.00000000e+00\n",
      "   0.00000000e+00   0.00000000e+00   0.00000000e+00   0.00000000e+00\n",
      "   0.00000000e+00   0.00000000e+00   0.00000000e+00   0.00000000e+00\n",
      "   0.00000000e+00   0.00000000e+00   0.00000000e+00   0.00000000e+00\n",
      "   0.00000000e+00   0.00000000e+00   0.00000000e+00   0.00000000e+00\n",
      "   0.00000000e+00   0.00000000e+00   0.00000000e+00   0.00000000e+00\n",
      "   0.00000000e+00   0.00000000e+00   0.00000000e+00   0.00000000e+00\n",
      "   0.00000000e+00   0.00000000e+00   0.00000000e+00   0.00000000e+00\n",
      "   0.00000000e+00   0.00000000e+00   0.00000000e+00   0.00000000e+00\n",
      "   0.00000000e+00   0.00000000e+00   0.00000000e+00   0.00000000e+00\n",
      "   0.00000000e+00   0.00000000e+00   0.00000000e+00   0.00000000e+00\n",
      "   0.00000000e+00   0.00000000e+00   0.00000000e+00   0.00000000e+00\n",
      "   0.00000000e+00   0.00000000e+00   0.00000000e+00   0.00000000e+00\n",
      "   0.00000000e+00   0.00000000e+00   0.00000000e+00   0.00000000e+00\n",
      "   0.00000000e+00   0.00000000e+00   0.00000000e+00   0.00000000e+00\n",
      "   0.00000000e+00   0.00000000e+00   0.00000000e+00   0.00000000e+00\n",
      "   0.00000000e+00   0.00000000e+00   0.00000000e+00   0.00000000e+00\n",
      "   0.00000000e+00   0.00000000e+00   0.00000000e+00   0.00000000e+00\n",
      "   0.00000000e+00   0.00000000e+00   0.00000000e+00   0.00000000e+00\n",
      "   0.00000000e+00   0.00000000e+00   0.00000000e+00   0.00000000e+00\n",
      "   0.00000000e+00   0.00000000e+00   0.00000000e+00   0.00000000e+00\n",
      "   0.00000000e+00   0.00000000e+00   0.00000000e+00   0.00000000e+00\n",
      "   0.00000000e+00   0.00000000e+00   0.00000000e+00   0.00000000e+00\n",
      "   0.00000000e+00   0.00000000e+00   0.00000000e+00   0.00000000e+00\n",
      "   0.00000000e+00   0.00000000e+00   0.00000000e+00   0.00000000e+00\n",
      "   0.00000000e+00   0.00000000e+00   0.00000000e+00   0.00000000e+00\n",
      "   0.00000000e+00]\n"
     ]
    }
   ],
   "source": [
    "print R\n",
    "print UR"
   ]
  },
  {
   "cell_type": "code",
   "execution_count": 14,
   "metadata": {
    "collapsed": true
   },
   "outputs": [],
   "source": [
    "init_guess(R, UR, N_fix)"
   ]
  },
  {
   "cell_type": "code",
   "execution_count": 15,
   "metadata": {
    "collapsed": false
   },
   "outputs": [
    {
     "data": {
      "text/plain": [
       "345"
      ]
     },
     "execution_count": 15,
     "metadata": {},
     "output_type": "execute_result"
    }
   ],
   "source": [
    "len(R)"
   ]
  },
  {
   "cell_type": "code",
   "execution_count": null,
   "metadata": {
    "collapsed": true
   },
   "outputs": [],
   "source": []
  },
  {
   "cell_type": "code",
   "execution_count": null,
   "metadata": {
    "collapsed": true
   },
   "outputs": [],
   "source": [
    "##############################################2C SETTINGS###################################################################"
   ]
  },
  {
   "cell_type": "code",
   "execution_count": null,
   "metadata": {
    "collapsed": true
   },
   "outputs": [],
   "source": [
    "#SQUARE AND RECTANGLE(1.5) 2c"
   ]
  },
  {
   "cell_type": "code",
   "execution_count": 104,
   "metadata": {
    "collapsed": true
   },
   "outputs": [],
   "source": [
    "#trial ipl params\n",
    "d = 1.0\n",
    "a = 5.0\n",
    "A = 1.0\n",
    "k = 20.0\n",
    "\n",
    "#re potential constraints\n",
    "dr = 0.015\n",
    "N_opt = 85\n",
    "N_fix = 3\n",
    "r_shrink = 1.10\n",
    "r_cut = 1.5 + (N_fix-1)*dr\n",
    "\n",
    "#vector of r values\n",
    "R_temp = [r_cut - i*dr for i in range(N_opt + N_fix)]\n",
    "R_temp.reverse()\n",
    "R = array(R_temp)\n",
    "\n",
    "#get the potential\n",
    "UR = ipl_pot(R, \n",
    "             d, a, A, k, \n",
    "             r_cut, dr, r_shrink)"
   ]
  },
  {
   "cell_type": "code",
   "execution_count": 105,
   "metadata": {
    "collapsed": false,
    "scrolled": true
   },
   "outputs": [
    {
     "name": "stdout",
     "output_type": "stream",
     "text": [
      "[ 0.225  0.24   0.255  0.27   0.285  0.3    0.315  0.33   0.345  0.36\n",
      "  0.375  0.39   0.405  0.42   0.435  0.45   0.465  0.48   0.495  0.51\n",
      "  0.525  0.54   0.555  0.57   0.585  0.6    0.615  0.63   0.645  0.66\n",
      "  0.675  0.69   0.705  0.72   0.735  0.75   0.765  0.78   0.795  0.81\n",
      "  0.825  0.84   0.855  0.87   0.885  0.9    0.915  0.93   0.945  0.96\n",
      "  0.975  0.99   1.005  1.02   1.035  1.05   1.065  1.08   1.095  1.11\n",
      "  1.125  1.14   1.155  1.17   1.185  1.2    1.215  1.23   1.245  1.26\n",
      "  1.275  1.29   1.305  1.32   1.335  1.35   1.365  1.38   1.395  1.41\n",
      "  1.425  1.44   1.455  1.47   1.485  1.5    1.515  1.53 ]\n",
      "[  1.73415299e+03   1.25586741e+03   9.27468349e+02   6.96917194e+02\n",
      "   5.31833512e+02   4.11522634e+02   3.22438752e+02   2.55523178e+02\n",
      "   2.04599480e+02   1.65381717e+02   1.34847737e+02   1.10835010e+02\n",
      "   9.17751037e+01   7.65162272e+01   6.42027625e+01   5.41922810e+01\n",
      "   4.59976067e+01   3.92458566e+01   3.36491428e+01   2.89833859e+01\n",
      "   2.50728373e+01   2.17786623e+01   1.89904425e+01   1.66197972e+01\n",
      "   1.45955569e+01   1.28600823e+01   1.13664388e+01   1.00762109e+01\n",
      "   8.95780123e+00   7.98509913e+00   7.13643176e+00   6.39373325e+00\n",
      "   5.74188321e+00   5.16817735e+00   4.66190164e+00   4.21398826e+00\n",
      "   3.81673639e+00   3.46358450e+00   3.14892395e+00   2.86794570e+00\n",
      "   2.61651364e+00   2.39105933e+00   2.18849392e+00   2.00613363e+00\n",
      "   1.84163558e+00   1.69294086e+00   1.55822133e+00   1.43582602e+00\n",
      "   1.32422102e+00   1.22191454e+00   1.12735444e+00   1.03878223e+00\n",
      "   9.54028314e-01   8.70257204e-01   7.83760468e-01   6.90127554e-01\n",
      "   5.85498644e-01   4.69585034e-01   3.49269762e-01   2.38159337e-01\n",
      "   1.49243378e-01   8.72443829e-02   4.85294173e-02   2.61461919e-02\n",
      "   1.38213244e-02   7.22825035e-03   3.75854595e-03   1.94873599e-03\n",
      "   1.00909172e-03   5.22321884e-04   2.70386724e-04   1.40017899e-04\n",
      "   7.25419496e-05   3.76033690e-05   1.95029183e-05   1.01202949e-05\n",
      "   5.25376150e-06   2.72808140e-06   1.41648857e-06   7.34968531e-07\n",
      "   3.80634429e-07   1.96303874e-07   1.00357866e-07   5.03893097e-08\n",
      "   2.43516371e-08   1.07766872e-08   3.69559275e-09   0.00000000e+00]\n"
     ]
    }
   ],
   "source": [
    "print R\n",
    "print UR"
   ]
  },
  {
   "cell_type": "code",
   "execution_count": 102,
   "metadata": {
    "collapsed": true
   },
   "outputs": [],
   "source": [
    "init_guess(R, UR, N_fix)"
   ]
  },
  {
   "cell_type": "code",
   "execution_count": 106,
   "metadata": {
    "collapsed": false
   },
   "outputs": [
    {
     "data": {
      "text/plain": [
       "88"
      ]
     },
     "execution_count": 106,
     "metadata": {},
     "output_type": "execute_result"
    }
   ],
   "source": [
    "len(R)"
   ]
  },
  {
   "cell_type": "code",
   "execution_count": null,
   "metadata": {
    "collapsed": true
   },
   "outputs": [],
   "source": []
  },
  {
   "cell_type": "code",
   "execution_count": null,
   "metadata": {
    "collapsed": true
   },
   "outputs": [],
   "source": [
    "#HONEYCOMB AND KAGOME 2c"
   ]
  },
  {
   "cell_type": "code",
   "execution_count": 121,
   "metadata": {
    "collapsed": true
   },
   "outputs": [],
   "source": [
    "#trial ipl params\n",
    "d = 1.0\n",
    "a = 5.0\n",
    "A = 1.0\n",
    "k = 20.0\n",
    "\n",
    "#re potential constraints\n",
    "dr = 0.015\n",
    "N_opt = 87\n",
    "N_fix = 3\n",
    "r_shrink = 1.10\n",
    "r_cut = 1.64 + (N_fix-1)*dr\n",
    "\n",
    "#vector of r values\n",
    "R_temp = [r_cut - i*dr for i in range(N_opt + N_fix)]\n",
    "R_temp.reverse()\n",
    "R = array(R_temp)\n",
    "\n",
    "#get the potential\n",
    "UR = ipl_pot(R, \n",
    "             d, a, A, k, \n",
    "             r_cut, dr, r_shrink)"
   ]
  },
  {
   "cell_type": "code",
   "execution_count": 122,
   "metadata": {
    "collapsed": false
   },
   "outputs": [
    {
     "name": "stdout",
     "output_type": "stream",
     "text": [
      "[ 0.335  0.35   0.365  0.38   0.395  0.41   0.425  0.44   0.455  0.47\n",
      "  0.485  0.5    0.515  0.53   0.545  0.56   0.575  0.59   0.605  0.62\n",
      "  0.635  0.65   0.665  0.68   0.695  0.71   0.725  0.74   0.755  0.77\n",
      "  0.785  0.8    0.815  0.83   0.845  0.86   0.875  0.89   0.905  0.92\n",
      "  0.935  0.95   0.965  0.98   0.995  1.01   1.025  1.04   1.055  1.07\n",
      "  1.085  1.1    1.115  1.13   1.145  1.16   1.175  1.19   1.205  1.22\n",
      "  1.235  1.25   1.265  1.28   1.295  1.31   1.325  1.34   1.355  1.37\n",
      "  1.385  1.4    1.415  1.43   1.445  1.46   1.475  1.49   1.505  1.52\n",
      "  1.535  1.55   1.565  1.58   1.595  1.61   1.625  1.64   1.655  1.67 ]\n",
      "[  2.37015072e+02   1.90396858e+02   1.54360323e+02   1.26206585e+02\n",
      "   1.03995494e+02   8.63138953e+01   7.21199388e+01   6.06368480e+01\n",
      "   5.12794096e+01   4.36024317e+01   3.72641575e+01   3.20000000e+01\n",
      "   2.76034811e+01   2.39122615e+01   2.07978044e+01   1.81576594e+01\n",
      "   1.59096555e+01   1.39874949e+01   1.23373852e+01   1.09154476e+01\n",
      "   9.68570795e+00   8.61853025e+00   7.68938775e+00   6.87789299e+00\n",
      "   6.16702824e+00   5.54253167e+00   4.99240529e+00   4.50651851e+00\n",
      "   4.07628744e+00   3.69441408e+00   3.35467345e+00   3.05173906e+00\n",
      "   2.78103910e+00   2.53863743e+00   2.32113453e+00   2.12558428e+00\n",
      "   1.94942325e+00   1.79040928e+00   1.64656619e+00   1.51613106e+00\n",
      "   1.39749913e+00   1.28915993e+00   1.18961470e+00   1.09726143e+00\n",
      "   1.01023043e+00   9.26159561e-01   8.41936726e-01   7.53565213e-01\n",
      "   6.56599231e-01   5.47947549e-01   4.29390771e-01   3.10460662e-01\n",
      "   2.05612906e-01   1.25635474e-01   7.20784049e-02   3.95996033e-02\n",
      "   2.11751260e-02   1.11454534e-02   5.81518842e-03   3.02014522e-03\n",
      "   1.56501281e-03   8.10229146e-04   4.19385473e-04   2.17122957e-04\n",
      "   1.12454348e-04   5.82736410e-05   3.02145785e-05   1.56754242e-05\n",
      "   8.13735290e-06   4.22675338e-06   2.19678356e-06   1.14240397e-06\n",
      "   5.94427392e-07   3.09469823e-07   1.61202019e-07   8.40127229e-08\n",
      "   4.38053224e-08   2.28502685e-08   1.19232739e-08   6.22245525e-09\n",
      "   3.24672322e-09   1.69266906e-09   8.80680357e-10   4.56215988e-10\n",
      "   2.34224707e-10   1.18071786e-10   5.72694705e-11   2.54273264e-11\n",
      "   8.74437120e-12   0.00000000e+00]\n"
     ]
    }
   ],
   "source": [
    "print R\n",
    "print UR"
   ]
  },
  {
   "cell_type": "code",
   "execution_count": 125,
   "metadata": {
    "collapsed": true
   },
   "outputs": [],
   "source": [
    "init_guess(R, UR, N_fix)"
   ]
  },
  {
   "cell_type": "code",
   "execution_count": 124,
   "metadata": {
    "collapsed": false
   },
   "outputs": [
    {
     "data": {
      "text/plain": [
       "90"
      ]
     },
     "execution_count": 124,
     "metadata": {},
     "output_type": "execute_result"
    }
   ],
   "source": [
    "len(R)"
   ]
  },
  {
   "cell_type": "code",
   "execution_count": null,
   "metadata": {
    "collapsed": true
   },
   "outputs": [],
   "source": []
  },
  {
   "cell_type": "code",
   "execution_count": null,
   "metadata": {
    "collapsed": true
   },
   "outputs": [],
   "source": [
    "##############################################3C SETTINGS###################################################################"
   ]
  },
  {
   "cell_type": "code",
   "execution_count": 16,
   "metadata": {
    "collapsed": true
   },
   "outputs": [],
   "source": [
    "#SQUARE 3c"
   ]
  },
  {
   "cell_type": "code",
   "execution_count": 84,
   "metadata": {
    "collapsed": true
   },
   "outputs": [],
   "source": [
    "#trial ipl params\n",
    "d = 1.0\n",
    "a = 5.0\n",
    "A = 1.0\n",
    "k = 20.0\n",
    "\n",
    "#re potential constraints\n",
    "dr = 0.015\n",
    "N_opt = 106\n",
    "N_fix = 3\n",
    "r_shrink = 1.10\n",
    "r_cut = 1.885 + (N_fix-1)*dr\n",
    "\n",
    "#vector of r values\n",
    "R_temp = [r_cut - i*dr for i in range(N_opt + N_fix)]\n",
    "R_temp.reverse()\n",
    "R = array(R_temp)\n",
    "\n",
    "#get the potential\n",
    "UR = ipl_pot(R, \n",
    "             d, a, A, k, \n",
    "             r_cut, dr, r_shrink)"
   ]
  },
  {
   "cell_type": "code",
   "execution_count": 85,
   "metadata": {
    "collapsed": false,
    "scrolled": true
   },
   "outputs": [
    {
     "name": "stdout",
     "output_type": "stream",
     "text": [
      "[ 0.295  0.31   0.325  0.34   0.355  0.37   0.385  0.4    0.415  0.43\n",
      "  0.445  0.46   0.475  0.49   0.505  0.52   0.535  0.55   0.565  0.58\n",
      "  0.595  0.61   0.625  0.64   0.655  0.67   0.685  0.7    0.715  0.73\n",
      "  0.745  0.76   0.775  0.79   0.805  0.82   0.835  0.85   0.865  0.88\n",
      "  0.895  0.91   0.925  0.94   0.955  0.97   0.985  1.     1.015  1.03\n",
      "  1.045  1.06   1.075  1.09   1.105  1.12   1.135  1.15   1.165  1.18\n",
      "  1.195  1.21   1.225  1.24   1.255  1.27   1.285  1.3    1.315  1.33\n",
      "  1.345  1.36   1.375  1.39   1.405  1.42   1.435  1.45   1.465  1.48\n",
      "  1.495  1.51   1.525  1.54   1.555  1.57   1.585  1.6    1.615  1.63\n",
      "  1.645  1.66   1.675  1.69   1.705  1.72   1.735  1.75   1.765  1.78\n",
      "  1.795  1.81   1.825  1.84   1.855  1.87   1.885  1.9    1.915]\n",
      "[  4.47599837e+02   3.49294326e+02   2.75792972e+02   2.20092587e+02\n",
      "   1.77361043e+02   1.44208673e+02   1.18221469e+02   9.76562500e+01\n",
      "   8.12380549e+01   6.80233039e+01   5.73059802e+01   4.85524156e+01\n",
      "   4.13553739e+01   3.54013317e+01   3.04469020e+01   2.63016674e+01\n",
      "   2.28155577e+01   1.98694823e+01   1.73683179e+01   1.52356165e+01\n",
      "   1.34095798e+01   1.18399760e+01   1.04857599e+01   9.31322565e+00\n",
      "   8.29456265e+00   7.40672076e+00   6.63051277e+00   5.94990116e+00\n",
      "   5.35142819e+00   4.82375828e+00   4.35730881e+00   3.94395090e+00\n",
      "   3.57676581e+00   3.24984580e+00   2.95813057e+00   2.69727234e+00\n",
      "   2.46352402e+00   2.25364577e+00   2.06482637e+00   1.89461592e+00\n",
      "   1.74086687e+00   1.60167999e+00   1.47535146e+00   1.36031575e+00\n",
      "   1.25507673e+00   1.15811610e+00   1.06776378e+00   9.82013790e-01\n",
      "   8.98281727e-01   8.13160447e-01   7.22406162e-01   6.21732538e-01\n",
      "   5.09225164e-01   3.89105901e-01   2.73250713e-01   1.75916805e-01\n",
      "   1.05022500e-01   5.92649196e-02   3.22173508e-02   1.71196984e-02\n",
      "   8.97910432e-03   4.67603672e-03   2.42622296e-03   1.25672275e-03\n",
      "   6.50541648e-04   3.36740600e-04   1.74357171e-04   9.03195402e-05\n",
      "   4.68121667e-05   2.42766459e-05   1.25973320e-05   6.54078133e-06\n",
      "   3.39812973e-06   1.76646903e-06   9.18805349e-07   4.78175929e-07\n",
      "   2.48996807e-07   1.29728943e-07   6.76257728e-08   3.52707899e-08\n",
      "   1.84052261e-08   9.60916643e-09   5.01931611e-09   2.62309162e-09\n",
      "   1.37147650e-09   7.17406505e-10   3.75439885e-10   1.96566659e-10\n",
      "   1.02960324e-10   5.39531463e-11   2.82843793e-11   1.48338986e-11\n",
      "   7.78283549e-12   4.08496273e-12   2.14484915e-12   1.12655019e-12\n",
      "   5.91869576e-13   3.11011449e-13   1.63428298e-13   8.58476140e-14\n",
      "   4.50517678e-14   2.35878988e-14   1.22943686e-14   6.35012953e-15\n",
      "   3.21827480e-15   1.56824210e-15   7.00893791e-16   2.41718232e-16\n",
      "   0.00000000e+00]\n"
     ]
    }
   ],
   "source": [
    "print R\n",
    "print UR"
   ]
  },
  {
   "cell_type": "code",
   "execution_count": 86,
   "metadata": {
    "collapsed": true
   },
   "outputs": [],
   "source": [
    "init_guess(R, UR, N_fix)"
   ]
  },
  {
   "cell_type": "code",
   "execution_count": 87,
   "metadata": {
    "collapsed": false
   },
   "outputs": [
    {
     "data": {
      "text/plain": [
       "109"
      ]
     },
     "execution_count": 87,
     "metadata": {},
     "output_type": "execute_result"
    }
   ],
   "source": [
    "len(R)"
   ]
  },
  {
   "cell_type": "code",
   "execution_count": null,
   "metadata": {
    "collapsed": true
   },
   "outputs": [],
   "source": []
  },
  {
   "cell_type": "code",
   "execution_count": null,
   "metadata": {
    "collapsed": true
   },
   "outputs": [],
   "source": [
    "#HONEYCOMB AND KAGOME 3c"
   ]
  },
  {
   "cell_type": "code",
   "execution_count": 77,
   "metadata": {
    "collapsed": true
   },
   "outputs": [],
   "source": [
    "#trial ipl params\n",
    "d = 1.0\n",
    "a = 5.0\n",
    "A = 1.0\n",
    "k = 20.0\n",
    "\n",
    "#re potential constraints\n",
    "dr = 0.015\n",
    "N_opt = 113\n",
    "N_fix = 3\n",
    "r_shrink = 1.10\n",
    "r_cut = 2.00 + (N_fix-1)*dr\n",
    "\n",
    "#vector of r values\n",
    "R_temp = [r_cut - i*dr for i in range(N_opt + N_fix)]\n",
    "R_temp.reverse()\n",
    "R = array(R_temp)\n",
    "\n",
    "#get the potential\n",
    "UR = ipl_pot(R, \n",
    "             d, a, A, k, \n",
    "             r_cut, dr, r_shrink)"
   ]
  },
  {
   "cell_type": "code",
   "execution_count": 74,
   "metadata": {
    "collapsed": false,
    "scrolled": true
   },
   "outputs": [
    {
     "name": "stdout",
     "output_type": "stream",
     "text": [
      "[ 0.305  0.32   0.335  0.35   0.365  0.38   0.395  0.41   0.425  0.44\n",
      "  0.455  0.47   0.485  0.5    0.515  0.53   0.545  0.56   0.575  0.59\n",
      "  0.605  0.62   0.635  0.65   0.665  0.68   0.695  0.71   0.725  0.74\n",
      "  0.755  0.77   0.785  0.8    0.815  0.83   0.845  0.86   0.875  0.89\n",
      "  0.905  0.92   0.935  0.95   0.965  0.98   0.995  1.01   1.025  1.04\n",
      "  1.055  1.07   1.085  1.1    1.115  1.13   1.145  1.16   1.175  1.19\n",
      "  1.205  1.22   1.235  1.25   1.265  1.28   1.295  1.31   1.325  1.34\n",
      "  1.355  1.37   1.385  1.4    1.415  1.43   1.445  1.46   1.475  1.49\n",
      "  1.505  1.52   1.535  1.55   1.565  1.58   1.595  1.61   1.625  1.64\n",
      "  1.655  1.67   1.685  1.7    1.715  1.73   1.745  1.76   1.775  1.79\n",
      "  1.805  1.82   1.835  1.85   1.865  1.88   1.895  1.91   1.925  1.94\n",
      "  1.955  1.97   1.985  2.     2.015  2.03 ]\n",
      "[  3.78879235e+02   2.98023224e+02   2.37015072e+02   1.90396858e+02\n",
      "   1.54360323e+02   1.26206585e+02   1.03995494e+02   8.63138953e+01\n",
      "   7.21199388e+01   6.06368480e+01   5.12794096e+01   4.36024317e+01\n",
      "   3.72641575e+01   3.20000000e+01   2.76034811e+01   2.39122615e+01\n",
      "   2.07978044e+01   1.81576594e+01   1.59096555e+01   1.39874949e+01\n",
      "   1.23373852e+01   1.09154476e+01   9.68570795e+00   8.61853025e+00\n",
      "   7.68938775e+00   6.87789299e+00   6.16702824e+00   5.54253167e+00\n",
      "   4.99240529e+00   4.50651851e+00   4.07628744e+00   3.69441408e+00\n",
      "   3.35467345e+00   3.05173906e+00   2.78103910e+00   2.53863743e+00\n",
      "   2.32113453e+00   2.12558429e+00   1.94942325e+00   1.79040928e+00\n",
      "   1.64656619e+00   1.51613106e+00   1.39749913e+00   1.28915993e+00\n",
      "   1.18961470e+00   1.09726143e+00   1.01023043e+00   9.26159561e-01\n",
      "   8.41936726e-01   7.53565213e-01   6.56599231e-01   5.47947549e-01\n",
      "   4.29390771e-01   3.10460662e-01   2.05612906e-01   1.25635474e-01\n",
      "   7.20784049e-02   3.95996033e-02   2.11751260e-02   1.11454534e-02\n",
      "   5.81518843e-03   3.02014522e-03   1.56501282e-03   8.10229156e-04\n",
      "   4.19385483e-04   2.17122967e-04   1.12454358e-04   5.82736507e-05\n",
      "   3.02145881e-05   1.56754338e-05   8.13736255e-06   4.22676303e-06\n",
      "   2.19679321e-06   1.14241362e-06   5.94437042e-07   3.09479472e-07\n",
      "   1.61211669e-07   8.40223724e-08   4.38149719e-08   2.28599180e-08\n",
      "   1.19329234e-08   6.23210472e-09   3.25637269e-09   1.70231853e-09\n",
      "   8.90329827e-10   4.65865459e-10   2.43874177e-10   1.27721256e-10\n",
      "   6.69189408e-11   3.50767966e-11   1.83938414e-11   9.64947024e-12\n",
      "   5.06418261e-12   2.65881245e-12   1.39647927e-12   7.33747393e-13\n",
      "   3.85675158e-13   2.02794595e-13   1.06673371e-13   5.61300044e-14\n",
      "   2.95451052e-14   1.55572794e-14   8.19475119e-15   4.31734953e-15\n",
      "   2.27415668e-15   1.19914554e-15   6.32169485e-16   3.32511538e-16\n",
      "   1.74792678e-16   9.13140503e-17   4.69841485e-17   2.45822363e-17\n",
      "   1.27998473e-17   5.32861893e-18   1.73194459e-18   0.00000000e+00]\n"
     ]
    }
   ],
   "source": [
    "print R\n",
    "print UR"
   ]
  },
  {
   "cell_type": "code",
   "execution_count": 78,
   "metadata": {
    "collapsed": true
   },
   "outputs": [],
   "source": [
    "init_guess(R, UR, N_fix)"
   ]
  },
  {
   "cell_type": "code",
   "execution_count": 79,
   "metadata": {
    "collapsed": false
   },
   "outputs": [
    {
     "data": {
      "text/plain": [
       "116"
      ]
     },
     "execution_count": 79,
     "metadata": {},
     "output_type": "execute_result"
    }
   ],
   "source": [
    "len(R)"
   ]
  },
  {
   "cell_type": "code",
   "execution_count": null,
   "metadata": {
    "collapsed": true
   },
   "outputs": [],
   "source": [
    "#TRUNC SQUARE 3c"
   ]
  },
  {
   "cell_type": "code",
   "execution_count": 10,
   "metadata": {
    "collapsed": true
   },
   "outputs": [],
   "source": [
    "#trial ipl params\n",
    "d = 1.0\n",
    "a = 5.0\n",
    "A = 1.0\n",
    "k = 20.0\n",
    "\n",
    "#re potential constraints\n",
    "dr = 0.015\n",
    "N_opt = 100\n",
    "N_fix = 3\n",
    "r_shrink = 1.10\n",
    "r_cut = 1.83 + (N_fix-1)*dr\n",
    "\n",
    "#vector of r values\n",
    "R_temp = [r_cut - i*dr for i in range(N_opt + N_fix)]\n",
    "R_temp.reverse()\n",
    "R = array(R_temp)\n",
    "\n",
    "#get the potential\n",
    "UR = ipl_pot(R, \n",
    "             d, a, A, k, \n",
    "             r_cut, dr, r_shrink)"
   ]
  },
  {
   "cell_type": "code",
   "execution_count": 11,
   "metadata": {
    "collapsed": false
   },
   "outputs": [
    {
     "name": "stdout",
     "output_type": "stream",
     "text": [
      "[ 0.33   0.345  0.36   0.375  0.39   0.405  0.42   0.435  0.45   0.465\n",
      "  0.48   0.495  0.51   0.525  0.54   0.555  0.57   0.585  0.6    0.615\n",
      "  0.63   0.645  0.66   0.675  0.69   0.705  0.72   0.735  0.75   0.765\n",
      "  0.78   0.795  0.81   0.825  0.84   0.855  0.87   0.885  0.9    0.915\n",
      "  0.93   0.945  0.96   0.975  0.99   1.005  1.02   1.035  1.05   1.065\n",
      "  1.08   1.095  1.11   1.125  1.14   1.155  1.17   1.185  1.2    1.215\n",
      "  1.23   1.245  1.26   1.275  1.29   1.305  1.32   1.335  1.35   1.365\n",
      "  1.38   1.395  1.41   1.425  1.44   1.455  1.47   1.485  1.5    1.515\n",
      "  1.53   1.545  1.56   1.575  1.59   1.605  1.62   1.635  1.65   1.665\n",
      "  1.68   1.695  1.71   1.725  1.74   1.755  1.77   1.785  1.8    1.815\n",
      "  1.83   1.845  1.86 ]\n",
      "[  2.55523178e+02   2.04599480e+02   1.65381717e+02   1.34847737e+02\n",
      "   1.10835010e+02   9.17751037e+01   7.65162272e+01   6.42027625e+01\n",
      "   5.41922810e+01   4.59976067e+01   3.92458566e+01   3.36491428e+01\n",
      "   2.89833859e+01   2.50728373e+01   2.17786623e+01   1.89904425e+01\n",
      "   1.66197972e+01   1.45955569e+01   1.28600823e+01   1.13664388e+01\n",
      "   1.00762109e+01   8.95780123e+00   7.98509914e+00   7.13643177e+00\n",
      "   6.39373325e+00   5.74188322e+00   5.16817736e+00   4.66190164e+00\n",
      "   4.21398827e+00   3.81673640e+00   3.46358450e+00   3.14892395e+00\n",
      "   2.86794570e+00   2.61651364e+00   2.39105933e+00   2.18849392e+00\n",
      "   2.00613363e+00   1.84163558e+00   1.69294086e+00   1.55822134e+00\n",
      "   1.43582602e+00   1.32422103e+00   1.22191455e+00   1.12735445e+00\n",
      "   1.03878223e+00   9.54028319e-01   8.70257208e-01   7.83760472e-01\n",
      "   6.90127558e-01   5.85498648e-01   4.69585038e-01   3.49269766e-01\n",
      "   2.38159341e-01   1.49243383e-01   8.72443869e-02   4.85294213e-02\n",
      "   2.61461959e-02   1.38213284e-02   7.22825439e-03   3.75854999e-03\n",
      "   1.94874004e-03   1.00909577e-03   5.22325927e-04   2.70390767e-04\n",
      "   1.40021942e-04   7.25459924e-05   3.76074118e-05   1.95069610e-05\n",
      "   1.01243377e-05   5.25780426e-06   2.73212416e-06   1.42053133e-06\n",
      "   7.39011286e-07   3.84677184e-07   2.00346630e-07   1.04400621e-07\n",
      "   5.44320648e-08   2.83943923e-08   1.48194424e-08   7.73834790e-09\n",
      "   4.04275516e-09   2.11307648e-09   1.10498766e-09   5.78095958e-10\n",
      "   3.02578792e-10   1.58441357e-10   8.30013108e-11   4.34991880e-11\n",
      "   2.28059425e-11   1.19611035e-11   6.27518796e-12   3.29284681e-12\n",
      "   1.72793105e-12   9.06451616e-13   4.75056984e-13   2.48429338e-13\n",
      "   1.29324625e-13   6.67068981e-14   3.37751613e-14   1.64486417e-14\n",
      "   7.33047239e-15   2.52862244e-15   0.00000000e+00]\n"
     ]
    }
   ],
   "source": [
    "print R\n",
    "print UR"
   ]
  },
  {
   "cell_type": "code",
   "execution_count": 12,
   "metadata": {
    "collapsed": true
   },
   "outputs": [],
   "source": [
    "init_guess(R, UR, N_fix)"
   ]
  },
  {
   "cell_type": "code",
   "execution_count": 13,
   "metadata": {
    "collapsed": false
   },
   "outputs": [
    {
     "data": {
      "text/plain": [
       "103"
      ]
     },
     "execution_count": 13,
     "metadata": {},
     "output_type": "execute_result"
    }
   ],
   "source": [
    "len(R)"
   ]
  },
  {
   "cell_type": "code",
   "execution_count": null,
   "metadata": {
    "collapsed": true
   },
   "outputs": [],
   "source": []
  },
  {
   "cell_type": "code",
   "execution_count": null,
   "metadata": {
    "collapsed": true
   },
   "outputs": [],
   "source": []
  },
  {
   "cell_type": "code",
   "execution_count": null,
   "metadata": {
    "collapsed": true
   },
   "outputs": [],
   "source": [
    "#TRUNC HEX 3c"
   ]
  },
  {
   "cell_type": "code",
   "execution_count": 71,
   "metadata": {
    "collapsed": true
   },
   "outputs": [],
   "source": [
    "#trial ipl params\n",
    "d = 1.0\n",
    "a = 5.0\n",
    "A = 1.0\n",
    "k = 20.0\n",
    "\n",
    "#re potential constraints\n",
    "dr = 0.015\n",
    "N_opt = 149\n",
    "N_fix = 3\n",
    "r_shrink = 1.10\n",
    "r_cut = 2.535 + (N_fix-1)*dr\n",
    "\n",
    "#vector of r values\n",
    "R_temp = [r_cut - i*dr for i in range(N_opt + N_fix)]\n",
    "R_temp.reverse()\n",
    "R = array(R_temp)\n",
    "\n",
    "#get the potential\n",
    "UR = ipl_pot(R, \n",
    "             d, a, A, k, \n",
    "             r_cut, dr, r_shrink)"
   ]
  },
  {
   "cell_type": "code",
   "execution_count": 72,
   "metadata": {
    "collapsed": false,
    "scrolled": true
   },
   "outputs": [
    {
     "name": "stdout",
     "output_type": "stream",
     "text": [
      "[ 0.3    0.315  0.33   0.345  0.36   0.375  0.39   0.405  0.42   0.435\n",
      "  0.45   0.465  0.48   0.495  0.51   0.525  0.54   0.555  0.57   0.585  0.6\n",
      "  0.615  0.63   0.645  0.66   0.675  0.69   0.705  0.72   0.735  0.75\n",
      "  0.765  0.78   0.795  0.81   0.825  0.84   0.855  0.87   0.885  0.9    0.915\n",
      "  0.93   0.945  0.96   0.975  0.99   1.005  1.02   1.035  1.05   1.065\n",
      "  1.08   1.095  1.11   1.125  1.14   1.155  1.17   1.185  1.2    1.215\n",
      "  1.23   1.245  1.26   1.275  1.29   1.305  1.32   1.335  1.35   1.365\n",
      "  1.38   1.395  1.41   1.425  1.44   1.455  1.47   1.485  1.5    1.515\n",
      "  1.53   1.545  1.56   1.575  1.59   1.605  1.62   1.635  1.65   1.665\n",
      "  1.68   1.695  1.71   1.725  1.74   1.755  1.77   1.785  1.8    1.815\n",
      "  1.83   1.845  1.86   1.875  1.89   1.905  1.92   1.935  1.95   1.965\n",
      "  1.98   1.995  2.01   2.025  2.04   2.055  2.07   2.085  2.1    2.115\n",
      "  2.13   2.145  2.16   2.175  2.19   2.205  2.22   2.235  2.25   2.265\n",
      "  2.28   2.295  2.31   2.325  2.34   2.355  2.37   2.385  2.4    2.415\n",
      "  2.43   2.445  2.46   2.475  2.49   2.505  2.52   2.535  2.55   2.565]\n",
      "[  4.11522634e+02   3.22438752e+02   2.55523178e+02   2.04599480e+02\n",
      "   1.65381717e+02   1.34847737e+02   1.10835010e+02   9.17751037e+01\n",
      "   7.65162272e+01   6.42027625e+01   5.41922810e+01   4.59976067e+01\n",
      "   3.92458566e+01   3.36491428e+01   2.89833859e+01   2.50728373e+01\n",
      "   2.17786623e+01   1.89904425e+01   1.66197972e+01   1.45955569e+01\n",
      "   1.28600823e+01   1.13664388e+01   1.00762109e+01   8.95780123e+00\n",
      "   7.98509914e+00   7.13643177e+00   6.39373325e+00   5.74188322e+00\n",
      "   5.16817736e+00   4.66190164e+00   4.21398827e+00   3.81673640e+00\n",
      "   3.46358450e+00   3.14892395e+00   2.86794570e+00   2.61651364e+00\n",
      "   2.39105933e+00   2.18849392e+00   2.00613363e+00   1.84163558e+00\n",
      "   1.69294086e+00   1.55822134e+00   1.43582602e+00   1.32422103e+00\n",
      "   1.22191455e+00   1.12735445e+00   1.03878223e+00   9.54028319e-01\n",
      "   8.70257208e-01   7.83760472e-01   6.90127558e-01   5.85498648e-01\n",
      "   4.69585038e-01   3.49269766e-01   2.38159341e-01   1.49243383e-01\n",
      "   8.72443869e-02   4.85294213e-02   2.61461959e-02   1.38213284e-02\n",
      "   7.22825439e-03   3.75854999e-03   1.94874004e-03   1.00909577e-03\n",
      "   5.22325927e-04   2.70390767e-04   1.40021942e-04   7.25459924e-05\n",
      "   3.76074118e-05   1.95069610e-05   1.01243377e-05   5.25780426e-06\n",
      "   2.73212416e-06   1.42053133e-06   7.39011289e-07   3.84677187e-07\n",
      "   2.00346632e-07   1.04400624e-07   5.44320677e-08   2.83943951e-08\n",
      "   1.48194452e-08   7.73835072e-09   4.04275798e-09   2.11307930e-09\n",
      "   1.10499048e-09   5.78098776e-10   3.02581610e-10   1.58444175e-10\n",
      "   8.30041285e-11   4.35020057e-11   2.28087601e-11   1.19639212e-11\n",
      "   6.27800566e-12   3.29566450e-12   1.73074875e-12   9.09269310e-13\n",
      "   4.77874679e-13   2.51247032e-13   1.32142320e-13   6.95245929e-14\n",
      "   3.65928561e-14   1.92663365e-14   1.01481672e-14   5.34631728e-15\n",
      "   2.81769484e-15   1.48513374e-15   7.82618537e-16   4.13758511e-16\n",
      "   2.19134782e-16   1.14594405e-16   6.10335837e-17   3.22119030e-17\n",
      "   1.64171132e-17   8.78285552e-18   5.07599519e-18   3.26050666e-18\n",
      "   1.57119250e-18   0.00000000e+00   0.00000000e+00   0.00000000e+00\n",
      "   0.00000000e+00   0.00000000e+00   0.00000000e+00   0.00000000e+00\n",
      "   0.00000000e+00   0.00000000e+00   0.00000000e+00   0.00000000e+00\n",
      "   0.00000000e+00   0.00000000e+00   0.00000000e+00   0.00000000e+00\n",
      "   0.00000000e+00   0.00000000e+00   0.00000000e+00   0.00000000e+00\n",
      "   0.00000000e+00   0.00000000e+00   0.00000000e+00   0.00000000e+00\n",
      "   0.00000000e+00   0.00000000e+00   0.00000000e+00   0.00000000e+00\n",
      "   0.00000000e+00   0.00000000e+00   0.00000000e+00   0.00000000e+00\n",
      "   0.00000000e+00   0.00000000e+00   0.00000000e+00   0.00000000e+00]\n"
     ]
    }
   ],
   "source": [
    "print R\n",
    "print UR"
   ]
  },
  {
   "cell_type": "code",
   "execution_count": 74,
   "metadata": {
    "collapsed": true
   },
   "outputs": [],
   "source": [
    "init_guess(R, UR, N_fix)"
   ]
  },
  {
   "cell_type": "code",
   "execution_count": 73,
   "metadata": {
    "collapsed": false
   },
   "outputs": [
    {
     "data": {
      "text/plain": [
       "152"
      ]
     },
     "execution_count": 73,
     "metadata": {},
     "output_type": "execute_result"
    }
   ],
   "source": [
    "len(R)"
   ]
  },
  {
   "cell_type": "code",
   "execution_count": null,
   "metadata": {
    "collapsed": true
   },
   "outputs": [],
   "source": []
  },
  {
   "cell_type": "code",
   "execution_count": null,
   "metadata": {
    "collapsed": true
   },
   "outputs": [],
   "source": [
    "#TRUNC HEX 4c"
   ]
  },
  {
   "cell_type": "code",
   "execution_count": 85,
   "metadata": {
    "collapsed": true
   },
   "outputs": [],
   "source": [
    "#trial ipl params\n",
    "d = 1.0\n",
    "a = 5.0\n",
    "A = 1.0\n",
    "k = 20.0\n",
    "\n",
    "#re potential constraints\n",
    "dr = 0.015\n",
    "N_opt = 162\n",
    "N_fix = 3\n",
    "r_shrink = 1.10\n",
    "r_cut = 2.72 + (N_fix-1)*dr\n",
    "\n",
    "#vector of r values\n",
    "R_temp = [r_cut - i*dr for i in range(N_opt + N_fix)]\n",
    "R_temp.reverse()\n",
    "R = array(R_temp)\n",
    "\n",
    "#get the potential\n",
    "UR = ipl_pot(R, \n",
    "             d, a, A, k, \n",
    "             r_cut, dr, r_shrink)"
   ]
  },
  {
   "cell_type": "code",
   "execution_count": 86,
   "metadata": {
    "collapsed": false,
    "scrolled": true
   },
   "outputs": [
    {
     "name": "stdout",
     "output_type": "stream",
     "text": [
      "[ 0.29   0.305  0.32   0.335  0.35   0.365  0.38   0.395  0.41   0.425\n",
      "  0.44   0.455  0.47   0.485  0.5    0.515  0.53   0.545  0.56   0.575\n",
      "  0.59   0.605  0.62   0.635  0.65   0.665  0.68   0.695  0.71   0.725\n",
      "  0.74   0.755  0.77   0.785  0.8    0.815  0.83   0.845  0.86   0.875\n",
      "  0.89   0.905  0.92   0.935  0.95   0.965  0.98   0.995  1.01   1.025\n",
      "  1.04   1.055  1.07   1.085  1.1    1.115  1.13   1.145  1.16   1.175\n",
      "  1.19   1.205  1.22   1.235  1.25   1.265  1.28   1.295  1.31   1.325\n",
      "  1.34   1.355  1.37   1.385  1.4    1.415  1.43   1.445  1.46   1.475\n",
      "  1.49   1.505  1.52   1.535  1.55   1.565  1.58   1.595  1.61   1.625\n",
      "  1.64   1.655  1.67   1.685  1.7    1.715  1.73   1.745  1.76   1.775\n",
      "  1.79   1.805  1.82   1.835  1.85   1.865  1.88   1.895  1.91   1.925\n",
      "  1.94   1.955  1.97   1.985  2.     2.015  2.03   2.045  2.06   2.075\n",
      "  2.09   2.105  2.12   2.135  2.15   2.165  2.18   2.195  2.21   2.225\n",
      "  2.24   2.255  2.27   2.285  2.3    2.315  2.33   2.345  2.36   2.375\n",
      "  2.39   2.405  2.42   2.435  2.45   2.465  2.48   2.495  2.51   2.525\n",
      "  2.54   2.555  2.57   2.585  2.6    2.615  2.63   2.645  2.66   2.675\n",
      "  2.69   2.705  2.72   2.735  2.75 ]\n",
      "[  4.87539728e+02   3.78879235e+02   2.98023224e+02   2.37015072e+02\n",
      "   1.90396858e+02   1.54360323e+02   1.26206585e+02   1.03995494e+02\n",
      "   8.63138953e+01   7.21199388e+01   6.06368480e+01   5.12794096e+01\n",
      "   4.36024317e+01   3.72641575e+01   3.20000000e+01   2.76034811e+01\n",
      "   2.39122615e+01   2.07978044e+01   1.81576594e+01   1.59096555e+01\n",
      "   1.39874949e+01   1.23373852e+01   1.09154476e+01   9.68570795e+00\n",
      "   8.61853025e+00   7.68938775e+00   6.87789299e+00   6.16702824e+00\n",
      "   5.54253167e+00   4.99240529e+00   4.50651851e+00   4.07628744e+00\n",
      "   3.69441408e+00   3.35467345e+00   3.05173906e+00   2.78103910e+00\n",
      "   2.53863743e+00   2.32113453e+00   2.12558429e+00   1.94942325e+00\n",
      "   1.79040928e+00   1.64656619e+00   1.51613106e+00   1.39749913e+00\n",
      "   1.28915993e+00   1.18961470e+00   1.09726143e+00   1.01023043e+00\n",
      "   9.26159561e-01   8.41936726e-01   7.53565213e-01   6.56599231e-01\n",
      "   5.47947549e-01   4.29390771e-01   3.10460662e-01   2.05612906e-01\n",
      "   1.25635474e-01   7.20784049e-02   3.95996033e-02   2.11751260e-02\n",
      "   1.11454534e-02   5.81518843e-03   3.02014522e-03   1.56501282e-03\n",
      "   8.10229156e-04   4.19385483e-04   2.17122967e-04   1.12454358e-04\n",
      "   5.82736507e-05   3.02145881e-05   1.56754338e-05   8.13736255e-06\n",
      "   4.22676303e-06   2.19679321e-06   1.14241362e-06   5.94437042e-07\n",
      "   3.09479472e-07   1.61211669e-07   8.40223724e-08   4.38149719e-08\n",
      "   2.28599180e-08   1.19329234e-08   6.23210472e-09   3.25637269e-09\n",
      "   1.70231854e-09   8.90329829e-10   4.65865460e-10   2.43874179e-10\n",
      "   1.27721258e-10   6.69189424e-11   3.50767982e-11   1.83938431e-11\n",
      "   9.64947185e-12   5.06418422e-12   2.65881406e-12   1.39648088e-12\n",
      "   7.33749003e-13   3.85676768e-13   2.02796205e-13   1.06674981e-13\n",
      "   5.61316146e-14   2.95467155e-14   1.55588897e-14   8.19636146e-15\n",
      "   4.31895981e-15   2.27576695e-15   1.20075582e-15   6.33779760e-16\n",
      "   3.34121813e-16   1.76402953e-16   9.29243252e-17   4.85944235e-17\n",
      "   2.61925112e-17   1.44101223e-17   6.93889390e-18   3.34221957e-18\n",
      "   1.61027498e-18   1.55207846e-18   0.00000000e+00   0.00000000e+00\n",
      "   0.00000000e+00   0.00000000e+00   0.00000000e+00   0.00000000e+00\n",
      "   0.00000000e+00   0.00000000e+00   0.00000000e+00   0.00000000e+00\n",
      "   0.00000000e+00   0.00000000e+00   0.00000000e+00   0.00000000e+00\n",
      "   0.00000000e+00   0.00000000e+00   0.00000000e+00   0.00000000e+00\n",
      "   0.00000000e+00   0.00000000e+00   0.00000000e+00   0.00000000e+00\n",
      "   0.00000000e+00   0.00000000e+00   0.00000000e+00   0.00000000e+00\n",
      "   0.00000000e+00   0.00000000e+00   0.00000000e+00   0.00000000e+00\n",
      "   0.00000000e+00   0.00000000e+00   0.00000000e+00   0.00000000e+00\n",
      "   0.00000000e+00   0.00000000e+00   0.00000000e+00   0.00000000e+00\n",
      "   0.00000000e+00   0.00000000e+00   0.00000000e+00   0.00000000e+00\n",
      "   0.00000000e+00   0.00000000e+00   0.00000000e+00   0.00000000e+00\n",
      "   0.00000000e+00]\n"
     ]
    }
   ],
   "source": [
    "print R\n",
    "print UR"
   ]
  },
  {
   "cell_type": "code",
   "execution_count": 87,
   "metadata": {
    "collapsed": true
   },
   "outputs": [],
   "source": [
    "init_guess(R, UR, N_fix)"
   ]
  },
  {
   "cell_type": "code",
   "execution_count": 88,
   "metadata": {
    "collapsed": false
   },
   "outputs": [
    {
     "data": {
      "text/plain": [
       "165"
      ]
     },
     "execution_count": 88,
     "metadata": {},
     "output_type": "execute_result"
    }
   ],
   "source": [
    "len(R)"
   ]
  },
  {
   "cell_type": "code",
   "execution_count": null,
   "metadata": {
    "collapsed": true
   },
   "outputs": [],
   "source": []
  },
  {
   "cell_type": "code",
   "execution_count": null,
   "metadata": {
    "collapsed": true
   },
   "outputs": [],
   "source": [
    "#TRUNC HEX 5c"
   ]
  },
  {
   "cell_type": "code",
   "execution_count": 99,
   "metadata": {
    "collapsed": true
   },
   "outputs": [],
   "source": [
    "#trial ipl params\n",
    "d = 1.0\n",
    "a = 5.0\n",
    "A = 1.0\n",
    "k = 20.0\n",
    "\n",
    "#re potential constraints\n",
    "dr = 0.015\n",
    "N_opt = 188\n",
    "N_fix = 3\n",
    "r_shrink = 1.10\n",
    "r_cut = 3.11 + (N_fix-1)*dr\n",
    "\n",
    "#vector of r values\n",
    "R_temp = [r_cut - i*dr for i in range(N_opt + N_fix)]\n",
    "R_temp.reverse()\n",
    "R = array(R_temp)\n",
    "\n",
    "#get the potential\n",
    "UR = ipl_pot(R, \n",
    "             d, a, A, k, \n",
    "             r_cut, dr, r_shrink)"
   ]
  },
  {
   "cell_type": "code",
   "execution_count": 98,
   "metadata": {
    "collapsed": false,
    "scrolled": true
   },
   "outputs": [
    {
     "name": "stdout",
     "output_type": "stream",
     "text": [
      "[ 0.29   0.305  0.32   0.335  0.35   0.365  0.38   0.395  0.41   0.425\n",
      "  0.44   0.455  0.47   0.485  0.5    0.515  0.53   0.545  0.56   0.575\n",
      "  0.59   0.605  0.62   0.635  0.65   0.665  0.68   0.695  0.71   0.725\n",
      "  0.74   0.755  0.77   0.785  0.8    0.815  0.83   0.845  0.86   0.875\n",
      "  0.89   0.905  0.92   0.935  0.95   0.965  0.98   0.995  1.01   1.025\n",
      "  1.04   1.055  1.07   1.085  1.1    1.115  1.13   1.145  1.16   1.175\n",
      "  1.19   1.205  1.22   1.235  1.25   1.265  1.28   1.295  1.31   1.325\n",
      "  1.34   1.355  1.37   1.385  1.4    1.415  1.43   1.445  1.46   1.475\n",
      "  1.49   1.505  1.52   1.535  1.55   1.565  1.58   1.595  1.61   1.625\n",
      "  1.64   1.655  1.67   1.685  1.7    1.715  1.73   1.745  1.76   1.775\n",
      "  1.79   1.805  1.82   1.835  1.85   1.865  1.88   1.895  1.91   1.925\n",
      "  1.94   1.955  1.97   1.985  2.     2.015  2.03   2.045  2.06   2.075\n",
      "  2.09   2.105  2.12   2.135  2.15   2.165  2.18   2.195  2.21   2.225\n",
      "  2.24   2.255  2.27   2.285  2.3    2.315  2.33   2.345  2.36   2.375\n",
      "  2.39   2.405  2.42   2.435  2.45   2.465  2.48   2.495  2.51   2.525\n",
      "  2.54   2.555  2.57   2.585  2.6    2.615  2.63   2.645  2.66   2.675\n",
      "  2.69   2.705  2.72   2.735  2.75   2.765  2.78   2.795  2.81   2.825\n",
      "  2.84   2.855  2.87   2.885  2.9    2.915  2.93   2.945  2.96   2.975\n",
      "  2.99   3.005  3.02   3.035  3.05   3.065  3.08   3.095  3.11   3.125\n",
      "  3.14 ]\n",
      "[  4.87539728e+02   3.78879235e+02   2.98023224e+02   2.37015072e+02\n",
      "   1.90396858e+02   1.54360323e+02   1.26206585e+02   1.03995494e+02\n",
      "   8.63138953e+01   7.21199388e+01   6.06368480e+01   5.12794096e+01\n",
      "   4.36024317e+01   3.72641575e+01   3.20000000e+01   2.76034811e+01\n",
      "   2.39122615e+01   2.07978044e+01   1.81576594e+01   1.59096555e+01\n",
      "   1.39874949e+01   1.23373852e+01   1.09154476e+01   9.68570795e+00\n",
      "   8.61853025e+00   7.68938775e+00   6.87789299e+00   6.16702824e+00\n",
      "   5.54253167e+00   4.99240529e+00   4.50651851e+00   4.07628744e+00\n",
      "   3.69441408e+00   3.35467345e+00   3.05173906e+00   2.78103910e+00\n",
      "   2.53863743e+00   2.32113453e+00   2.12558429e+00   1.94942325e+00\n",
      "   1.79040928e+00   1.64656619e+00   1.51613106e+00   1.39749913e+00\n",
      "   1.28915993e+00   1.18961470e+00   1.09726143e+00   1.01023043e+00\n",
      "   9.26159561e-01   8.41936726e-01   7.53565213e-01   6.56599231e-01\n",
      "   5.47947549e-01   4.29390771e-01   3.10460662e-01   2.05612906e-01\n",
      "   1.25635474e-01   7.20784049e-02   3.95996033e-02   2.11751260e-02\n",
      "   1.11454534e-02   5.81518843e-03   3.02014522e-03   1.56501282e-03\n",
      "   8.10229156e-04   4.19385483e-04   2.17122967e-04   1.12454358e-04\n",
      "   5.82736507e-05   3.02145881e-05   1.56754338e-05   8.13736255e-06\n",
      "   4.22676303e-06   2.19679321e-06   1.14241362e-06   5.94437042e-07\n",
      "   3.09479472e-07   1.61211669e-07   8.40223724e-08   4.38149719e-08\n",
      "   2.28599180e-08   1.19329234e-08   6.23210472e-09   3.25637269e-09\n",
      "   1.70231854e-09   8.90329829e-10   4.65865460e-10   2.43874179e-10\n",
      "   1.27721258e-10   6.69189424e-11   3.50767982e-11   1.83938431e-11\n",
      "   9.64947185e-12   5.06418422e-12   2.65881406e-12   1.39648088e-12\n",
      "   7.33749003e-13   3.85676768e-13   2.02796205e-13   1.06674981e-13\n",
      "   5.61316146e-14   2.95467155e-14   1.55588897e-14   8.19636146e-15\n",
      "   4.31895981e-15   2.27576695e-15   1.20075582e-15   6.33779760e-16\n",
      "   3.34121813e-16   1.76402953e-16   9.29243252e-17   4.85944235e-17\n",
      "   2.61925112e-17   1.44101223e-17   6.93889390e-18   3.34221957e-18\n",
      "   1.61027498e-18   1.55207846e-18   0.00000000e+00   0.00000000e+00\n",
      "   0.00000000e+00   0.00000000e+00   0.00000000e+00   0.00000000e+00\n",
      "   0.00000000e+00   0.00000000e+00   0.00000000e+00   0.00000000e+00\n",
      "   0.00000000e+00   0.00000000e+00   0.00000000e+00   0.00000000e+00\n",
      "   0.00000000e+00   0.00000000e+00   0.00000000e+00   0.00000000e+00\n",
      "   0.00000000e+00   0.00000000e+00   0.00000000e+00   0.00000000e+00\n",
      "   0.00000000e+00   0.00000000e+00   0.00000000e+00   0.00000000e+00\n",
      "   0.00000000e+00   0.00000000e+00   0.00000000e+00   0.00000000e+00\n",
      "   0.00000000e+00   0.00000000e+00   0.00000000e+00   0.00000000e+00\n",
      "   0.00000000e+00   0.00000000e+00   0.00000000e+00   0.00000000e+00\n",
      "   0.00000000e+00   0.00000000e+00   0.00000000e+00   0.00000000e+00\n",
      "   0.00000000e+00   0.00000000e+00   0.00000000e+00   0.00000000e+00\n",
      "   0.00000000e+00   0.00000000e+00   0.00000000e+00   0.00000000e+00\n",
      "   0.00000000e+00   0.00000000e+00   0.00000000e+00   0.00000000e+00\n",
      "   0.00000000e+00   0.00000000e+00   0.00000000e+00   0.00000000e+00\n",
      "   0.00000000e+00   0.00000000e+00   0.00000000e+00   0.00000000e+00\n",
      "   0.00000000e+00   0.00000000e+00   0.00000000e+00   0.00000000e+00\n",
      "   0.00000000e+00   0.00000000e+00   0.00000000e+00   0.00000000e+00\n",
      "   0.00000000e+00   0.00000000e+00   0.00000000e+00]\n"
     ]
    }
   ],
   "source": [
    "print R\n",
    "print UR"
   ]
  },
  {
   "cell_type": "code",
   "execution_count": 100,
   "metadata": {
    "collapsed": true
   },
   "outputs": [],
   "source": [
    "init_guess(R, UR, N_fix)"
   ]
  },
  {
   "cell_type": "code",
   "execution_count": 101,
   "metadata": {
    "collapsed": false
   },
   "outputs": [
    {
     "data": {
      "text/plain": [
       "191"
      ]
     },
     "execution_count": 101,
     "metadata": {},
     "output_type": "execute_result"
    }
   ],
   "source": [
    "len(R)"
   ]
  },
  {
   "cell_type": "code",
   "execution_count": null,
   "metadata": {
    "collapsed": true
   },
   "outputs": [],
   "source": []
  },
  {
   "cell_type": "code",
   "execution_count": null,
   "metadata": {
    "collapsed": true
   },
   "outputs": [],
   "source": [
    "#TRUNC TRIHEX 5c"
   ]
  },
  {
   "cell_type": "code",
   "execution_count": 110,
   "metadata": {
    "collapsed": true
   },
   "outputs": [],
   "source": [
    "#trial ipl params\n",
    "d = 1.0\n",
    "a = 5.0\n",
    "A = 1.0\n",
    "k = 20.0\n",
    "\n",
    "#re potential constraints\n",
    "dr = 0.015\n",
    "N_opt = 110\n",
    "N_fix = 3\n",
    "r_shrink = 1.10\n",
    "r_cut = 1.87 + (N_fix-1)*dr\n",
    "\n",
    "#vector of r values\n",
    "R_temp = [r_cut - i*dr for i in range(N_opt + N_fix)]\n",
    "R_temp.reverse()\n",
    "R = array(R_temp)\n",
    "\n",
    "#get the potential\n",
    "UR = ipl_pot(R, \n",
    "             d, a, A, k, \n",
    "             r_cut, dr, r_shrink)"
   ]
  },
  {
   "cell_type": "code",
   "execution_count": 111,
   "metadata": {
    "collapsed": false,
    "scrolled": true
   },
   "outputs": [
    {
     "name": "stdout",
     "output_type": "stream",
     "text": [
      "[ 0.22   0.235  0.25   0.265  0.28   0.295  0.31   0.325  0.34   0.355\n",
      "  0.37   0.385  0.4    0.415  0.43   0.445  0.46   0.475  0.49   0.505\n",
      "  0.52   0.535  0.55   0.565  0.58   0.595  0.61   0.625  0.64   0.655\n",
      "  0.67   0.685  0.7    0.715  0.73   0.745  0.76   0.775  0.79   0.805\n",
      "  0.82   0.835  0.85   0.865  0.88   0.895  0.91   0.925  0.94   0.955\n",
      "  0.97   0.985  1.     1.015  1.03   1.045  1.06   1.075  1.09   1.105\n",
      "  1.12   1.135  1.15   1.165  1.18   1.195  1.21   1.225  1.24   1.255\n",
      "  1.27   1.285  1.3    1.315  1.33   1.345  1.36   1.375  1.39   1.405\n",
      "  1.42   1.435  1.45   1.465  1.48   1.495  1.51   1.525  1.54   1.555\n",
      "  1.57   1.585  1.6    1.615  1.63   1.645  1.66   1.675  1.69   1.705\n",
      "  1.72   1.735  1.75   1.765  1.78   1.795  1.81   1.825  1.84   1.855\n",
      "  1.87   1.885  1.9  ]\n",
      "[  1.94037913e+03   1.39527781e+03   1.02400000e+03   7.65192369e+02\n",
      "   5.81045100e+02   4.47599837e+02   3.49294326e+02   2.75792972e+02\n",
      "   2.20092587e+02   1.77361043e+02   1.44208673e+02   1.18221469e+02\n",
      "   9.76562500e+01   8.12380549e+01   6.80233039e+01   5.73059802e+01\n",
      "   4.85524156e+01   4.13553739e+01   3.54013317e+01   3.04469020e+01\n",
      "   2.63016674e+01   2.28155577e+01   1.98694823e+01   1.73683179e+01\n",
      "   1.52356165e+01   1.34095798e+01   1.18399760e+01   1.04857599e+01\n",
      "   9.31322565e+00   8.29456265e+00   7.40672076e+00   6.63051277e+00\n",
      "   5.94990116e+00   5.35142819e+00   4.82375828e+00   4.35730881e+00\n",
      "   3.94395090e+00   3.57676581e+00   3.24984580e+00   2.95813057e+00\n",
      "   2.69727234e+00   2.46352402e+00   2.25364577e+00   2.06482637e+00\n",
      "   1.89461592e+00   1.74086687e+00   1.60167999e+00   1.47535146e+00\n",
      "   1.36031575e+00   1.25507673e+00   1.15811610e+00   1.06776378e+00\n",
      "   9.82013790e-01   8.98281727e-01   8.13160447e-01   7.22406162e-01\n",
      "   6.21732538e-01   5.09225164e-01   3.89105901e-01   2.73250713e-01\n",
      "   1.75916805e-01   1.05022500e-01   5.92649196e-02   3.22173508e-02\n",
      "   1.71196984e-02   8.97910432e-03   4.67603672e-03   2.42622296e-03\n",
      "   1.25672275e-03   6.50541648e-04   3.36740600e-04   1.74357171e-04\n",
      "   9.03195402e-05   4.68121667e-05   2.42766459e-05   1.25973320e-05\n",
      "   6.54078133e-06   3.39812973e-06   1.76646903e-06   9.18805349e-07\n",
      "   4.78175929e-07   2.48996807e-07   1.29728943e-07   6.76257725e-08\n",
      "   3.52707897e-08   1.84052258e-08   9.60916619e-09   5.01931587e-09\n",
      "   2.62309138e-09   1.37147626e-09   7.17406264e-10   3.75439643e-10\n",
      "   1.96566417e-10   1.02960083e-10   5.39529046e-11   2.82841376e-11\n",
      "   1.48336569e-11   7.78259377e-12   4.08472101e-12   2.14460743e-12\n",
      "   1.12630847e-12   5.91627857e-13   3.10769731e-13   1.63186580e-13\n",
      "   8.56058958e-14   4.48100495e-14   2.33461806e-14   1.20526504e-14\n",
      "   6.10841130e-15   2.97655657e-15   1.32652387e-15   4.59175559e-16\n",
      "   0.00000000e+00]\n"
     ]
    }
   ],
   "source": [
    "print R\n",
    "print UR"
   ]
  },
  {
   "cell_type": "code",
   "execution_count": 112,
   "metadata": {
    "collapsed": true
   },
   "outputs": [],
   "source": [
    "init_guess(R, UR, N_fix)"
   ]
  },
  {
   "cell_type": "code",
   "execution_count": 113,
   "metadata": {
    "collapsed": false
   },
   "outputs": [
    {
     "data": {
      "text/plain": [
       "113"
      ]
     },
     "execution_count": 113,
     "metadata": {},
     "output_type": "execute_result"
    }
   ],
   "source": [
    "len(R)"
   ]
  },
  {
   "cell_type": "code",
   "execution_count": null,
   "metadata": {
    "collapsed": true
   },
   "outputs": [],
   "source": []
  },
  {
   "cell_type": "code",
   "execution_count": null,
   "metadata": {
    "collapsed": true
   },
   "outputs": [],
   "source": []
  },
  {
   "cell_type": "code",
   "execution_count": null,
   "metadata": {
    "collapsed": true
   },
   "outputs": [],
   "source": []
  },
  {
   "cell_type": "code",
   "execution_count": null,
   "metadata": {
    "collapsed": true
   },
   "outputs": [],
   "source": [
    "#TRUNC TRIHEX 6c"
   ]
  },
  {
   "cell_type": "code",
   "execution_count": 122,
   "metadata": {
    "collapsed": true
   },
   "outputs": [],
   "source": [
    "#trial ipl params\n",
    "d = 1.0\n",
    "a = 5.0\n",
    "A = 1.0\n",
    "k = 20.0\n",
    "\n",
    "#re potential constraints\n",
    "dr = 0.015\n",
    "N_opt = 130\n",
    "N_fix = 3\n",
    "r_shrink = 1.10\n",
    "r_cut = 2.25 + (N_fix-1)*dr\n",
    "\n",
    "#vector of r values\n",
    "R_temp = [r_cut - i*dr for i in range(N_opt + N_fix)]\n",
    "R_temp.reverse()\n",
    "R = array(R_temp)\n",
    "\n",
    "#get the potential\n",
    "UR = ipl_pot(R, \n",
    "             d, a, A, k, \n",
    "             r_cut, dr, r_shrink)"
   ]
  },
  {
   "cell_type": "code",
   "execution_count": 123,
   "metadata": {
    "collapsed": false,
    "scrolled": true
   },
   "outputs": [
    {
     "name": "stdout",
     "output_type": "stream",
     "text": [
      "[ 0.3    0.315  0.33   0.345  0.36   0.375  0.39   0.405  0.42   0.435\n",
      "  0.45   0.465  0.48   0.495  0.51   0.525  0.54   0.555  0.57   0.585  0.6\n",
      "  0.615  0.63   0.645  0.66   0.675  0.69   0.705  0.72   0.735  0.75\n",
      "  0.765  0.78   0.795  0.81   0.825  0.84   0.855  0.87   0.885  0.9    0.915\n",
      "  0.93   0.945  0.96   0.975  0.99   1.005  1.02   1.035  1.05   1.065\n",
      "  1.08   1.095  1.11   1.125  1.14   1.155  1.17   1.185  1.2    1.215\n",
      "  1.23   1.245  1.26   1.275  1.29   1.305  1.32   1.335  1.35   1.365\n",
      "  1.38   1.395  1.41   1.425  1.44   1.455  1.47   1.485  1.5    1.515\n",
      "  1.53   1.545  1.56   1.575  1.59   1.605  1.62   1.635  1.65   1.665\n",
      "  1.68   1.695  1.71   1.725  1.74   1.755  1.77   1.785  1.8    1.815\n",
      "  1.83   1.845  1.86   1.875  1.89   1.905  1.92   1.935  1.95   1.965\n",
      "  1.98   1.995  2.01   2.025  2.04   2.055  2.07   2.085  2.1    2.115\n",
      "  2.13   2.145  2.16   2.175  2.19   2.205  2.22   2.235  2.25   2.265\n",
      "  2.28 ]\n",
      "[  4.11522634e+02   3.22438752e+02   2.55523178e+02   2.04599480e+02\n",
      "   1.65381717e+02   1.34847737e+02   1.10835010e+02   9.17751037e+01\n",
      "   7.65162272e+01   6.42027625e+01   5.41922810e+01   4.59976067e+01\n",
      "   3.92458566e+01   3.36491428e+01   2.89833859e+01   2.50728373e+01\n",
      "   2.17786623e+01   1.89904425e+01   1.66197972e+01   1.45955569e+01\n",
      "   1.28600823e+01   1.13664388e+01   1.00762109e+01   8.95780123e+00\n",
      "   7.98509914e+00   7.13643177e+00   6.39373325e+00   5.74188322e+00\n",
      "   5.16817736e+00   4.66190164e+00   4.21398827e+00   3.81673640e+00\n",
      "   3.46358450e+00   3.14892395e+00   2.86794570e+00   2.61651364e+00\n",
      "   2.39105933e+00   2.18849392e+00   2.00613363e+00   1.84163558e+00\n",
      "   1.69294086e+00   1.55822134e+00   1.43582602e+00   1.32422103e+00\n",
      "   1.22191455e+00   1.12735445e+00   1.03878223e+00   9.54028319e-01\n",
      "   8.70257208e-01   7.83760472e-01   6.90127558e-01   5.85498648e-01\n",
      "   4.69585038e-01   3.49269766e-01   2.38159341e-01   1.49243383e-01\n",
      "   8.72443869e-02   4.85294213e-02   2.61461959e-02   1.38213284e-02\n",
      "   7.22825439e-03   3.75854999e-03   1.94874004e-03   1.00909577e-03\n",
      "   5.22325927e-04   2.70390767e-04   1.40021942e-04   7.25459924e-05\n",
      "   3.76074118e-05   1.95069610e-05   1.01243377e-05   5.25780426e-06\n",
      "   2.73212416e-06   1.42053133e-06   7.39011289e-07   3.84677187e-07\n",
      "   2.00346632e-07   1.04400624e-07   5.44320677e-08   2.83943951e-08\n",
      "   1.48194452e-08   7.73835072e-09   4.04275798e-09   2.11307930e-09\n",
      "   1.10499048e-09   5.78098776e-10   3.02581610e-10   1.58444175e-10\n",
      "   8.30041285e-11   4.35020057e-11   2.28087601e-11   1.19639212e-11\n",
      "   6.27800566e-12   3.29566450e-12   1.73074875e-12   9.09269310e-13\n",
      "   4.77874679e-13   2.51247032e-13   1.32142320e-13   6.95245929e-14\n",
      "   3.65928561e-14   1.92663365e-14   1.01481672e-14   5.34631728e-15\n",
      "   2.81769484e-15   1.48513374e-15   7.82618537e-16   4.13758511e-16\n",
      "   2.19134782e-16   1.14594405e-16   6.10335837e-17   3.22119030e-17\n",
      "   1.64171132e-17   8.78285552e-18   5.07599519e-18   3.26050666e-18\n",
      "   1.57119250e-18   0.00000000e+00   0.00000000e+00   0.00000000e+00\n",
      "   0.00000000e+00   0.00000000e+00   0.00000000e+00   0.00000000e+00\n",
      "   0.00000000e+00   0.00000000e+00   0.00000000e+00   0.00000000e+00\n",
      "   0.00000000e+00   0.00000000e+00   0.00000000e+00   0.00000000e+00\n",
      "   0.00000000e+00]\n"
     ]
    }
   ],
   "source": [
    "print R\n",
    "print UR"
   ]
  },
  {
   "cell_type": "code",
   "execution_count": 124,
   "metadata": {
    "collapsed": true
   },
   "outputs": [],
   "source": [
    "init_guess(R, UR, N_fix)"
   ]
  },
  {
   "cell_type": "code",
   "execution_count": 125,
   "metadata": {
    "collapsed": false
   },
   "outputs": [
    {
     "data": {
      "text/plain": [
       "133"
      ]
     },
     "execution_count": 125,
     "metadata": {},
     "output_type": "execute_result"
    }
   ],
   "source": [
    "len(R)"
   ]
  },
  {
   "cell_type": "code",
   "execution_count": null,
   "metadata": {
    "collapsed": true
   },
   "outputs": [],
   "source": []
  },
  {
   "cell_type": "code",
   "execution_count": null,
   "metadata": {
    "collapsed": true
   },
   "outputs": [],
   "source": [
    "#TRUNC TRIHEX 7c"
   ]
  },
  {
   "cell_type": "code",
   "execution_count": 134,
   "metadata": {
    "collapsed": true
   },
   "outputs": [],
   "source": [
    "#trial ipl params\n",
    "d = 1.0\n",
    "a = 5.0\n",
    "A = 1.0\n",
    "k = 20.0\n",
    "\n",
    "#re potential constraints\n",
    "dr = 0.015\n",
    "N_opt = 150\n",
    "N_fix = 3\n",
    "r_shrink = 1.10\n",
    "r_cut = 2.54 + (N_fix-1)*dr\n",
    "\n",
    "#vector of r values\n",
    "R_temp = [r_cut - i*dr for i in range(N_opt + N_fix)]\n",
    "R_temp.reverse()\n",
    "R = array(R_temp)\n",
    "\n",
    "#get the potential\n",
    "UR = ipl_pot(R, \n",
    "             d, a, A, k, \n",
    "             r_cut, dr, r_shrink)"
   ]
  },
  {
   "cell_type": "code",
   "execution_count": 135,
   "metadata": {
    "collapsed": false,
    "scrolled": true
   },
   "outputs": [
    {
     "name": "stdout",
     "output_type": "stream",
     "text": [
      "[ 0.29   0.305  0.32   0.335  0.35   0.365  0.38   0.395  0.41   0.425\n",
      "  0.44   0.455  0.47   0.485  0.5    0.515  0.53   0.545  0.56   0.575\n",
      "  0.59   0.605  0.62   0.635  0.65   0.665  0.68   0.695  0.71   0.725\n",
      "  0.74   0.755  0.77   0.785  0.8    0.815  0.83   0.845  0.86   0.875\n",
      "  0.89   0.905  0.92   0.935  0.95   0.965  0.98   0.995  1.01   1.025\n",
      "  1.04   1.055  1.07   1.085  1.1    1.115  1.13   1.145  1.16   1.175\n",
      "  1.19   1.205  1.22   1.235  1.25   1.265  1.28   1.295  1.31   1.325\n",
      "  1.34   1.355  1.37   1.385  1.4    1.415  1.43   1.445  1.46   1.475\n",
      "  1.49   1.505  1.52   1.535  1.55   1.565  1.58   1.595  1.61   1.625\n",
      "  1.64   1.655  1.67   1.685  1.7    1.715  1.73   1.745  1.76   1.775\n",
      "  1.79   1.805  1.82   1.835  1.85   1.865  1.88   1.895  1.91   1.925\n",
      "  1.94   1.955  1.97   1.985  2.     2.015  2.03   2.045  2.06   2.075\n",
      "  2.09   2.105  2.12   2.135  2.15   2.165  2.18   2.195  2.21   2.225\n",
      "  2.24   2.255  2.27   2.285  2.3    2.315  2.33   2.345  2.36   2.375\n",
      "  2.39   2.405  2.42   2.435  2.45   2.465  2.48   2.495  2.51   2.525\n",
      "  2.54   2.555  2.57 ]\n",
      "[  4.87539728e+02   3.78879235e+02   2.98023224e+02   2.37015072e+02\n",
      "   1.90396858e+02   1.54360323e+02   1.26206585e+02   1.03995494e+02\n",
      "   8.63138953e+01   7.21199388e+01   6.06368480e+01   5.12794096e+01\n",
      "   4.36024317e+01   3.72641575e+01   3.20000000e+01   2.76034811e+01\n",
      "   2.39122615e+01   2.07978044e+01   1.81576594e+01   1.59096555e+01\n",
      "   1.39874949e+01   1.23373852e+01   1.09154476e+01   9.68570795e+00\n",
      "   8.61853025e+00   7.68938775e+00   6.87789299e+00   6.16702824e+00\n",
      "   5.54253167e+00   4.99240529e+00   4.50651851e+00   4.07628744e+00\n",
      "   3.69441408e+00   3.35467345e+00   3.05173906e+00   2.78103910e+00\n",
      "   2.53863743e+00   2.32113453e+00   2.12558429e+00   1.94942325e+00\n",
      "   1.79040928e+00   1.64656619e+00   1.51613106e+00   1.39749913e+00\n",
      "   1.28915993e+00   1.18961470e+00   1.09726143e+00   1.01023043e+00\n",
      "   9.26159561e-01   8.41936726e-01   7.53565213e-01   6.56599231e-01\n",
      "   5.47947549e-01   4.29390771e-01   3.10460662e-01   2.05612906e-01\n",
      "   1.25635474e-01   7.20784049e-02   3.95996033e-02   2.11751260e-02\n",
      "   1.11454534e-02   5.81518843e-03   3.02014522e-03   1.56501282e-03\n",
      "   8.10229156e-04   4.19385483e-04   2.17122967e-04   1.12454358e-04\n",
      "   5.82736507e-05   3.02145881e-05   1.56754338e-05   8.13736255e-06\n",
      "   4.22676303e-06   2.19679321e-06   1.14241362e-06   5.94437042e-07\n",
      "   3.09479472e-07   1.61211669e-07   8.40223724e-08   4.38149719e-08\n",
      "   2.28599180e-08   1.19329234e-08   6.23210472e-09   3.25637269e-09\n",
      "   1.70231854e-09   8.90329829e-10   4.65865460e-10   2.43874179e-10\n",
      "   1.27721258e-10   6.69189424e-11   3.50767982e-11   1.83938431e-11\n",
      "   9.64947185e-12   5.06418422e-12   2.65881406e-12   1.39648088e-12\n",
      "   7.33749003e-13   3.85676768e-13   2.02796205e-13   1.06674981e-13\n",
      "   5.61316146e-14   2.95467155e-14   1.55588897e-14   8.19636146e-15\n",
      "   4.31895981e-15   2.27576695e-15   1.20075582e-15   6.33779760e-16\n",
      "   3.34121813e-16   1.76402953e-16   9.29243252e-17   4.85944235e-17\n",
      "   2.61925112e-17   1.44101223e-17   6.93889390e-18   3.34221957e-18\n",
      "   1.61027498e-18   1.55207846e-18   0.00000000e+00   0.00000000e+00\n",
      "   0.00000000e+00   0.00000000e+00   0.00000000e+00   0.00000000e+00\n",
      "   0.00000000e+00   0.00000000e+00   0.00000000e+00   0.00000000e+00\n",
      "   0.00000000e+00   0.00000000e+00   0.00000000e+00   0.00000000e+00\n",
      "   0.00000000e+00   0.00000000e+00   0.00000000e+00   0.00000000e+00\n",
      "   0.00000000e+00   0.00000000e+00   0.00000000e+00   0.00000000e+00\n",
      "   0.00000000e+00   0.00000000e+00   0.00000000e+00   0.00000000e+00\n",
      "   0.00000000e+00   0.00000000e+00   0.00000000e+00   0.00000000e+00\n",
      "   0.00000000e+00   0.00000000e+00   0.00000000e+00   0.00000000e+00\n",
      "   0.00000000e+00]\n"
     ]
    }
   ],
   "source": [
    "print R\n",
    "print UR"
   ]
  },
  {
   "cell_type": "code",
   "execution_count": 136,
   "metadata": {
    "collapsed": true
   },
   "outputs": [],
   "source": [
    "init_guess(R, UR, N_fix)"
   ]
  },
  {
   "cell_type": "code",
   "execution_count": 137,
   "metadata": {
    "collapsed": false
   },
   "outputs": [
    {
     "data": {
      "text/plain": [
       "153"
      ]
     },
     "execution_count": 137,
     "metadata": {},
     "output_type": "execute_result"
    }
   ],
   "source": [
    "len(R)"
   ]
  },
  {
   "cell_type": "code",
   "execution_count": null,
   "metadata": {
    "collapsed": true
   },
   "outputs": [],
   "source": []
  },
  {
   "cell_type": "code",
   "execution_count": null,
   "metadata": {
    "collapsed": true
   },
   "outputs": [],
   "source": [
    "#TRUNC TRIHEX 8c"
   ]
  },
  {
   "cell_type": "code",
   "execution_count": 146,
   "metadata": {
    "collapsed": true
   },
   "outputs": [],
   "source": [
    "#trial ipl params\n",
    "d = 1.0\n",
    "a = 5.0\n",
    "A = 1.0\n",
    "k = 20.0\n",
    "\n",
    "#re potential constraints\n",
    "dr = 0.015\n",
    "N_opt = 160\n",
    "N_fix = 3\n",
    "r_shrink = 1.10\n",
    "r_cut = 2.69 + (N_fix-1)*dr\n",
    "\n",
    "#vector of r values\n",
    "R_temp = [r_cut - i*dr for i in range(N_opt + N_fix)]\n",
    "R_temp.reverse()\n",
    "R = array(R_temp)\n",
    "\n",
    "#get the potential\n",
    "UR = ipl_pot(R, \n",
    "             d, a, A, k, \n",
    "             r_cut, dr, r_shrink)"
   ]
  },
  {
   "cell_type": "code",
   "execution_count": 147,
   "metadata": {
    "collapsed": false,
    "scrolled": true
   },
   "outputs": [
    {
     "name": "stdout",
     "output_type": "stream",
     "text": [
      "[ 0.29   0.305  0.32   0.335  0.35   0.365  0.38   0.395  0.41   0.425\n",
      "  0.44   0.455  0.47   0.485  0.5    0.515  0.53   0.545  0.56   0.575\n",
      "  0.59   0.605  0.62   0.635  0.65   0.665  0.68   0.695  0.71   0.725\n",
      "  0.74   0.755  0.77   0.785  0.8    0.815  0.83   0.845  0.86   0.875\n",
      "  0.89   0.905  0.92   0.935  0.95   0.965  0.98   0.995  1.01   1.025\n",
      "  1.04   1.055  1.07   1.085  1.1    1.115  1.13   1.145  1.16   1.175\n",
      "  1.19   1.205  1.22   1.235  1.25   1.265  1.28   1.295  1.31   1.325\n",
      "  1.34   1.355  1.37   1.385  1.4    1.415  1.43   1.445  1.46   1.475\n",
      "  1.49   1.505  1.52   1.535  1.55   1.565  1.58   1.595  1.61   1.625\n",
      "  1.64   1.655  1.67   1.685  1.7    1.715  1.73   1.745  1.76   1.775\n",
      "  1.79   1.805  1.82   1.835  1.85   1.865  1.88   1.895  1.91   1.925\n",
      "  1.94   1.955  1.97   1.985  2.     2.015  2.03   2.045  2.06   2.075\n",
      "  2.09   2.105  2.12   2.135  2.15   2.165  2.18   2.195  2.21   2.225\n",
      "  2.24   2.255  2.27   2.285  2.3    2.315  2.33   2.345  2.36   2.375\n",
      "  2.39   2.405  2.42   2.435  2.45   2.465  2.48   2.495  2.51   2.525\n",
      "  2.54   2.555  2.57   2.585  2.6    2.615  2.63   2.645  2.66   2.675\n",
      "  2.69   2.705  2.72 ]\n",
      "[  4.87539728e+02   3.78879235e+02   2.98023224e+02   2.37015072e+02\n",
      "   1.90396858e+02   1.54360323e+02   1.26206585e+02   1.03995494e+02\n",
      "   8.63138953e+01   7.21199388e+01   6.06368480e+01   5.12794096e+01\n",
      "   4.36024317e+01   3.72641575e+01   3.20000000e+01   2.76034811e+01\n",
      "   2.39122615e+01   2.07978044e+01   1.81576594e+01   1.59096555e+01\n",
      "   1.39874949e+01   1.23373852e+01   1.09154476e+01   9.68570795e+00\n",
      "   8.61853025e+00   7.68938775e+00   6.87789299e+00   6.16702824e+00\n",
      "   5.54253167e+00   4.99240529e+00   4.50651851e+00   4.07628744e+00\n",
      "   3.69441408e+00   3.35467345e+00   3.05173906e+00   2.78103910e+00\n",
      "   2.53863743e+00   2.32113453e+00   2.12558429e+00   1.94942325e+00\n",
      "   1.79040928e+00   1.64656619e+00   1.51613106e+00   1.39749913e+00\n",
      "   1.28915993e+00   1.18961470e+00   1.09726143e+00   1.01023043e+00\n",
      "   9.26159561e-01   8.41936726e-01   7.53565213e-01   6.56599231e-01\n",
      "   5.47947549e-01   4.29390771e-01   3.10460662e-01   2.05612906e-01\n",
      "   1.25635474e-01   7.20784049e-02   3.95996033e-02   2.11751260e-02\n",
      "   1.11454534e-02   5.81518843e-03   3.02014522e-03   1.56501282e-03\n",
      "   8.10229156e-04   4.19385483e-04   2.17122967e-04   1.12454358e-04\n",
      "   5.82736507e-05   3.02145881e-05   1.56754338e-05   8.13736255e-06\n",
      "   4.22676303e-06   2.19679321e-06   1.14241362e-06   5.94437042e-07\n",
      "   3.09479472e-07   1.61211669e-07   8.40223724e-08   4.38149719e-08\n",
      "   2.28599180e-08   1.19329234e-08   6.23210472e-09   3.25637269e-09\n",
      "   1.70231854e-09   8.90329829e-10   4.65865460e-10   2.43874179e-10\n",
      "   1.27721258e-10   6.69189424e-11   3.50767982e-11   1.83938431e-11\n",
      "   9.64947185e-12   5.06418422e-12   2.65881406e-12   1.39648088e-12\n",
      "   7.33749003e-13   3.85676768e-13   2.02796205e-13   1.06674981e-13\n",
      "   5.61316146e-14   2.95467155e-14   1.55588897e-14   8.19636146e-15\n",
      "   4.31895981e-15   2.27576695e-15   1.20075582e-15   6.33779760e-16\n",
      "   3.34121813e-16   1.76402953e-16   9.29243252e-17   4.85944235e-17\n",
      "   2.61925112e-17   1.44101223e-17   6.93889390e-18   3.34221957e-18\n",
      "   1.61027498e-18   1.55207846e-18   0.00000000e+00   0.00000000e+00\n",
      "   0.00000000e+00   0.00000000e+00   0.00000000e+00   0.00000000e+00\n",
      "   0.00000000e+00   0.00000000e+00   0.00000000e+00   0.00000000e+00\n",
      "   0.00000000e+00   0.00000000e+00   0.00000000e+00   0.00000000e+00\n",
      "   0.00000000e+00   0.00000000e+00   0.00000000e+00   0.00000000e+00\n",
      "   0.00000000e+00   0.00000000e+00   0.00000000e+00   0.00000000e+00\n",
      "   0.00000000e+00   0.00000000e+00   0.00000000e+00   0.00000000e+00\n",
      "   0.00000000e+00   0.00000000e+00   0.00000000e+00   0.00000000e+00\n",
      "   0.00000000e+00   0.00000000e+00   0.00000000e+00   0.00000000e+00\n",
      "   0.00000000e+00   0.00000000e+00   0.00000000e+00   0.00000000e+00\n",
      "   0.00000000e+00   0.00000000e+00   0.00000000e+00   0.00000000e+00\n",
      "   0.00000000e+00   0.00000000e+00   0.00000000e+00]\n"
     ]
    }
   ],
   "source": [
    "print R\n",
    "print UR"
   ]
  },
  {
   "cell_type": "code",
   "execution_count": 148,
   "metadata": {
    "collapsed": true
   },
   "outputs": [],
   "source": [
    "init_guess(R, UR, N_fix)"
   ]
  },
  {
   "cell_type": "code",
   "execution_count": 149,
   "metadata": {
    "collapsed": false
   },
   "outputs": [
    {
     "data": {
      "text/plain": [
       "163"
      ]
     },
     "execution_count": 149,
     "metadata": {},
     "output_type": "execute_result"
    }
   ],
   "source": [
    "len(R)"
   ]
  },
  {
   "cell_type": "code",
   "execution_count": null,
   "metadata": {
    "collapsed": true
   },
   "outputs": [],
   "source": []
  },
  {
   "cell_type": "code",
   "execution_count": null,
   "metadata": {
    "collapsed": true
   },
   "outputs": [],
   "source": [
    "#TRUNC TRIHEX 9c"
   ]
  },
  {
   "cell_type": "code",
   "execution_count": 161,
   "metadata": {
    "collapsed": true
   },
   "outputs": [],
   "source": [
    "#trial ipl params\n",
    "d = 1.0\n",
    "a = 5.0\n",
    "A = 1.0\n",
    "k = 20.0\n",
    "\n",
    "#re potential constraints\n",
    "dr = 0.015\n",
    "N_opt = 187\n",
    "N_fix = 3\n",
    "r_shrink = 1.10\n",
    "r_cut = 3.11 + (N_fix-1)*dr\n",
    "\n",
    "#vector of r values\n",
    "R_temp = [r_cut - i*dr for i in range(N_opt + N_fix)]\n",
    "R_temp.reverse()\n",
    "R = array(R_temp)\n",
    "\n",
    "#get the potential\n",
    "UR = ipl_pot(R, \n",
    "             d, a, A, k, \n",
    "             r_cut, dr, r_shrink)"
   ]
  },
  {
   "cell_type": "code",
   "execution_count": 162,
   "metadata": {
    "collapsed": false,
    "scrolled": true
   },
   "outputs": [
    {
     "name": "stdout",
     "output_type": "stream",
     "text": [
      "[ 0.305  0.32   0.335  0.35   0.365  0.38   0.395  0.41   0.425  0.44\n",
      "  0.455  0.47   0.485  0.5    0.515  0.53   0.545  0.56   0.575  0.59\n",
      "  0.605  0.62   0.635  0.65   0.665  0.68   0.695  0.71   0.725  0.74\n",
      "  0.755  0.77   0.785  0.8    0.815  0.83   0.845  0.86   0.875  0.89\n",
      "  0.905  0.92   0.935  0.95   0.965  0.98   0.995  1.01   1.025  1.04\n",
      "  1.055  1.07   1.085  1.1    1.115  1.13   1.145  1.16   1.175  1.19\n",
      "  1.205  1.22   1.235  1.25   1.265  1.28   1.295  1.31   1.325  1.34\n",
      "  1.355  1.37   1.385  1.4    1.415  1.43   1.445  1.46   1.475  1.49\n",
      "  1.505  1.52   1.535  1.55   1.565  1.58   1.595  1.61   1.625  1.64\n",
      "  1.655  1.67   1.685  1.7    1.715  1.73   1.745  1.76   1.775  1.79\n",
      "  1.805  1.82   1.835  1.85   1.865  1.88   1.895  1.91   1.925  1.94\n",
      "  1.955  1.97   1.985  2.     2.015  2.03   2.045  2.06   2.075  2.09\n",
      "  2.105  2.12   2.135  2.15   2.165  2.18   2.195  2.21   2.225  2.24\n",
      "  2.255  2.27   2.285  2.3    2.315  2.33   2.345  2.36   2.375  2.39\n",
      "  2.405  2.42   2.435  2.45   2.465  2.48   2.495  2.51   2.525  2.54\n",
      "  2.555  2.57   2.585  2.6    2.615  2.63   2.645  2.66   2.675  2.69\n",
      "  2.705  2.72   2.735  2.75   2.765  2.78   2.795  2.81   2.825  2.84\n",
      "  2.855  2.87   2.885  2.9    2.915  2.93   2.945  2.96   2.975  2.99\n",
      "  3.005  3.02   3.035  3.05   3.065  3.08   3.095  3.11   3.125  3.14 ]\n",
      "[  3.78879235e+02   2.98023224e+02   2.37015072e+02   1.90396858e+02\n",
      "   1.54360323e+02   1.26206585e+02   1.03995494e+02   8.63138953e+01\n",
      "   7.21199388e+01   6.06368480e+01   5.12794096e+01   4.36024317e+01\n",
      "   3.72641575e+01   3.20000000e+01   2.76034811e+01   2.39122615e+01\n",
      "   2.07978044e+01   1.81576594e+01   1.59096555e+01   1.39874949e+01\n",
      "   1.23373852e+01   1.09154476e+01   9.68570795e+00   8.61853025e+00\n",
      "   7.68938775e+00   6.87789299e+00   6.16702824e+00   5.54253167e+00\n",
      "   4.99240529e+00   4.50651851e+00   4.07628744e+00   3.69441408e+00\n",
      "   3.35467345e+00   3.05173906e+00   2.78103910e+00   2.53863743e+00\n",
      "   2.32113453e+00   2.12558429e+00   1.94942325e+00   1.79040928e+00\n",
      "   1.64656619e+00   1.51613106e+00   1.39749913e+00   1.28915993e+00\n",
      "   1.18961470e+00   1.09726143e+00   1.01023043e+00   9.26159561e-01\n",
      "   8.41936726e-01   7.53565213e-01   6.56599231e-01   5.47947549e-01\n",
      "   4.29390771e-01   3.10460662e-01   2.05612906e-01   1.25635474e-01\n",
      "   7.20784049e-02   3.95996033e-02   2.11751260e-02   1.11454534e-02\n",
      "   5.81518843e-03   3.02014522e-03   1.56501282e-03   8.10229156e-04\n",
      "   4.19385483e-04   2.17122967e-04   1.12454358e-04   5.82736507e-05\n",
      "   3.02145881e-05   1.56754338e-05   8.13736255e-06   4.22676303e-06\n",
      "   2.19679321e-06   1.14241362e-06   5.94437042e-07   3.09479472e-07\n",
      "   1.61211669e-07   8.40223724e-08   4.38149719e-08   2.28599180e-08\n",
      "   1.19329234e-08   6.23210472e-09   3.25637269e-09   1.70231854e-09\n",
      "   8.90329829e-10   4.65865460e-10   2.43874179e-10   1.27721258e-10\n",
      "   6.69189424e-11   3.50767982e-11   1.83938431e-11   9.64947185e-12\n",
      "   5.06418422e-12   2.65881406e-12   1.39648088e-12   7.33749003e-13\n",
      "   3.85676768e-13   2.02796205e-13   1.06674981e-13   5.61316146e-14\n",
      "   2.95467155e-14   1.55588897e-14   8.19636146e-15   4.31895981e-15\n",
      "   2.27576695e-15   1.20075582e-15   6.33779760e-16   3.34121813e-16\n",
      "   1.76402953e-16   9.29243252e-17   4.85944235e-17   2.61925112e-17\n",
      "   1.44101223e-17   6.93889390e-18   3.34221957e-18   1.61027498e-18\n",
      "   1.55207846e-18   0.00000000e+00   0.00000000e+00   0.00000000e+00\n",
      "   0.00000000e+00   0.00000000e+00   0.00000000e+00   0.00000000e+00\n",
      "   0.00000000e+00   0.00000000e+00   0.00000000e+00   0.00000000e+00\n",
      "   0.00000000e+00   0.00000000e+00   0.00000000e+00   0.00000000e+00\n",
      "   0.00000000e+00   0.00000000e+00   0.00000000e+00   0.00000000e+00\n",
      "   0.00000000e+00   0.00000000e+00   0.00000000e+00   0.00000000e+00\n",
      "   0.00000000e+00   0.00000000e+00   0.00000000e+00   0.00000000e+00\n",
      "   0.00000000e+00   0.00000000e+00   0.00000000e+00   0.00000000e+00\n",
      "   0.00000000e+00   0.00000000e+00   0.00000000e+00   0.00000000e+00\n",
      "   0.00000000e+00   0.00000000e+00   0.00000000e+00   0.00000000e+00\n",
      "   0.00000000e+00   0.00000000e+00   0.00000000e+00   0.00000000e+00\n",
      "   0.00000000e+00   0.00000000e+00   0.00000000e+00   0.00000000e+00\n",
      "   0.00000000e+00   0.00000000e+00   0.00000000e+00   0.00000000e+00\n",
      "   0.00000000e+00   0.00000000e+00   0.00000000e+00   0.00000000e+00\n",
      "   0.00000000e+00   0.00000000e+00   0.00000000e+00   0.00000000e+00\n",
      "   0.00000000e+00   0.00000000e+00   0.00000000e+00   0.00000000e+00\n",
      "   0.00000000e+00   0.00000000e+00   0.00000000e+00   0.00000000e+00\n",
      "   0.00000000e+00   0.00000000e+00   0.00000000e+00   0.00000000e+00\n",
      "   0.00000000e+00   0.00000000e+00]\n"
     ]
    }
   ],
   "source": [
    "print R\n",
    "print UR"
   ]
  },
  {
   "cell_type": "code",
   "execution_count": 163,
   "metadata": {
    "collapsed": true
   },
   "outputs": [],
   "source": [
    "init_guess(R, UR, N_fix)"
   ]
  },
  {
   "cell_type": "code",
   "execution_count": 164,
   "metadata": {
    "collapsed": false
   },
   "outputs": [
    {
     "data": {
      "text/plain": [
       "190"
      ]
     },
     "execution_count": 164,
     "metadata": {},
     "output_type": "execute_result"
    }
   ],
   "source": [
    "len(R)"
   ]
  },
  {
   "cell_type": "code",
   "execution_count": null,
   "metadata": {
    "collapsed": true
   },
   "outputs": [],
   "source": []
  },
  {
   "cell_type": "code",
   "execution_count": null,
   "metadata": {
    "collapsed": true
   },
   "outputs": [],
   "source": [
    "#TRUNC TRIHEX 12c"
   ]
  },
  {
   "cell_type": "code",
   "execution_count": 169,
   "metadata": {
    "collapsed": true
   },
   "outputs": [],
   "source": [
    "#trial ipl params\n",
    "d = 1.0\n",
    "a = 5.0\n",
    "A = 1.0\n",
    "k = 20.0\n",
    "\n",
    "#re potential constraints\n",
    "dr = 0.015\n",
    "N_opt = 218\n",
    "N_fix = 3\n",
    "r_shrink = 1.10\n",
    "r_cut = 3.56 + (N_fix-1)*dr\n",
    "\n",
    "#vector of r values\n",
    "R_temp = [r_cut - i*dr for i in range(N_opt + N_fix)]\n",
    "R_temp.reverse()\n",
    "R = array(R_temp)\n",
    "\n",
    "#get the potential\n",
    "UR = ipl_pot(R, \n",
    "             d, a, A, k, \n",
    "             r_cut, dr, r_shrink)"
   ]
  },
  {
   "cell_type": "code",
   "execution_count": 170,
   "metadata": {
    "collapsed": false,
    "scrolled": true
   },
   "outputs": [
    {
     "name": "stdout",
     "output_type": "stream",
     "text": [
      "[ 0.29   0.305  0.32   0.335  0.35   0.365  0.38   0.395  0.41   0.425\n",
      "  0.44   0.455  0.47   0.485  0.5    0.515  0.53   0.545  0.56   0.575\n",
      "  0.59   0.605  0.62   0.635  0.65   0.665  0.68   0.695  0.71   0.725\n",
      "  0.74   0.755  0.77   0.785  0.8    0.815  0.83   0.845  0.86   0.875\n",
      "  0.89   0.905  0.92   0.935  0.95   0.965  0.98   0.995  1.01   1.025\n",
      "  1.04   1.055  1.07   1.085  1.1    1.115  1.13   1.145  1.16   1.175\n",
      "  1.19   1.205  1.22   1.235  1.25   1.265  1.28   1.295  1.31   1.325\n",
      "  1.34   1.355  1.37   1.385  1.4    1.415  1.43   1.445  1.46   1.475\n",
      "  1.49   1.505  1.52   1.535  1.55   1.565  1.58   1.595  1.61   1.625\n",
      "  1.64   1.655  1.67   1.685  1.7    1.715  1.73   1.745  1.76   1.775\n",
      "  1.79   1.805  1.82   1.835  1.85   1.865  1.88   1.895  1.91   1.925\n",
      "  1.94   1.955  1.97   1.985  2.     2.015  2.03   2.045  2.06   2.075\n",
      "  2.09   2.105  2.12   2.135  2.15   2.165  2.18   2.195  2.21   2.225\n",
      "  2.24   2.255  2.27   2.285  2.3    2.315  2.33   2.345  2.36   2.375\n",
      "  2.39   2.405  2.42   2.435  2.45   2.465  2.48   2.495  2.51   2.525\n",
      "  2.54   2.555  2.57   2.585  2.6    2.615  2.63   2.645  2.66   2.675\n",
      "  2.69   2.705  2.72   2.735  2.75   2.765  2.78   2.795  2.81   2.825\n",
      "  2.84   2.855  2.87   2.885  2.9    2.915  2.93   2.945  2.96   2.975\n",
      "  2.99   3.005  3.02   3.035  3.05   3.065  3.08   3.095  3.11   3.125\n",
      "  3.14   3.155  3.17   3.185  3.2    3.215  3.23   3.245  3.26   3.275\n",
      "  3.29   3.305  3.32   3.335  3.35   3.365  3.38   3.395  3.41   3.425\n",
      "  3.44   3.455  3.47   3.485  3.5    3.515  3.53   3.545  3.56   3.575\n",
      "  3.59 ]\n",
      "[  4.87539728e+02   3.78879235e+02   2.98023224e+02   2.37015072e+02\n",
      "   1.90396858e+02   1.54360323e+02   1.26206585e+02   1.03995494e+02\n",
      "   8.63138953e+01   7.21199388e+01   6.06368480e+01   5.12794096e+01\n",
      "   4.36024317e+01   3.72641575e+01   3.20000000e+01   2.76034811e+01\n",
      "   2.39122615e+01   2.07978044e+01   1.81576594e+01   1.59096555e+01\n",
      "   1.39874949e+01   1.23373852e+01   1.09154476e+01   9.68570795e+00\n",
      "   8.61853025e+00   7.68938775e+00   6.87789299e+00   6.16702824e+00\n",
      "   5.54253167e+00   4.99240529e+00   4.50651851e+00   4.07628744e+00\n",
      "   3.69441408e+00   3.35467345e+00   3.05173906e+00   2.78103910e+00\n",
      "   2.53863743e+00   2.32113453e+00   2.12558429e+00   1.94942325e+00\n",
      "   1.79040928e+00   1.64656619e+00   1.51613106e+00   1.39749913e+00\n",
      "   1.28915993e+00   1.18961470e+00   1.09726143e+00   1.01023043e+00\n",
      "   9.26159561e-01   8.41936726e-01   7.53565213e-01   6.56599231e-01\n",
      "   5.47947549e-01   4.29390771e-01   3.10460662e-01   2.05612906e-01\n",
      "   1.25635474e-01   7.20784049e-02   3.95996033e-02   2.11751260e-02\n",
      "   1.11454534e-02   5.81518843e-03   3.02014522e-03   1.56501282e-03\n",
      "   8.10229156e-04   4.19385483e-04   2.17122967e-04   1.12454358e-04\n",
      "   5.82736507e-05   3.02145881e-05   1.56754338e-05   8.13736255e-06\n",
      "   4.22676303e-06   2.19679321e-06   1.14241362e-06   5.94437042e-07\n",
      "   3.09479472e-07   1.61211669e-07   8.40223724e-08   4.38149719e-08\n",
      "   2.28599180e-08   1.19329234e-08   6.23210472e-09   3.25637269e-09\n",
      "   1.70231854e-09   8.90329829e-10   4.65865460e-10   2.43874179e-10\n",
      "   1.27721258e-10   6.69189424e-11   3.50767982e-11   1.83938431e-11\n",
      "   9.64947185e-12   5.06418422e-12   2.65881406e-12   1.39648088e-12\n",
      "   7.33749003e-13   3.85676768e-13   2.02796205e-13   1.06674981e-13\n",
      "   5.61316146e-14   2.95467155e-14   1.55588897e-14   8.19636146e-15\n",
      "   4.31895981e-15   2.27576695e-15   1.20075582e-15   6.33779760e-16\n",
      "   3.34121813e-16   1.76402953e-16   9.29243252e-17   4.85944235e-17\n",
      "   2.61925112e-17   1.44101223e-17   6.93889390e-18   3.34221957e-18\n",
      "   1.61027498e-18   1.55207846e-18   0.00000000e+00   0.00000000e+00\n",
      "   0.00000000e+00   0.00000000e+00   0.00000000e+00   0.00000000e+00\n",
      "   0.00000000e+00   0.00000000e+00   0.00000000e+00   0.00000000e+00\n",
      "   0.00000000e+00   0.00000000e+00   0.00000000e+00   0.00000000e+00\n",
      "   0.00000000e+00   0.00000000e+00   0.00000000e+00   0.00000000e+00\n",
      "   0.00000000e+00   0.00000000e+00   0.00000000e+00   0.00000000e+00\n",
      "   0.00000000e+00   0.00000000e+00   0.00000000e+00   0.00000000e+00\n",
      "   0.00000000e+00   0.00000000e+00   0.00000000e+00   0.00000000e+00\n",
      "   0.00000000e+00   0.00000000e+00   0.00000000e+00   0.00000000e+00\n",
      "   0.00000000e+00   0.00000000e+00   0.00000000e+00   0.00000000e+00\n",
      "   0.00000000e+00   0.00000000e+00   0.00000000e+00   0.00000000e+00\n",
      "   0.00000000e+00   0.00000000e+00   0.00000000e+00   0.00000000e+00\n",
      "   0.00000000e+00   0.00000000e+00   0.00000000e+00   0.00000000e+00\n",
      "   0.00000000e+00   0.00000000e+00   0.00000000e+00   0.00000000e+00\n",
      "   0.00000000e+00   0.00000000e+00   0.00000000e+00   0.00000000e+00\n",
      "   0.00000000e+00   0.00000000e+00   0.00000000e+00   0.00000000e+00\n",
      "   0.00000000e+00   0.00000000e+00   0.00000000e+00   0.00000000e+00\n",
      "   0.00000000e+00   0.00000000e+00   0.00000000e+00   0.00000000e+00\n",
      "   0.00000000e+00   0.00000000e+00   0.00000000e+00   0.00000000e+00\n",
      "   0.00000000e+00   0.00000000e+00   0.00000000e+00   0.00000000e+00\n",
      "   0.00000000e+00   0.00000000e+00   0.00000000e+00   0.00000000e+00\n",
      "   0.00000000e+00   0.00000000e+00   0.00000000e+00   0.00000000e+00\n",
      "   0.00000000e+00   0.00000000e+00   0.00000000e+00   0.00000000e+00\n",
      "   0.00000000e+00   0.00000000e+00   0.00000000e+00   0.00000000e+00\n",
      "   0.00000000e+00   0.00000000e+00   0.00000000e+00   0.00000000e+00\n",
      "   0.00000000e+00   0.00000000e+00   0.00000000e+00   0.00000000e+00\n",
      "   0.00000000e+00]\n"
     ]
    }
   ],
   "source": [
    "print R\n",
    "print UR"
   ]
  },
  {
   "cell_type": "code",
   "execution_count": 171,
   "metadata": {
    "collapsed": true
   },
   "outputs": [],
   "source": [
    "init_guess(R, UR, N_fix)"
   ]
  },
  {
   "cell_type": "code",
   "execution_count": 172,
   "metadata": {
    "collapsed": false
   },
   "outputs": [
    {
     "data": {
      "text/plain": [
       "221"
      ]
     },
     "execution_count": 172,
     "metadata": {},
     "output_type": "execute_result"
    }
   ],
   "source": [
    "len(R)"
   ]
  },
  {
   "cell_type": "code",
   "execution_count": null,
   "metadata": {
    "collapsed": true
   },
   "outputs": [],
   "source": [
    "3.76"
   ]
  },
  {
   "cell_type": "code",
   "execution_count": null,
   "metadata": {
    "collapsed": true
   },
   "outputs": [],
   "source": []
  },
  {
   "cell_type": "code",
   "execution_count": null,
   "metadata": {
    "collapsed": true
   },
   "outputs": [],
   "source": [
    "#TRUNC TRIHEX 13c"
   ]
  },
  {
   "cell_type": "code",
   "execution_count": 185,
   "metadata": {
    "collapsed": true
   },
   "outputs": [],
   "source": [
    "#trial ipl params\n",
    "d = 1.0\n",
    "a = 5.0\n",
    "A = 1.0\n",
    "k = 20.0\n",
    "\n",
    "#re potential constraints\n",
    "dr = 0.015\n",
    "N_opt = 230\n",
    "N_fix = 3\n",
    "r_shrink = 1.10\n",
    "r_cut = 3.76 + (N_fix-1)*dr\n",
    "\n",
    "#vector of r values\n",
    "R_temp = [r_cut - i*dr for i in range(N_opt + N_fix)]\n",
    "R_temp.reverse()\n",
    "R = array(R_temp)\n",
    "\n",
    "#get the potential\n",
    "UR = ipl_pot(R, \n",
    "             d, a, A, k, \n",
    "             r_cut, dr, r_shrink)"
   ]
  },
  {
   "cell_type": "code",
   "execution_count": 186,
   "metadata": {
    "collapsed": false,
    "scrolled": true
   },
   "outputs": [
    {
     "name": "stdout",
     "output_type": "stream",
     "text": [
      "[ 0.31   0.325  0.34   0.355  0.37   0.385  0.4    0.415  0.43   0.445\n",
      "  0.46   0.475  0.49   0.505  0.52   0.535  0.55   0.565  0.58   0.595\n",
      "  0.61   0.625  0.64   0.655  0.67   0.685  0.7    0.715  0.73   0.745\n",
      "  0.76   0.775  0.79   0.805  0.82   0.835  0.85   0.865  0.88   0.895\n",
      "  0.91   0.925  0.94   0.955  0.97   0.985  1.     1.015  1.03   1.045\n",
      "  1.06   1.075  1.09   1.105  1.12   1.135  1.15   1.165  1.18   1.195\n",
      "  1.21   1.225  1.24   1.255  1.27   1.285  1.3    1.315  1.33   1.345\n",
      "  1.36   1.375  1.39   1.405  1.42   1.435  1.45   1.465  1.48   1.495\n",
      "  1.51   1.525  1.54   1.555  1.57   1.585  1.6    1.615  1.63   1.645\n",
      "  1.66   1.675  1.69   1.705  1.72   1.735  1.75   1.765  1.78   1.795\n",
      "  1.81   1.825  1.84   1.855  1.87   1.885  1.9    1.915  1.93   1.945\n",
      "  1.96   1.975  1.99   2.005  2.02   2.035  2.05   2.065  2.08   2.095\n",
      "  2.11   2.125  2.14   2.155  2.17   2.185  2.2    2.215  2.23   2.245\n",
      "  2.26   2.275  2.29   2.305  2.32   2.335  2.35   2.365  2.38   2.395\n",
      "  2.41   2.425  2.44   2.455  2.47   2.485  2.5    2.515  2.53   2.545\n",
      "  2.56   2.575  2.59   2.605  2.62   2.635  2.65   2.665  2.68   2.695\n",
      "  2.71   2.725  2.74   2.755  2.77   2.785  2.8    2.815  2.83   2.845\n",
      "  2.86   2.875  2.89   2.905  2.92   2.935  2.95   2.965  2.98   2.995\n",
      "  3.01   3.025  3.04   3.055  3.07   3.085  3.1    3.115  3.13   3.145\n",
      "  3.16   3.175  3.19   3.205  3.22   3.235  3.25   3.265  3.28   3.295\n",
      "  3.31   3.325  3.34   3.355  3.37   3.385  3.4    3.415  3.43   3.445\n",
      "  3.46   3.475  3.49   3.505  3.52   3.535  3.55   3.565  3.58   3.595\n",
      "  3.61   3.625  3.64   3.655  3.67   3.685  3.7    3.715  3.73   3.745\n",
      "  3.76   3.775  3.79 ]\n",
      "[  3.49294326e+02   2.75792972e+02   2.20092587e+02   1.77361043e+02\n",
      "   1.44208673e+02   1.18221469e+02   9.76562500e+01   8.12380549e+01\n",
      "   6.80233039e+01   5.73059802e+01   4.85524156e+01   4.13553739e+01\n",
      "   3.54013317e+01   3.04469020e+01   2.63016674e+01   2.28155577e+01\n",
      "   1.98694823e+01   1.73683179e+01   1.52356165e+01   1.34095798e+01\n",
      "   1.18399760e+01   1.04857599e+01   9.31322565e+00   8.29456265e+00\n",
      "   7.40672076e+00   6.63051277e+00   5.94990116e+00   5.35142819e+00\n",
      "   4.82375828e+00   4.35730881e+00   3.94395090e+00   3.57676581e+00\n",
      "   3.24984580e+00   2.95813057e+00   2.69727234e+00   2.46352402e+00\n",
      "   2.25364577e+00   2.06482637e+00   1.89461592e+00   1.74086687e+00\n",
      "   1.60167999e+00   1.47535146e+00   1.36031575e+00   1.25507673e+00\n",
      "   1.15811610e+00   1.06776378e+00   9.82013790e-01   8.98281727e-01\n",
      "   8.13160447e-01   7.22406162e-01   6.21732538e-01   5.09225164e-01\n",
      "   3.89105901e-01   2.73250713e-01   1.75916805e-01   1.05022500e-01\n",
      "   5.92649196e-02   3.22173508e-02   1.71196984e-02   8.97910432e-03\n",
      "   4.67603672e-03   2.42622296e-03   1.25672275e-03   6.50541648e-04\n",
      "   3.36740600e-04   1.74357171e-04   9.03195402e-05   4.68121667e-05\n",
      "   2.42766459e-05   1.25973320e-05   6.54078133e-06   3.39812973e-06\n",
      "   1.76646903e-06   9.18805349e-07   4.78175929e-07   2.48996808e-07\n",
      "   1.29728943e-07   6.76257730e-08   3.52707902e-08   1.84052264e-08\n",
      "   9.60916670e-09   5.01931638e-09   2.62309189e-09   1.37147677e-09\n",
      "   7.17406775e-10   3.75440154e-10   1.96566929e-10   1.02960594e-10\n",
      "   5.39534157e-11   2.82846487e-11   1.48341681e-11   7.78310492e-12\n",
      "   4.08523216e-12   2.14511858e-12   1.12681962e-12   5.92139006e-13\n",
      "   3.11280879e-13   1.63697728e-13   8.61170443e-14   4.53211980e-14\n",
      "   2.38573291e-14   1.25637989e-14   6.61955978e-15   3.48770505e-15\n",
      "   1.83767235e-15   9.70324042e-16   5.11148483e-16   2.69430251e-16\n",
      "   1.43035151e-16   7.57819546e-17   4.03013108e-17   2.03206418e-17\n",
      "   1.06724985e-17   5.13960336e-18   3.30105973e-18   1.59058970e-18\n",
      "   1.53324278e-18   0.00000000e+00   0.00000000e+00   0.00000000e+00\n",
      "   0.00000000e+00   0.00000000e+00   0.00000000e+00   0.00000000e+00\n",
      "   0.00000000e+00   0.00000000e+00   0.00000000e+00   0.00000000e+00\n",
      "   0.00000000e+00   0.00000000e+00   0.00000000e+00   0.00000000e+00\n",
      "   0.00000000e+00   0.00000000e+00   0.00000000e+00   0.00000000e+00\n",
      "   0.00000000e+00   0.00000000e+00   0.00000000e+00   0.00000000e+00\n",
      "   0.00000000e+00   0.00000000e+00   0.00000000e+00   0.00000000e+00\n",
      "   0.00000000e+00   0.00000000e+00   0.00000000e+00   0.00000000e+00\n",
      "   0.00000000e+00   0.00000000e+00   0.00000000e+00   0.00000000e+00\n",
      "   0.00000000e+00   0.00000000e+00   0.00000000e+00   0.00000000e+00\n",
      "   0.00000000e+00   0.00000000e+00   0.00000000e+00   0.00000000e+00\n",
      "   0.00000000e+00   0.00000000e+00   0.00000000e+00   0.00000000e+00\n",
      "   0.00000000e+00   0.00000000e+00   0.00000000e+00   0.00000000e+00\n",
      "   0.00000000e+00   0.00000000e+00   0.00000000e+00   0.00000000e+00\n",
      "   0.00000000e+00   0.00000000e+00   0.00000000e+00   0.00000000e+00\n",
      "   0.00000000e+00   0.00000000e+00   0.00000000e+00   0.00000000e+00\n",
      "   0.00000000e+00   0.00000000e+00   0.00000000e+00   0.00000000e+00\n",
      "   0.00000000e+00   0.00000000e+00   0.00000000e+00   0.00000000e+00\n",
      "   0.00000000e+00   0.00000000e+00   0.00000000e+00   0.00000000e+00\n",
      "   0.00000000e+00   0.00000000e+00   0.00000000e+00   0.00000000e+00\n",
      "   0.00000000e+00   0.00000000e+00   0.00000000e+00   0.00000000e+00\n",
      "   0.00000000e+00   0.00000000e+00   0.00000000e+00   0.00000000e+00\n",
      "   0.00000000e+00   0.00000000e+00   0.00000000e+00   0.00000000e+00\n",
      "   0.00000000e+00   0.00000000e+00   0.00000000e+00   0.00000000e+00\n",
      "   0.00000000e+00   0.00000000e+00   0.00000000e+00   0.00000000e+00\n",
      "   0.00000000e+00   0.00000000e+00   0.00000000e+00   0.00000000e+00\n",
      "   0.00000000e+00   0.00000000e+00   0.00000000e+00   0.00000000e+00\n",
      "   0.00000000e+00   0.00000000e+00   0.00000000e+00   0.00000000e+00\n",
      "   0.00000000e+00   0.00000000e+00   0.00000000e+00   0.00000000e+00\n",
      "   0.00000000e+00]\n"
     ]
    }
   ],
   "source": [
    "print R\n",
    "print UR"
   ]
  },
  {
   "cell_type": "code",
   "execution_count": 187,
   "metadata": {
    "collapsed": true
   },
   "outputs": [],
   "source": [
    "init_guess(R, UR, N_fix)"
   ]
  },
  {
   "cell_type": "code",
   "execution_count": 189,
   "metadata": {
    "collapsed": false
   },
   "outputs": [
    {
     "data": {
      "text/plain": [
       "233"
      ]
     },
     "execution_count": 189,
     "metadata": {},
     "output_type": "execute_result"
    }
   ],
   "source": [
    "len(R)"
   ]
  },
  {
   "cell_type": "code",
   "execution_count": null,
   "metadata": {
    "collapsed": true
   },
   "outputs": [],
   "source": []
  },
  {
   "cell_type": "code",
   "execution_count": null,
   "metadata": {
    "collapsed": true
   },
   "outputs": [],
   "source": [
    "#TRUNC TRIHEX 14c"
   ]
  },
  {
   "cell_type": "code",
   "execution_count": 197,
   "metadata": {
    "collapsed": true
   },
   "outputs": [],
   "source": [
    "#trial ipl params\n",
    "d = 1.0\n",
    "a = 5.0\n",
    "A = 1.0\n",
    "k = 20.0\n",
    "\n",
    "#re potential constraints\n",
    "dr = 0.015\n",
    "N_opt = 244\n",
    "N_fix = 3\n",
    "r_shrink = 1.10\n",
    "r_cut = 3.94 + (N_fix-1)*dr\n",
    "\n",
    "#vector of r values\n",
    "R_temp = [r_cut - i*dr for i in range(N_opt + N_fix)]\n",
    "R_temp.reverse()\n",
    "R = array(R_temp)\n",
    "\n",
    "#get the potential\n",
    "UR = ipl_pot(R, \n",
    "             d, a, A, k, \n",
    "             r_cut, dr, r_shrink)"
   ]
  },
  {
   "cell_type": "code",
   "execution_count": 198,
   "metadata": {
    "collapsed": false,
    "scrolled": true
   },
   "outputs": [
    {
     "name": "stdout",
     "output_type": "stream",
     "text": [
      "[ 0.28   0.295  0.31   0.325  0.34   0.355  0.37   0.385  0.4    0.415\n",
      "  0.43   0.445  0.46   0.475  0.49   0.505  0.52   0.535  0.55   0.565\n",
      "  0.58   0.595  0.61   0.625  0.64   0.655  0.67   0.685  0.7    0.715\n",
      "  0.73   0.745  0.76   0.775  0.79   0.805  0.82   0.835  0.85   0.865\n",
      "  0.88   0.895  0.91   0.925  0.94   0.955  0.97   0.985  1.     1.015\n",
      "  1.03   1.045  1.06   1.075  1.09   1.105  1.12   1.135  1.15   1.165\n",
      "  1.18   1.195  1.21   1.225  1.24   1.255  1.27   1.285  1.3    1.315\n",
      "  1.33   1.345  1.36   1.375  1.39   1.405  1.42   1.435  1.45   1.465\n",
      "  1.48   1.495  1.51   1.525  1.54   1.555  1.57   1.585  1.6    1.615\n",
      "  1.63   1.645  1.66   1.675  1.69   1.705  1.72   1.735  1.75   1.765\n",
      "  1.78   1.795  1.81   1.825  1.84   1.855  1.87   1.885  1.9    1.915\n",
      "  1.93   1.945  1.96   1.975  1.99   2.005  2.02   2.035  2.05   2.065\n",
      "  2.08   2.095  2.11   2.125  2.14   2.155  2.17   2.185  2.2    2.215\n",
      "  2.23   2.245  2.26   2.275  2.29   2.305  2.32   2.335  2.35   2.365\n",
      "  2.38   2.395  2.41   2.425  2.44   2.455  2.47   2.485  2.5    2.515\n",
      "  2.53   2.545  2.56   2.575  2.59   2.605  2.62   2.635  2.65   2.665\n",
      "  2.68   2.695  2.71   2.725  2.74   2.755  2.77   2.785  2.8    2.815\n",
      "  2.83   2.845  2.86   2.875  2.89   2.905  2.92   2.935  2.95   2.965\n",
      "  2.98   2.995  3.01   3.025  3.04   3.055  3.07   3.085  3.1    3.115\n",
      "  3.13   3.145  3.16   3.175  3.19   3.205  3.22   3.235  3.25   3.265\n",
      "  3.28   3.295  3.31   3.325  3.34   3.355  3.37   3.385  3.4    3.415\n",
      "  3.43   3.445  3.46   3.475  3.49   3.505  3.52   3.535  3.55   3.565\n",
      "  3.58   3.595  3.61   3.625  3.64   3.655  3.67   3.685  3.7    3.715\n",
      "  3.73   3.745  3.76   3.775  3.79   3.805  3.82   3.835  3.85   3.865\n",
      "  3.88   3.895  3.91   3.925  3.94   3.955  3.97 ]\n",
      "[  5.81045100e+02   4.47599837e+02   3.49294326e+02   2.75792972e+02\n",
      "   2.20092587e+02   1.77361043e+02   1.44208673e+02   1.18221469e+02\n",
      "   9.76562500e+01   8.12380549e+01   6.80233039e+01   5.73059802e+01\n",
      "   4.85524156e+01   4.13553739e+01   3.54013317e+01   3.04469020e+01\n",
      "   2.63016674e+01   2.28155577e+01   1.98694823e+01   1.73683179e+01\n",
      "   1.52356165e+01   1.34095798e+01   1.18399760e+01   1.04857599e+01\n",
      "   9.31322565e+00   8.29456265e+00   7.40672076e+00   6.63051277e+00\n",
      "   5.94990116e+00   5.35142819e+00   4.82375828e+00   4.35730881e+00\n",
      "   3.94395090e+00   3.57676581e+00   3.24984580e+00   2.95813057e+00\n",
      "   2.69727234e+00   2.46352402e+00   2.25364577e+00   2.06482637e+00\n",
      "   1.89461592e+00   1.74086687e+00   1.60167999e+00   1.47535146e+00\n",
      "   1.36031575e+00   1.25507673e+00   1.15811610e+00   1.06776378e+00\n",
      "   9.82013790e-01   8.98281727e-01   8.13160447e-01   7.22406162e-01\n",
      "   6.21732538e-01   5.09225164e-01   3.89105901e-01   2.73250713e-01\n",
      "   1.75916805e-01   1.05022500e-01   5.92649196e-02   3.22173508e-02\n",
      "   1.71196984e-02   8.97910432e-03   4.67603672e-03   2.42622296e-03\n",
      "   1.25672275e-03   6.50541648e-04   3.36740600e-04   1.74357171e-04\n",
      "   9.03195402e-05   4.68121667e-05   2.42766459e-05   1.25973320e-05\n",
      "   6.54078133e-06   3.39812973e-06   1.76646903e-06   9.18805349e-07\n",
      "   4.78175929e-07   2.48996808e-07   1.29728943e-07   6.76257730e-08\n",
      "   3.52707902e-08   1.84052264e-08   9.60916670e-09   5.01931638e-09\n",
      "   2.62309189e-09   1.37147677e-09   7.17406775e-10   3.75440154e-10\n",
      "   1.96566929e-10   1.02960594e-10   5.39534157e-11   2.82846487e-11\n",
      "   1.48341681e-11   7.78310492e-12   4.08523216e-12   2.14511858e-12\n",
      "   1.12681962e-12   5.92139006e-13   3.11280879e-13   1.63697728e-13\n",
      "   8.61170443e-14   4.53211980e-14   2.38573291e-14   1.25637989e-14\n",
      "   6.61955978e-15   3.48770505e-15   1.83767235e-15   9.70324042e-16\n",
      "   5.11148483e-16   2.69430251e-16   1.43035151e-16   7.57819546e-17\n",
      "   4.03013108e-17   2.03206418e-17   1.06724985e-17   5.13960336e-18\n",
      "   3.30105973e-18   1.59058970e-18   1.53324278e-18   0.00000000e+00\n",
      "   0.00000000e+00   0.00000000e+00   0.00000000e+00   0.00000000e+00\n",
      "   0.00000000e+00   0.00000000e+00   0.00000000e+00   0.00000000e+00\n",
      "   0.00000000e+00   0.00000000e+00   0.00000000e+00   0.00000000e+00\n",
      "   0.00000000e+00   0.00000000e+00   0.00000000e+00   0.00000000e+00\n",
      "   0.00000000e+00   0.00000000e+00   0.00000000e+00   0.00000000e+00\n",
      "   0.00000000e+00   0.00000000e+00   0.00000000e+00   0.00000000e+00\n",
      "   0.00000000e+00   0.00000000e+00   0.00000000e+00   0.00000000e+00\n",
      "   0.00000000e+00   0.00000000e+00   0.00000000e+00   0.00000000e+00\n",
      "   0.00000000e+00   0.00000000e+00   0.00000000e+00   0.00000000e+00\n",
      "   0.00000000e+00   0.00000000e+00   0.00000000e+00   0.00000000e+00\n",
      "   0.00000000e+00   0.00000000e+00   0.00000000e+00   0.00000000e+00\n",
      "   0.00000000e+00   0.00000000e+00   0.00000000e+00   0.00000000e+00\n",
      "   0.00000000e+00   0.00000000e+00   0.00000000e+00   0.00000000e+00\n",
      "   0.00000000e+00   0.00000000e+00   0.00000000e+00   0.00000000e+00\n",
      "   0.00000000e+00   0.00000000e+00   0.00000000e+00   0.00000000e+00\n",
      "   0.00000000e+00   0.00000000e+00   0.00000000e+00   0.00000000e+00\n",
      "   0.00000000e+00   0.00000000e+00   0.00000000e+00   0.00000000e+00\n",
      "   0.00000000e+00   0.00000000e+00   0.00000000e+00   0.00000000e+00\n",
      "   0.00000000e+00   0.00000000e+00   0.00000000e+00   0.00000000e+00\n",
      "   0.00000000e+00   0.00000000e+00   0.00000000e+00   0.00000000e+00\n",
      "   0.00000000e+00   0.00000000e+00   0.00000000e+00   0.00000000e+00\n",
      "   0.00000000e+00   0.00000000e+00   0.00000000e+00   0.00000000e+00\n",
      "   0.00000000e+00   0.00000000e+00   0.00000000e+00   0.00000000e+00\n",
      "   0.00000000e+00   0.00000000e+00   0.00000000e+00   0.00000000e+00\n",
      "   0.00000000e+00   0.00000000e+00   0.00000000e+00   0.00000000e+00\n",
      "   0.00000000e+00   0.00000000e+00   0.00000000e+00   0.00000000e+00\n",
      "   0.00000000e+00   0.00000000e+00   0.00000000e+00   0.00000000e+00\n",
      "   0.00000000e+00   0.00000000e+00   0.00000000e+00   0.00000000e+00\n",
      "   0.00000000e+00   0.00000000e+00   0.00000000e+00   0.00000000e+00\n",
      "   0.00000000e+00   0.00000000e+00   0.00000000e+00   0.00000000e+00\n",
      "   0.00000000e+00   0.00000000e+00   0.00000000e+00   0.00000000e+00\n",
      "   0.00000000e+00   0.00000000e+00   0.00000000e+00]\n"
     ]
    }
   ],
   "source": [
    "print R\n",
    "print UR"
   ]
  },
  {
   "cell_type": "code",
   "execution_count": 201,
   "metadata": {
    "collapsed": true
   },
   "outputs": [],
   "source": [
    "init_guess(R, UR, N_fix)"
   ]
  },
  {
   "cell_type": "code",
   "execution_count": 202,
   "metadata": {
    "collapsed": false
   },
   "outputs": [
    {
     "data": {
      "text/plain": [
       "247"
      ]
     },
     "execution_count": 202,
     "metadata": {},
     "output_type": "execute_result"
    }
   ],
   "source": [
    "len(R)"
   ]
  },
  {
   "cell_type": "code",
   "execution_count": null,
   "metadata": {
    "collapsed": true
   },
   "outputs": [],
   "source": []
  },
  {
   "cell_type": "code",
   "execution_count": null,
   "metadata": {
    "collapsed": true
   },
   "outputs": [],
   "source": [
    "#TRUNC TRIHEX 19c"
   ]
  },
  {
   "cell_type": "code",
   "execution_count": 211,
   "metadata": {
    "collapsed": true
   },
   "outputs": [],
   "source": [
    "#trial ipl params\n",
    "d = 1.0\n",
    "a = 5.0\n",
    "A = 1.0\n",
    "k = 20.0\n",
    "\n",
    "#re potential constraints\n",
    "dr = 0.015\n",
    "N_opt = 355\n",
    "N_fix = 3\n",
    "r_shrink = 1.10\n",
    "r_cut = 5.61 + (N_fix-1)*dr\n",
    "\n",
    "#vector of r values\n",
    "R_temp = [r_cut - i*dr for i in range(N_opt + N_fix)]\n",
    "R_temp.reverse()\n",
    "R = array(R_temp)\n",
    "\n",
    "#get the potential\n",
    "UR = ipl_pot(R, \n",
    "             d, a, A, k, \n",
    "             r_cut, dr, r_shrink)"
   ]
  },
  {
   "cell_type": "code",
   "execution_count": 212,
   "metadata": {
    "collapsed": false,
    "scrolled": true
   },
   "outputs": [
    {
     "name": "stdout",
     "output_type": "stream",
     "text": [
      "[ 0.285  0.3    0.315  0.33   0.345  0.36   0.375  0.39   0.405  0.42\n",
      "  0.435  0.45   0.465  0.48   0.495  0.51   0.525  0.54   0.555  0.57\n",
      "  0.585  0.6    0.615  0.63   0.645  0.66   0.675  0.69   0.705  0.72\n",
      "  0.735  0.75   0.765  0.78   0.795  0.81   0.825  0.84   0.855  0.87\n",
      "  0.885  0.9    0.915  0.93   0.945  0.96   0.975  0.99   1.005  1.02\n",
      "  1.035  1.05   1.065  1.08   1.095  1.11   1.125  1.14   1.155  1.17\n",
      "  1.185  1.2    1.215  1.23   1.245  1.26   1.275  1.29   1.305  1.32\n",
      "  1.335  1.35   1.365  1.38   1.395  1.41   1.425  1.44   1.455  1.47\n",
      "  1.485  1.5    1.515  1.53   1.545  1.56   1.575  1.59   1.605  1.62\n",
      "  1.635  1.65   1.665  1.68   1.695  1.71   1.725  1.74   1.755  1.77\n",
      "  1.785  1.8    1.815  1.83   1.845  1.86   1.875  1.89   1.905  1.92\n",
      "  1.935  1.95   1.965  1.98   1.995  2.01   2.025  2.04   2.055  2.07\n",
      "  2.085  2.1    2.115  2.13   2.145  2.16   2.175  2.19   2.205  2.22\n",
      "  2.235  2.25   2.265  2.28   2.295  2.31   2.325  2.34   2.355  2.37\n",
      "  2.385  2.4    2.415  2.43   2.445  2.46   2.475  2.49   2.505  2.52\n",
      "  2.535  2.55   2.565  2.58   2.595  2.61   2.625  2.64   2.655  2.67\n",
      "  2.685  2.7    2.715  2.73   2.745  2.76   2.775  2.79   2.805  2.82\n",
      "  2.835  2.85   2.865  2.88   2.895  2.91   2.925  2.94   2.955  2.97\n",
      "  2.985  3.     3.015  3.03   3.045  3.06   3.075  3.09   3.105  3.12\n",
      "  3.135  3.15   3.165  3.18   3.195  3.21   3.225  3.24   3.255  3.27\n",
      "  3.285  3.3    3.315  3.33   3.345  3.36   3.375  3.39   3.405  3.42\n",
      "  3.435  3.45   3.465  3.48   3.495  3.51   3.525  3.54   3.555  3.57\n",
      "  3.585  3.6    3.615  3.63   3.645  3.66   3.675  3.69   3.705  3.72\n",
      "  3.735  3.75   3.765  3.78   3.795  3.81   3.825  3.84   3.855  3.87\n",
      "  3.885  3.9    3.915  3.93   3.945  3.96   3.975  3.99   4.005  4.02\n",
      "  4.035  4.05   4.065  4.08   4.095  4.11   4.125  4.14   4.155  4.17\n",
      "  4.185  4.2    4.215  4.23   4.245  4.26   4.275  4.29   4.305  4.32\n",
      "  4.335  4.35   4.365  4.38   4.395  4.41   4.425  4.44   4.455  4.47\n",
      "  4.485  4.5    4.515  4.53   4.545  4.56   4.575  4.59   4.605  4.62\n",
      "  4.635  4.65   4.665  4.68   4.695  4.71   4.725  4.74   4.755  4.77\n",
      "  4.785  4.8    4.815  4.83   4.845  4.86   4.875  4.89   4.905  4.92\n",
      "  4.935  4.95   4.965  4.98   4.995  5.01   5.025  5.04   5.055  5.07\n",
      "  5.085  5.1    5.115  5.13   5.145  5.16   5.175  5.19   5.205  5.22\n",
      "  5.235  5.25   5.265  5.28   5.295  5.31   5.325  5.34   5.355  5.37\n",
      "  5.385  5.4    5.415  5.43   5.445  5.46   5.475  5.49   5.505  5.52\n",
      "  5.535  5.55   5.565  5.58   5.595  5.61   5.625  5.64 ]\n",
      "[  5.31833512e+02   4.11522634e+02   3.22438752e+02   2.55523178e+02\n",
      "   2.04599480e+02   1.65381717e+02   1.34847737e+02   1.10835010e+02\n",
      "   9.17751037e+01   7.65162272e+01   6.42027625e+01   5.41922810e+01\n",
      "   4.59976067e+01   3.92458566e+01   3.36491428e+01   2.89833859e+01\n",
      "   2.50728373e+01   2.17786623e+01   1.89904425e+01   1.66197972e+01\n",
      "   1.45955569e+01   1.28600823e+01   1.13664388e+01   1.00762109e+01\n",
      "   8.95780123e+00   7.98509914e+00   7.13643177e+00   6.39373325e+00\n",
      "   5.74188322e+00   5.16817736e+00   4.66190164e+00   4.21398827e+00\n",
      "   3.81673640e+00   3.46358450e+00   3.14892395e+00   2.86794570e+00\n",
      "   2.61651364e+00   2.39105933e+00   2.18849392e+00   2.00613363e+00\n",
      "   1.84163558e+00   1.69294086e+00   1.55822134e+00   1.43582602e+00\n",
      "   1.32422103e+00   1.22191455e+00   1.12735445e+00   1.03878223e+00\n",
      "   9.54028319e-01   8.70257208e-01   7.83760472e-01   6.90127558e-01\n",
      "   5.85498648e-01   4.69585038e-01   3.49269766e-01   2.38159341e-01\n",
      "   1.49243383e-01   8.72443869e-02   4.85294213e-02   2.61461959e-02\n",
      "   1.38213284e-02   7.22825439e-03   3.75854999e-03   1.94874004e-03\n",
      "   1.00909577e-03   5.22325927e-04   2.70390767e-04   1.40021942e-04\n",
      "   7.25459924e-05   3.76074118e-05   1.95069610e-05   1.01243377e-05\n",
      "   5.25780426e-06   2.73212416e-06   1.42053133e-06   7.39011289e-07\n",
      "   3.84677187e-07   2.00346632e-07   1.04400624e-07   5.44320677e-08\n",
      "   2.83943951e-08   1.48194452e-08   7.73835072e-09   4.04275798e-09\n",
      "   2.11307930e-09   1.10499048e-09   5.78098776e-10   3.02581610e-10\n",
      "   1.58444175e-10   8.30041285e-11   4.35020057e-11   2.28087601e-11\n",
      "   1.19639212e-11   6.27800566e-12   3.29566450e-12   1.73074875e-12\n",
      "   9.09269310e-13   4.77874679e-13   2.51247032e-13   1.32142320e-13\n",
      "   6.95245929e-14   3.65928561e-14   1.92663365e-14   1.01481672e-14\n",
      "   5.34631728e-15   2.81769484e-15   1.48513374e-15   7.82618537e-16\n",
      "   4.13758511e-16   2.19134782e-16   1.14594405e-16   6.10335837e-17\n",
      "   3.22119030e-17   1.64171132e-17   8.78285552e-18   5.07599519e-18\n",
      "   3.26050666e-18   1.57119250e-18   0.00000000e+00   0.00000000e+00\n",
      "   0.00000000e+00   0.00000000e+00   0.00000000e+00   0.00000000e+00\n",
      "   0.00000000e+00   0.00000000e+00   0.00000000e+00   0.00000000e+00\n",
      "   0.00000000e+00   0.00000000e+00   0.00000000e+00   0.00000000e+00\n",
      "   0.00000000e+00   0.00000000e+00   0.00000000e+00   0.00000000e+00\n",
      "   0.00000000e+00   0.00000000e+00   0.00000000e+00   0.00000000e+00\n",
      "   0.00000000e+00   0.00000000e+00   0.00000000e+00   0.00000000e+00\n",
      "   0.00000000e+00   0.00000000e+00   0.00000000e+00   0.00000000e+00\n",
      "   0.00000000e+00   0.00000000e+00   0.00000000e+00   0.00000000e+00\n",
      "   0.00000000e+00   0.00000000e+00   0.00000000e+00   0.00000000e+00\n",
      "   0.00000000e+00   0.00000000e+00   0.00000000e+00   0.00000000e+00\n",
      "   0.00000000e+00   0.00000000e+00   0.00000000e+00   0.00000000e+00\n",
      "   0.00000000e+00   0.00000000e+00   0.00000000e+00   0.00000000e+00\n",
      "   0.00000000e+00   0.00000000e+00   0.00000000e+00   0.00000000e+00\n",
      "   0.00000000e+00   0.00000000e+00   0.00000000e+00   0.00000000e+00\n",
      "   0.00000000e+00   0.00000000e+00   0.00000000e+00   0.00000000e+00\n",
      "   0.00000000e+00   0.00000000e+00   0.00000000e+00   0.00000000e+00\n",
      "   0.00000000e+00   0.00000000e+00   0.00000000e+00   0.00000000e+00\n",
      "   0.00000000e+00   0.00000000e+00   0.00000000e+00   0.00000000e+00\n",
      "   0.00000000e+00   0.00000000e+00   0.00000000e+00   0.00000000e+00\n",
      "   0.00000000e+00   0.00000000e+00   0.00000000e+00   0.00000000e+00\n",
      "   0.00000000e+00   0.00000000e+00   0.00000000e+00   0.00000000e+00\n",
      "   0.00000000e+00   0.00000000e+00   0.00000000e+00   0.00000000e+00\n",
      "   0.00000000e+00   0.00000000e+00   0.00000000e+00   0.00000000e+00\n",
      "   0.00000000e+00   0.00000000e+00   0.00000000e+00   0.00000000e+00\n",
      "   0.00000000e+00   0.00000000e+00   0.00000000e+00   0.00000000e+00\n",
      "   0.00000000e+00   0.00000000e+00   0.00000000e+00   0.00000000e+00\n",
      "   0.00000000e+00   0.00000000e+00   0.00000000e+00   0.00000000e+00\n",
      "   0.00000000e+00   0.00000000e+00   0.00000000e+00   0.00000000e+00\n",
      "   0.00000000e+00   0.00000000e+00   0.00000000e+00   0.00000000e+00\n",
      "   0.00000000e+00   0.00000000e+00   0.00000000e+00   0.00000000e+00\n",
      "   0.00000000e+00   0.00000000e+00   0.00000000e+00   0.00000000e+00\n",
      "   0.00000000e+00   0.00000000e+00   0.00000000e+00   0.00000000e+00\n",
      "   0.00000000e+00   0.00000000e+00   0.00000000e+00   0.00000000e+00\n",
      "   0.00000000e+00   0.00000000e+00   0.00000000e+00   0.00000000e+00\n",
      "   0.00000000e+00   0.00000000e+00   0.00000000e+00   0.00000000e+00\n",
      "   0.00000000e+00   0.00000000e+00   0.00000000e+00   0.00000000e+00\n",
      "   0.00000000e+00   0.00000000e+00   0.00000000e+00   0.00000000e+00\n",
      "   0.00000000e+00   0.00000000e+00   0.00000000e+00   0.00000000e+00\n",
      "   0.00000000e+00   0.00000000e+00   0.00000000e+00   0.00000000e+00\n",
      "   0.00000000e+00   0.00000000e+00   0.00000000e+00   0.00000000e+00\n",
      "   0.00000000e+00   0.00000000e+00   0.00000000e+00   0.00000000e+00\n",
      "   0.00000000e+00   0.00000000e+00   0.00000000e+00   0.00000000e+00\n",
      "   0.00000000e+00   0.00000000e+00   0.00000000e+00   0.00000000e+00\n",
      "   0.00000000e+00   0.00000000e+00   0.00000000e+00   0.00000000e+00\n",
      "   0.00000000e+00   0.00000000e+00   0.00000000e+00   0.00000000e+00\n",
      "   0.00000000e+00   0.00000000e+00   0.00000000e+00   0.00000000e+00\n",
      "   0.00000000e+00   0.00000000e+00   0.00000000e+00   0.00000000e+00\n",
      "   0.00000000e+00   0.00000000e+00   0.00000000e+00   0.00000000e+00\n",
      "   0.00000000e+00   0.00000000e+00   0.00000000e+00   0.00000000e+00\n",
      "   0.00000000e+00   0.00000000e+00   0.00000000e+00   0.00000000e+00\n",
      "   0.00000000e+00   0.00000000e+00   0.00000000e+00   0.00000000e+00\n",
      "   0.00000000e+00   0.00000000e+00   0.00000000e+00   0.00000000e+00\n",
      "   0.00000000e+00   0.00000000e+00   0.00000000e+00   0.00000000e+00\n",
      "   0.00000000e+00   0.00000000e+00   0.00000000e+00   0.00000000e+00\n",
      "   0.00000000e+00   0.00000000e+00   0.00000000e+00   0.00000000e+00\n",
      "   0.00000000e+00   0.00000000e+00   0.00000000e+00   0.00000000e+00\n",
      "   0.00000000e+00   0.00000000e+00   0.00000000e+00   0.00000000e+00\n",
      "   0.00000000e+00   0.00000000e+00   0.00000000e+00   0.00000000e+00\n",
      "   0.00000000e+00   0.00000000e+00   0.00000000e+00   0.00000000e+00\n",
      "   0.00000000e+00   0.00000000e+00]\n"
     ]
    }
   ],
   "source": [
    "print R\n",
    "print UR"
   ]
  },
  {
   "cell_type": "code",
   "execution_count": 214,
   "metadata": {
    "collapsed": true
   },
   "outputs": [],
   "source": [
    "init_guess(R, UR, N_fix)"
   ]
  },
  {
   "cell_type": "code",
   "execution_count": 215,
   "metadata": {
    "collapsed": false
   },
   "outputs": [
    {
     "data": {
      "text/plain": [
       "358"
      ]
     },
     "execution_count": 215,
     "metadata": {},
     "output_type": "execute_result"
    }
   ],
   "source": [
    "len(R)"
   ]
  },
  {
   "cell_type": "code",
   "execution_count": null,
   "metadata": {
    "collapsed": true
   },
   "outputs": [],
   "source": []
  },
  {
   "cell_type": "code",
   "execution_count": null,
   "metadata": {
    "collapsed": true
   },
   "outputs": [],
   "source": [
    "#TRUNC TRIHEX 21c"
   ]
  },
  {
   "cell_type": "code",
   "execution_count": 13,
   "metadata": {
    "collapsed": false
   },
   "outputs": [],
   "source": [
    "#trial ipl params\n",
    "d = 1.0\n",
    "a = 5.0\n",
    "A = 1.0\n",
    "k = 20.0\n",
    "\n",
    "#re potential constraints\n",
    "dr = 0.015\n",
    "N_opt = 361\n",
    "N_fix = 3\n",
    "r_shrink = 1.10\n",
    "r_cut = 5.73 + (N_fix-1)*dr\n",
    "\n",
    "#vector of r values\n",
    "R_temp = [r_cut - i*dr for i in range(N_opt + N_fix)]\n",
    "R_temp.reverse()\n",
    "R = array(R_temp)\n",
    "\n",
    "#get the potential\n",
    "UR = ipl_pot(R, \n",
    "             d, a, A, k, \n",
    "             r_cut, dr, r_shrink)"
   ]
  },
  {
   "cell_type": "code",
   "execution_count": 14,
   "metadata": {
    "collapsed": false,
    "scrolled": true
   },
   "outputs": [
    {
     "name": "stdout",
     "output_type": "stream",
     "text": [
      "[ 0.315  0.33   0.345  0.36   0.375  0.39   0.405  0.42   0.435  0.45\n",
      "  0.465  0.48   0.495  0.51   0.525  0.54   0.555  0.57   0.585  0.6    0.615\n",
      "  0.63   0.645  0.66   0.675  0.69   0.705  0.72   0.735  0.75   0.765\n",
      "  0.78   0.795  0.81   0.825  0.84   0.855  0.87   0.885  0.9    0.915\n",
      "  0.93   0.945  0.96   0.975  0.99   1.005  1.02   1.035  1.05   1.065\n",
      "  1.08   1.095  1.11   1.125  1.14   1.155  1.17   1.185  1.2    1.215\n",
      "  1.23   1.245  1.26   1.275  1.29   1.305  1.32   1.335  1.35   1.365\n",
      "  1.38   1.395  1.41   1.425  1.44   1.455  1.47   1.485  1.5    1.515\n",
      "  1.53   1.545  1.56   1.575  1.59   1.605  1.62   1.635  1.65   1.665\n",
      "  1.68   1.695  1.71   1.725  1.74   1.755  1.77   1.785  1.8    1.815\n",
      "  1.83   1.845  1.86   1.875  1.89   1.905  1.92   1.935  1.95   1.965\n",
      "  1.98   1.995  2.01   2.025  2.04   2.055  2.07   2.085  2.1    2.115\n",
      "  2.13   2.145  2.16   2.175  2.19   2.205  2.22   2.235  2.25   2.265\n",
      "  2.28   2.295  2.31   2.325  2.34   2.355  2.37   2.385  2.4    2.415\n",
      "  2.43   2.445  2.46   2.475  2.49   2.505  2.52   2.535  2.55   2.565\n",
      "  2.58   2.595  2.61   2.625  2.64   2.655  2.67   2.685  2.7    2.715\n",
      "  2.73   2.745  2.76   2.775  2.79   2.805  2.82   2.835  2.85   2.865\n",
      "  2.88   2.895  2.91   2.925  2.94   2.955  2.97   2.985  3.     3.015\n",
      "  3.03   3.045  3.06   3.075  3.09   3.105  3.12   3.135  3.15   3.165\n",
      "  3.18   3.195  3.21   3.225  3.24   3.255  3.27   3.285  3.3    3.315\n",
      "  3.33   3.345  3.36   3.375  3.39   3.405  3.42   3.435  3.45   3.465\n",
      "  3.48   3.495  3.51   3.525  3.54   3.555  3.57   3.585  3.6    3.615\n",
      "  3.63   3.645  3.66   3.675  3.69   3.705  3.72   3.735  3.75   3.765\n",
      "  3.78   3.795  3.81   3.825  3.84   3.855  3.87   3.885  3.9    3.915\n",
      "  3.93   3.945  3.96   3.975  3.99   4.005  4.02   4.035  4.05   4.065\n",
      "  4.08   4.095  4.11   4.125  4.14   4.155  4.17   4.185  4.2    4.215\n",
      "  4.23   4.245  4.26   4.275  4.29   4.305  4.32   4.335  4.35   4.365\n",
      "  4.38   4.395  4.41   4.425  4.44   4.455  4.47   4.485  4.5    4.515\n",
      "  4.53   4.545  4.56   4.575  4.59   4.605  4.62   4.635  4.65   4.665\n",
      "  4.68   4.695  4.71   4.725  4.74   4.755  4.77   4.785  4.8    4.815\n",
      "  4.83   4.845  4.86   4.875  4.89   4.905  4.92   4.935  4.95   4.965\n",
      "  4.98   4.995  5.01   5.025  5.04   5.055  5.07   5.085  5.1    5.115\n",
      "  5.13   5.145  5.16   5.175  5.19   5.205  5.22   5.235  5.25   5.265\n",
      "  5.28   5.295  5.31   5.325  5.34   5.355  5.37   5.385  5.4    5.415\n",
      "  5.43   5.445  5.46   5.475  5.49   5.505  5.52   5.535  5.55   5.565\n",
      "  5.58   5.595  5.61   5.625  5.64   5.655  5.67   5.685  5.7    5.715\n",
      "  5.73   5.745  5.76 ]\n",
      "[  3.22438752e+02   2.55523178e+02   2.04599480e+02   1.65381717e+02\n",
      "   1.34847737e+02   1.10835010e+02   9.17751037e+01   7.65162272e+01\n",
      "   6.42027625e+01   5.41922810e+01   4.59976067e+01   3.92458566e+01\n",
      "   3.36491428e+01   2.89833859e+01   2.50728373e+01   2.17786623e+01\n",
      "   1.89904425e+01   1.66197972e+01   1.45955569e+01   1.28600823e+01\n",
      "   1.13664388e+01   1.00762109e+01   8.95780123e+00   7.98509914e+00\n",
      "   7.13643177e+00   6.39373325e+00   5.74188322e+00   5.16817736e+00\n",
      "   4.66190164e+00   4.21398827e+00   3.81673640e+00   3.46358450e+00\n",
      "   3.14892395e+00   2.86794570e+00   2.61651364e+00   2.39105933e+00\n",
      "   2.18849392e+00   2.00613363e+00   1.84163558e+00   1.69294086e+00\n",
      "   1.55822134e+00   1.43582602e+00   1.32422103e+00   1.22191455e+00\n",
      "   1.12735445e+00   1.03878223e+00   9.54028319e-01   8.70257208e-01\n",
      "   7.83760472e-01   6.90127558e-01   5.85498648e-01   4.69585038e-01\n",
      "   3.49269766e-01   2.38159341e-01   1.49243383e-01   8.72443869e-02\n",
      "   4.85294213e-02   2.61461959e-02   1.38213284e-02   7.22825439e-03\n",
      "   3.75854999e-03   1.94874004e-03   1.00909577e-03   5.22325927e-04\n",
      "   2.70390767e-04   1.40021942e-04   7.25459924e-05   3.76074118e-05\n",
      "   1.95069610e-05   1.01243377e-05   5.25780426e-06   2.73212416e-06\n",
      "   1.42053133e-06   7.39011289e-07   3.84677187e-07   2.00346632e-07\n",
      "   1.04400624e-07   5.44320677e-08   2.83943951e-08   1.48194452e-08\n",
      "   7.73835072e-09   4.04275798e-09   2.11307930e-09   1.10499048e-09\n",
      "   5.78098776e-10   3.02581610e-10   1.58444175e-10   8.30041285e-11\n",
      "   4.35020057e-11   2.28087601e-11   1.19639212e-11   6.27800566e-12\n",
      "   3.29566450e-12   1.73074875e-12   9.09269310e-13   4.77874679e-13\n",
      "   2.51247032e-13   1.32142320e-13   6.95245929e-14   3.65928561e-14\n",
      "   1.92663365e-14   1.01481672e-14   5.34631728e-15   2.81769484e-15\n",
      "   1.48513374e-15   7.82618537e-16   4.13758511e-16   2.19134782e-16\n",
      "   1.14594405e-16   6.10335837e-17   3.22119030e-17   1.64171132e-17\n",
      "   8.78285552e-18   5.07599519e-18   3.26050666e-18   1.57119250e-18\n",
      "   0.00000000e+00   0.00000000e+00   0.00000000e+00   0.00000000e+00\n",
      "   0.00000000e+00   0.00000000e+00   0.00000000e+00   0.00000000e+00\n",
      "   0.00000000e+00   0.00000000e+00   0.00000000e+00   0.00000000e+00\n",
      "   0.00000000e+00   0.00000000e+00   0.00000000e+00   0.00000000e+00\n",
      "   0.00000000e+00   0.00000000e+00   0.00000000e+00   0.00000000e+00\n",
      "   0.00000000e+00   0.00000000e+00   0.00000000e+00   0.00000000e+00\n",
      "   0.00000000e+00   0.00000000e+00   0.00000000e+00   0.00000000e+00\n",
      "   0.00000000e+00   0.00000000e+00   0.00000000e+00   0.00000000e+00\n",
      "   0.00000000e+00   0.00000000e+00   0.00000000e+00   0.00000000e+00\n",
      "   0.00000000e+00   0.00000000e+00   0.00000000e+00   0.00000000e+00\n",
      "   0.00000000e+00   0.00000000e+00   0.00000000e+00   0.00000000e+00\n",
      "   0.00000000e+00   0.00000000e+00   0.00000000e+00   0.00000000e+00\n",
      "   0.00000000e+00   0.00000000e+00   0.00000000e+00   0.00000000e+00\n",
      "   0.00000000e+00   0.00000000e+00   0.00000000e+00   0.00000000e+00\n",
      "   0.00000000e+00   0.00000000e+00   0.00000000e+00   0.00000000e+00\n",
      "   0.00000000e+00   0.00000000e+00   0.00000000e+00   0.00000000e+00\n",
      "   0.00000000e+00   0.00000000e+00   0.00000000e+00   0.00000000e+00\n",
      "   0.00000000e+00   0.00000000e+00   0.00000000e+00   0.00000000e+00\n",
      "   0.00000000e+00   0.00000000e+00   0.00000000e+00   0.00000000e+00\n",
      "   0.00000000e+00   0.00000000e+00   0.00000000e+00   0.00000000e+00\n",
      "   0.00000000e+00   0.00000000e+00   0.00000000e+00   0.00000000e+00\n",
      "   0.00000000e+00   0.00000000e+00   0.00000000e+00   0.00000000e+00\n",
      "   0.00000000e+00   0.00000000e+00   0.00000000e+00   0.00000000e+00\n",
      "   0.00000000e+00   0.00000000e+00   0.00000000e+00   0.00000000e+00\n",
      "   0.00000000e+00   0.00000000e+00   0.00000000e+00   0.00000000e+00\n",
      "   0.00000000e+00   0.00000000e+00   0.00000000e+00   0.00000000e+00\n",
      "   0.00000000e+00   0.00000000e+00   0.00000000e+00   0.00000000e+00\n",
      "   0.00000000e+00   0.00000000e+00   0.00000000e+00   0.00000000e+00\n",
      "   0.00000000e+00   0.00000000e+00   0.00000000e+00   0.00000000e+00\n",
      "   0.00000000e+00   0.00000000e+00   0.00000000e+00   0.00000000e+00\n",
      "   0.00000000e+00   0.00000000e+00   0.00000000e+00   0.00000000e+00\n",
      "   0.00000000e+00   0.00000000e+00   0.00000000e+00   0.00000000e+00\n",
      "   0.00000000e+00   0.00000000e+00   0.00000000e+00   0.00000000e+00\n",
      "   0.00000000e+00   0.00000000e+00   0.00000000e+00   0.00000000e+00\n",
      "   0.00000000e+00   0.00000000e+00   0.00000000e+00   0.00000000e+00\n",
      "   0.00000000e+00   0.00000000e+00   0.00000000e+00   0.00000000e+00\n",
      "   0.00000000e+00   0.00000000e+00   0.00000000e+00   0.00000000e+00\n",
      "   0.00000000e+00   0.00000000e+00   0.00000000e+00   0.00000000e+00\n",
      "   0.00000000e+00   0.00000000e+00   0.00000000e+00   0.00000000e+00\n",
      "   0.00000000e+00   0.00000000e+00   0.00000000e+00   0.00000000e+00\n",
      "   0.00000000e+00   0.00000000e+00   0.00000000e+00   0.00000000e+00\n",
      "   0.00000000e+00   0.00000000e+00   0.00000000e+00   0.00000000e+00\n",
      "   0.00000000e+00   0.00000000e+00   0.00000000e+00   0.00000000e+00\n",
      "   0.00000000e+00   0.00000000e+00   0.00000000e+00   0.00000000e+00\n",
      "   0.00000000e+00   0.00000000e+00   0.00000000e+00   0.00000000e+00\n",
      "   0.00000000e+00   0.00000000e+00   0.00000000e+00   0.00000000e+00\n",
      "   0.00000000e+00   0.00000000e+00   0.00000000e+00   0.00000000e+00\n",
      "   0.00000000e+00   0.00000000e+00   0.00000000e+00   0.00000000e+00\n",
      "   0.00000000e+00   0.00000000e+00   0.00000000e+00   0.00000000e+00\n",
      "   0.00000000e+00   0.00000000e+00   0.00000000e+00   0.00000000e+00\n",
      "   0.00000000e+00   0.00000000e+00   0.00000000e+00   0.00000000e+00\n",
      "   0.00000000e+00   0.00000000e+00   0.00000000e+00   0.00000000e+00\n",
      "   0.00000000e+00   0.00000000e+00   0.00000000e+00   0.00000000e+00\n",
      "   0.00000000e+00   0.00000000e+00   0.00000000e+00   0.00000000e+00\n",
      "   0.00000000e+00   0.00000000e+00   0.00000000e+00   0.00000000e+00\n",
      "   0.00000000e+00   0.00000000e+00   0.00000000e+00   0.00000000e+00\n",
      "   0.00000000e+00   0.00000000e+00   0.00000000e+00   0.00000000e+00\n",
      "   0.00000000e+00   0.00000000e+00   0.00000000e+00   0.00000000e+00\n",
      "   0.00000000e+00   0.00000000e+00   0.00000000e+00   0.00000000e+00\n",
      "   0.00000000e+00   0.00000000e+00   0.00000000e+00   0.00000000e+00\n",
      "   0.00000000e+00   0.00000000e+00   0.00000000e+00   0.00000000e+00\n",
      "   0.00000000e+00   0.00000000e+00   0.00000000e+00   0.00000000e+00]\n"
     ]
    }
   ],
   "source": [
    "print R\n",
    "print UR"
   ]
  },
  {
   "cell_type": "code",
   "execution_count": 15,
   "metadata": {
    "collapsed": true
   },
   "outputs": [],
   "source": [
    "init_guess(R, UR, N_fix)"
   ]
  },
  {
   "cell_type": "code",
   "execution_count": 16,
   "metadata": {
    "collapsed": false
   },
   "outputs": [
    {
     "data": {
      "text/plain": [
       "364"
      ]
     },
     "execution_count": 16,
     "metadata": {},
     "output_type": "execute_result"
    }
   ],
   "source": [
    "len(R)"
   ]
  },
  {
   "cell_type": "code",
   "execution_count": null,
   "metadata": {
    "collapsed": true
   },
   "outputs": [],
   "source": []
  },
  {
   "cell_type": "code",
   "execution_count": null,
   "metadata": {
    "collapsed": true
   },
   "outputs": [],
   "source": []
  },
  {
   "cell_type": "code",
   "execution_count": null,
   "metadata": {
    "collapsed": true
   },
   "outputs": [],
   "source": []
  },
  {
   "cell_type": "code",
   "execution_count": null,
   "metadata": {
    "collapsed": true
   },
   "outputs": [],
   "source": []
  },
  {
   "cell_type": "code",
   "execution_count": 4,
   "metadata": {
    "collapsed": true
   },
   "outputs": [],
   "source": [
    "#TRUNC SQUARE 4c"
   ]
  },
  {
   "cell_type": "code",
   "execution_count": 15,
   "metadata": {
    "collapsed": true
   },
   "outputs": [],
   "source": [
    "#trial ipl params\n",
    "d = 1.0\n",
    "a = 5.0\n",
    "A = 1.0\n",
    "k = 20.0\n",
    "\n",
    "#re potential constraints\n",
    "dr = 0.015\n",
    "N_opt = 130\n",
    "N_fix = 3\n",
    "r_shrink = 1.10\n",
    "r_cut = 2.25 + (N_fix-1)*dr\n",
    "\n",
    "#vector of r values\n",
    "R_temp = [r_cut - i*dr for i in range(N_opt + N_fix)]\n",
    "R_temp.reverse()\n",
    "R = array(R_temp)\n",
    "\n",
    "#get the potential\n",
    "UR = ipl_pot(R, \n",
    "             d, a, A, k, \n",
    "             r_cut, dr, r_shrink)"
   ]
  },
  {
   "cell_type": "code",
   "execution_count": 16,
   "metadata": {
    "collapsed": false,
    "scrolled": true
   },
   "outputs": [
    {
     "name": "stdout",
     "output_type": "stream",
     "text": [
      "[ 0.3    0.315  0.33   0.345  0.36   0.375  0.39   0.405  0.42   0.435\n",
      "  0.45   0.465  0.48   0.495  0.51   0.525  0.54   0.555  0.57   0.585  0.6\n",
      "  0.615  0.63   0.645  0.66   0.675  0.69   0.705  0.72   0.735  0.75\n",
      "  0.765  0.78   0.795  0.81   0.825  0.84   0.855  0.87   0.885  0.9    0.915\n",
      "  0.93   0.945  0.96   0.975  0.99   1.005  1.02   1.035  1.05   1.065\n",
      "  1.08   1.095  1.11   1.125  1.14   1.155  1.17   1.185  1.2    1.215\n",
      "  1.23   1.245  1.26   1.275  1.29   1.305  1.32   1.335  1.35   1.365\n",
      "  1.38   1.395  1.41   1.425  1.44   1.455  1.47   1.485  1.5    1.515\n",
      "  1.53   1.545  1.56   1.575  1.59   1.605  1.62   1.635  1.65   1.665\n",
      "  1.68   1.695  1.71   1.725  1.74   1.755  1.77   1.785  1.8    1.815\n",
      "  1.83   1.845  1.86   1.875  1.89   1.905  1.92   1.935  1.95   1.965\n",
      "  1.98   1.995  2.01   2.025  2.04   2.055  2.07   2.085  2.1    2.115\n",
      "  2.13   2.145  2.16   2.175  2.19   2.205  2.22   2.235  2.25   2.265\n",
      "  2.28 ]\n",
      "[  4.11522634e+02   3.22438752e+02   2.55523178e+02   2.04599480e+02\n",
      "   1.65381717e+02   1.34847737e+02   1.10835010e+02   9.17751037e+01\n",
      "   7.65162272e+01   6.42027625e+01   5.41922810e+01   4.59976067e+01\n",
      "   3.92458566e+01   3.36491428e+01   2.89833859e+01   2.50728373e+01\n",
      "   2.17786623e+01   1.89904425e+01   1.66197972e+01   1.45955569e+01\n",
      "   1.28600823e+01   1.13664388e+01   1.00762109e+01   8.95780123e+00\n",
      "   7.98509914e+00   7.13643177e+00   6.39373325e+00   5.74188322e+00\n",
      "   5.16817736e+00   4.66190164e+00   4.21398827e+00   3.81673640e+00\n",
      "   3.46358450e+00   3.14892395e+00   2.86794570e+00   2.61651364e+00\n",
      "   2.39105933e+00   2.18849392e+00   2.00613363e+00   1.84163558e+00\n",
      "   1.69294086e+00   1.55822134e+00   1.43582602e+00   1.32422103e+00\n",
      "   1.22191455e+00   1.12735445e+00   1.03878223e+00   9.54028319e-01\n",
      "   8.70257208e-01   7.83760472e-01   6.90127558e-01   5.85498648e-01\n",
      "   4.69585038e-01   3.49269766e-01   2.38159341e-01   1.49243383e-01\n",
      "   8.72443869e-02   4.85294213e-02   2.61461959e-02   1.38213284e-02\n",
      "   7.22825439e-03   3.75854999e-03   1.94874004e-03   1.00909577e-03\n",
      "   5.22325927e-04   2.70390767e-04   1.40021942e-04   7.25459924e-05\n",
      "   3.76074118e-05   1.95069610e-05   1.01243377e-05   5.25780426e-06\n",
      "   2.73212416e-06   1.42053133e-06   7.39011289e-07   3.84677187e-07\n",
      "   2.00346632e-07   1.04400624e-07   5.44320677e-08   2.83943951e-08\n",
      "   1.48194452e-08   7.73835072e-09   4.04275798e-09   2.11307930e-09\n",
      "   1.10499048e-09   5.78098776e-10   3.02581610e-10   1.58444175e-10\n",
      "   8.30041285e-11   4.35020057e-11   2.28087601e-11   1.19639212e-11\n",
      "   6.27800566e-12   3.29566450e-12   1.73074875e-12   9.09269310e-13\n",
      "   4.77874679e-13   2.51247032e-13   1.32142320e-13   6.95245929e-14\n",
      "   3.65928561e-14   1.92663365e-14   1.01481672e-14   5.34631728e-15\n",
      "   2.81769484e-15   1.48513374e-15   7.82618537e-16   4.13758511e-16\n",
      "   2.19134782e-16   1.14594405e-16   6.10335837e-17   3.22119030e-17\n",
      "   1.64171132e-17   8.78285552e-18   5.07599519e-18   3.26050666e-18\n",
      "   1.57119250e-18   0.00000000e+00   0.00000000e+00   0.00000000e+00\n",
      "   0.00000000e+00   0.00000000e+00   0.00000000e+00   0.00000000e+00\n",
      "   0.00000000e+00   0.00000000e+00   0.00000000e+00   0.00000000e+00\n",
      "   0.00000000e+00   0.00000000e+00   0.00000000e+00   0.00000000e+00\n",
      "   0.00000000e+00]\n"
     ]
    }
   ],
   "source": [
    "print R\n",
    "print UR"
   ]
  },
  {
   "cell_type": "code",
   "execution_count": 19,
   "metadata": {
    "collapsed": true
   },
   "outputs": [],
   "source": [
    "init_guess(R, UR, N_fix)"
   ]
  },
  {
   "cell_type": "code",
   "execution_count": 18,
   "metadata": {
    "collapsed": false
   },
   "outputs": [
    {
     "data": {
      "text/plain": [
       "133"
      ]
     },
     "execution_count": 18,
     "metadata": {},
     "output_type": "execute_result"
    }
   ],
   "source": [
    "len(R)"
   ]
  },
  {
   "cell_type": "code",
   "execution_count": null,
   "metadata": {
    "collapsed": true
   },
   "outputs": [],
   "source": []
  },
  {
   "cell_type": "code",
   "execution_count": null,
   "metadata": {
    "collapsed": true
   },
   "outputs": [],
   "source": [
    "#TRUNC TRIHEX 21c"
   ]
  },
  {
   "cell_type": "code",
   "execution_count": 8,
   "metadata": {
    "collapsed": true
   },
   "outputs": [],
   "source": [
    "#trial ipl params\n",
    "d = 1.0\n",
    "a = 5.0\n",
    "A = 1.0\n",
    "k = 20.0\n",
    "\n",
    "#re potential constraints\n",
    "dr = 0.015\n",
    "N_opt = 378\n",
    "N_fix = 3\n",
    "r_shrink = 1.10\n",
    "r_cut = 5.975 + (N_fix-1)*dr\n",
    "\n",
    "#vector of r values\n",
    "R_temp = [r_cut - i*dr for i in range(N_opt + N_fix)]\n",
    "R_temp.reverse()\n",
    "R = array(R_temp)\n",
    "\n",
    "#get the potential\n",
    "UR = ipl_pot(R, \n",
    "             d, a, A, k, \n",
    "             r_cut, dr, r_shrink)"
   ]
  },
  {
   "cell_type": "code",
   "execution_count": 9,
   "metadata": {
    "collapsed": false,
    "scrolled": true
   },
   "outputs": [
    {
     "name": "stdout",
     "output_type": "stream",
     "text": [
      "[ 0.305  0.32   0.335  0.35   0.365  0.38   0.395  0.41   0.425  0.44\n",
      "  0.455  0.47   0.485  0.5    0.515  0.53   0.545  0.56   0.575  0.59\n",
      "  0.605  0.62   0.635  0.65   0.665  0.68   0.695  0.71   0.725  0.74\n",
      "  0.755  0.77   0.785  0.8    0.815  0.83   0.845  0.86   0.875  0.89\n",
      "  0.905  0.92   0.935  0.95   0.965  0.98   0.995  1.01   1.025  1.04\n",
      "  1.055  1.07   1.085  1.1    1.115  1.13   1.145  1.16   1.175  1.19\n",
      "  1.205  1.22   1.235  1.25   1.265  1.28   1.295  1.31   1.325  1.34\n",
      "  1.355  1.37   1.385  1.4    1.415  1.43   1.445  1.46   1.475  1.49\n",
      "  1.505  1.52   1.535  1.55   1.565  1.58   1.595  1.61   1.625  1.64\n",
      "  1.655  1.67   1.685  1.7    1.715  1.73   1.745  1.76   1.775  1.79\n",
      "  1.805  1.82   1.835  1.85   1.865  1.88   1.895  1.91   1.925  1.94\n",
      "  1.955  1.97   1.985  2.     2.015  2.03   2.045  2.06   2.075  2.09\n",
      "  2.105  2.12   2.135  2.15   2.165  2.18   2.195  2.21   2.225  2.24\n",
      "  2.255  2.27   2.285  2.3    2.315  2.33   2.345  2.36   2.375  2.39\n",
      "  2.405  2.42   2.435  2.45   2.465  2.48   2.495  2.51   2.525  2.54\n",
      "  2.555  2.57   2.585  2.6    2.615  2.63   2.645  2.66   2.675  2.69\n",
      "  2.705  2.72   2.735  2.75   2.765  2.78   2.795  2.81   2.825  2.84\n",
      "  2.855  2.87   2.885  2.9    2.915  2.93   2.945  2.96   2.975  2.99\n",
      "  3.005  3.02   3.035  3.05   3.065  3.08   3.095  3.11   3.125  3.14\n",
      "  3.155  3.17   3.185  3.2    3.215  3.23   3.245  3.26   3.275  3.29\n",
      "  3.305  3.32   3.335  3.35   3.365  3.38   3.395  3.41   3.425  3.44\n",
      "  3.455  3.47   3.485  3.5    3.515  3.53   3.545  3.56   3.575  3.59\n",
      "  3.605  3.62   3.635  3.65   3.665  3.68   3.695  3.71   3.725  3.74\n",
      "  3.755  3.77   3.785  3.8    3.815  3.83   3.845  3.86   3.875  3.89\n",
      "  3.905  3.92   3.935  3.95   3.965  3.98   3.995  4.01   4.025  4.04\n",
      "  4.055  4.07   4.085  4.1    4.115  4.13   4.145  4.16   4.175  4.19\n",
      "  4.205  4.22   4.235  4.25   4.265  4.28   4.295  4.31   4.325  4.34\n",
      "  4.355  4.37   4.385  4.4    4.415  4.43   4.445  4.46   4.475  4.49\n",
      "  4.505  4.52   4.535  4.55   4.565  4.58   4.595  4.61   4.625  4.64\n",
      "  4.655  4.67   4.685  4.7    4.715  4.73   4.745  4.76   4.775  4.79\n",
      "  4.805  4.82   4.835  4.85   4.865  4.88   4.895  4.91   4.925  4.94\n",
      "  4.955  4.97   4.985  5.     5.015  5.03   5.045  5.06   5.075  5.09\n",
      "  5.105  5.12   5.135  5.15   5.165  5.18   5.195  5.21   5.225  5.24\n",
      "  5.255  5.27   5.285  5.3    5.315  5.33   5.345  5.36   5.375  5.39\n",
      "  5.405  5.42   5.435  5.45   5.465  5.48   5.495  5.51   5.525  5.54\n",
      "  5.555  5.57   5.585  5.6    5.615  5.63   5.645  5.66   5.675  5.69\n",
      "  5.705  5.72   5.735  5.75   5.765  5.78   5.795  5.81   5.825  5.84\n",
      "  5.855  5.87   5.885  5.9    5.915  5.93   5.945  5.96   5.975  5.99\n",
      "  6.005]\n",
      "[  3.78879235e+02   2.98023224e+02   2.37015072e+02   1.90396858e+02\n",
      "   1.54360323e+02   1.26206585e+02   1.03995494e+02   8.63138953e+01\n",
      "   7.21199388e+01   6.06368480e+01   5.12794096e+01   4.36024317e+01\n",
      "   3.72641575e+01   3.20000000e+01   2.76034811e+01   2.39122615e+01\n",
      "   2.07978044e+01   1.81576594e+01   1.59096555e+01   1.39874949e+01\n",
      "   1.23373852e+01   1.09154476e+01   9.68570795e+00   8.61853025e+00\n",
      "   7.68938775e+00   6.87789299e+00   6.16702824e+00   5.54253167e+00\n",
      "   4.99240529e+00   4.50651851e+00   4.07628744e+00   3.69441408e+00\n",
      "   3.35467345e+00   3.05173906e+00   2.78103910e+00   2.53863743e+00\n",
      "   2.32113453e+00   2.12558429e+00   1.94942325e+00   1.79040928e+00\n",
      "   1.64656619e+00   1.51613106e+00   1.39749913e+00   1.28915993e+00\n",
      "   1.18961470e+00   1.09726143e+00   1.01023043e+00   9.26159561e-01\n",
      "   8.41936726e-01   7.53565213e-01   6.56599231e-01   5.47947549e-01\n",
      "   4.29390771e-01   3.10460662e-01   2.05612906e-01   1.25635474e-01\n",
      "   7.20784049e-02   3.95996033e-02   2.11751260e-02   1.11454534e-02\n",
      "   5.81518843e-03   3.02014522e-03   1.56501282e-03   8.10229156e-04\n",
      "   4.19385483e-04   2.17122967e-04   1.12454358e-04   5.82736507e-05\n",
      "   3.02145881e-05   1.56754338e-05   8.13736255e-06   4.22676303e-06\n",
      "   2.19679321e-06   1.14241362e-06   5.94437042e-07   3.09479472e-07\n",
      "   1.61211669e-07   8.40223724e-08   4.38149719e-08   2.28599180e-08\n",
      "   1.19329234e-08   6.23210472e-09   3.25637269e-09   1.70231854e-09\n",
      "   8.90329829e-10   4.65865460e-10   2.43874179e-10   1.27721258e-10\n",
      "   6.69189424e-11   3.50767982e-11   1.83938431e-11   9.64947185e-12\n",
      "   5.06418422e-12   2.65881406e-12   1.39648088e-12   7.33749003e-13\n",
      "   3.85676768e-13   2.02796205e-13   1.06674981e-13   5.61316146e-14\n",
      "   2.95467155e-14   1.55588897e-14   8.19636146e-15   4.31895981e-15\n",
      "   2.27576695e-15   1.20075582e-15   6.33779760e-16   3.34121813e-16\n",
      "   1.76402953e-16   9.29243252e-17   4.85944235e-17   2.61925112e-17\n",
      "   1.44101223e-17   6.93889390e-18   3.34221957e-18   1.61027498e-18\n",
      "   1.55207846e-18   0.00000000e+00   0.00000000e+00   0.00000000e+00\n",
      "   0.00000000e+00   0.00000000e+00   0.00000000e+00   0.00000000e+00\n",
      "   0.00000000e+00   0.00000000e+00   0.00000000e+00   0.00000000e+00\n",
      "   0.00000000e+00   0.00000000e+00   0.00000000e+00   0.00000000e+00\n",
      "   0.00000000e+00   0.00000000e+00   0.00000000e+00   0.00000000e+00\n",
      "   0.00000000e+00   0.00000000e+00   0.00000000e+00   0.00000000e+00\n",
      "   0.00000000e+00   0.00000000e+00   0.00000000e+00   0.00000000e+00\n",
      "   0.00000000e+00   0.00000000e+00   0.00000000e+00   0.00000000e+00\n",
      "   0.00000000e+00   0.00000000e+00   0.00000000e+00   0.00000000e+00\n",
      "   0.00000000e+00   0.00000000e+00   0.00000000e+00   0.00000000e+00\n",
      "   0.00000000e+00   0.00000000e+00   0.00000000e+00   0.00000000e+00\n",
      "   0.00000000e+00   0.00000000e+00   0.00000000e+00   0.00000000e+00\n",
      "   0.00000000e+00   0.00000000e+00   0.00000000e+00   0.00000000e+00\n",
      "   0.00000000e+00   0.00000000e+00   0.00000000e+00   0.00000000e+00\n",
      "   0.00000000e+00   0.00000000e+00   0.00000000e+00   0.00000000e+00\n",
      "   0.00000000e+00   0.00000000e+00   0.00000000e+00   0.00000000e+00\n",
      "   0.00000000e+00   0.00000000e+00   0.00000000e+00   0.00000000e+00\n",
      "   0.00000000e+00   0.00000000e+00   0.00000000e+00   0.00000000e+00\n",
      "   0.00000000e+00   0.00000000e+00   0.00000000e+00   0.00000000e+00\n",
      "   0.00000000e+00   0.00000000e+00   0.00000000e+00   0.00000000e+00\n",
      "   0.00000000e+00   0.00000000e+00   0.00000000e+00   0.00000000e+00\n",
      "   0.00000000e+00   0.00000000e+00   0.00000000e+00   0.00000000e+00\n",
      "   0.00000000e+00   0.00000000e+00   0.00000000e+00   0.00000000e+00\n",
      "   0.00000000e+00   0.00000000e+00   0.00000000e+00   0.00000000e+00\n",
      "   0.00000000e+00   0.00000000e+00   0.00000000e+00   0.00000000e+00\n",
      "   0.00000000e+00   0.00000000e+00   0.00000000e+00   0.00000000e+00\n",
      "   0.00000000e+00   0.00000000e+00   0.00000000e+00   0.00000000e+00\n",
      "   0.00000000e+00   0.00000000e+00   0.00000000e+00   0.00000000e+00\n",
      "   0.00000000e+00   0.00000000e+00   0.00000000e+00   0.00000000e+00\n",
      "   0.00000000e+00   0.00000000e+00   0.00000000e+00   0.00000000e+00\n",
      "   0.00000000e+00   0.00000000e+00   0.00000000e+00   0.00000000e+00\n",
      "   0.00000000e+00   0.00000000e+00   0.00000000e+00   0.00000000e+00\n",
      "   0.00000000e+00   0.00000000e+00   0.00000000e+00   0.00000000e+00\n",
      "   0.00000000e+00   0.00000000e+00   0.00000000e+00   0.00000000e+00\n",
      "   0.00000000e+00   0.00000000e+00   0.00000000e+00   0.00000000e+00\n",
      "   0.00000000e+00   0.00000000e+00   0.00000000e+00   0.00000000e+00\n",
      "   0.00000000e+00   0.00000000e+00   0.00000000e+00   0.00000000e+00\n",
      "   0.00000000e+00   0.00000000e+00   0.00000000e+00   0.00000000e+00\n",
      "   0.00000000e+00   0.00000000e+00   0.00000000e+00   0.00000000e+00\n",
      "   0.00000000e+00   0.00000000e+00   0.00000000e+00   0.00000000e+00\n",
      "   0.00000000e+00   0.00000000e+00   0.00000000e+00   0.00000000e+00\n",
      "   0.00000000e+00   0.00000000e+00   0.00000000e+00   0.00000000e+00\n",
      "   0.00000000e+00   0.00000000e+00   0.00000000e+00   0.00000000e+00\n",
      "   0.00000000e+00   0.00000000e+00   0.00000000e+00   0.00000000e+00\n",
      "   0.00000000e+00   0.00000000e+00   0.00000000e+00   0.00000000e+00\n",
      "   0.00000000e+00   0.00000000e+00   0.00000000e+00   0.00000000e+00\n",
      "   0.00000000e+00   0.00000000e+00   0.00000000e+00   0.00000000e+00\n",
      "   0.00000000e+00   0.00000000e+00   0.00000000e+00   0.00000000e+00\n",
      "   0.00000000e+00   0.00000000e+00   0.00000000e+00   0.00000000e+00\n",
      "   0.00000000e+00   0.00000000e+00   0.00000000e+00   0.00000000e+00\n",
      "   0.00000000e+00   0.00000000e+00   0.00000000e+00   0.00000000e+00\n",
      "   0.00000000e+00   0.00000000e+00   0.00000000e+00   0.00000000e+00\n",
      "   0.00000000e+00   0.00000000e+00   0.00000000e+00   0.00000000e+00\n",
      "   0.00000000e+00   0.00000000e+00   0.00000000e+00   0.00000000e+00\n",
      "   0.00000000e+00   0.00000000e+00   0.00000000e+00   0.00000000e+00\n",
      "   0.00000000e+00   0.00000000e+00   0.00000000e+00   0.00000000e+00\n",
      "   0.00000000e+00   0.00000000e+00   0.00000000e+00   0.00000000e+00\n",
      "   0.00000000e+00   0.00000000e+00   0.00000000e+00   0.00000000e+00\n",
      "   0.00000000e+00   0.00000000e+00   0.00000000e+00   0.00000000e+00\n",
      "   0.00000000e+00   0.00000000e+00   0.00000000e+00   0.00000000e+00\n",
      "   0.00000000e+00   0.00000000e+00   0.00000000e+00   0.00000000e+00\n",
      "   0.00000000e+00   0.00000000e+00   0.00000000e+00   0.00000000e+00\n",
      "   0.00000000e+00   0.00000000e+00   0.00000000e+00   0.00000000e+00\n",
      "   0.00000000e+00   0.00000000e+00   0.00000000e+00   0.00000000e+00\n",
      "   0.00000000e+00   0.00000000e+00   0.00000000e+00   0.00000000e+00\n",
      "   0.00000000e+00   0.00000000e+00   0.00000000e+00   0.00000000e+00\n",
      "   0.00000000e+00]\n"
     ]
    }
   ],
   "source": [
    "print R\n",
    "print UR"
   ]
  },
  {
   "cell_type": "code",
   "execution_count": 10,
   "metadata": {
    "collapsed": true
   },
   "outputs": [],
   "source": [
    "init_guess(R, UR, N_fix)"
   ]
  },
  {
   "cell_type": "code",
   "execution_count": 11,
   "metadata": {
    "collapsed": false
   },
   "outputs": [
    {
     "data": {
      "text/plain": [
       "381"
      ]
     },
     "execution_count": 11,
     "metadata": {},
     "output_type": "execute_result"
    }
   ],
   "source": [
    "len(R)"
   ]
  },
  {
   "cell_type": "code",
   "execution_count": null,
   "metadata": {
    "collapsed": true
   },
   "outputs": [],
   "source": []
  },
  {
   "cell_type": "code",
   "execution_count": null,
   "metadata": {
    "collapsed": true
   },
   "outputs": [],
   "source": []
  },
  {
   "cell_type": "code",
   "execution_count": null,
   "metadata": {
    "collapsed": true
   },
   "outputs": [],
   "source": []
  },
  {
   "cell_type": "code",
   "execution_count": null,
   "metadata": {
    "collapsed": true
   },
   "outputs": [],
   "source": []
  },
  {
   "cell_type": "code",
   "execution_count": null,
   "metadata": {
    "collapsed": true
   },
   "outputs": [],
   "source": [
    "#RECTANGLE(1.5) 3c"
   ]
  },
  {
   "cell_type": "code",
   "execution_count": 38,
   "metadata": {
    "collapsed": true
   },
   "outputs": [],
   "source": [
    "#trial ipl params\n",
    "d = 1.0\n",
    "a = 5.0\n",
    "A = 1.0\n",
    "k = 20.0\n",
    "\n",
    "#re potential constraints\n",
    "dr = 0.015\n",
    "N_opt = 95\n",
    "N_fix = 3\n",
    "r_shrink = 1.10\n",
    "r_cut = 1.72 + (N_fix-1)*dr\n",
    "\n",
    "#vector of r values\n",
    "R_temp = [r_cut - i*dr for i in range(N_opt + N_fix)]\n",
    "R_temp.reverse()\n",
    "R = array(R_temp)\n",
    "\n",
    "#get the potential\n",
    "UR = ipl_pot(R, \n",
    "             d, a, A, k, \n",
    "             r_cut, dr, r_shrink)"
   ]
  },
  {
   "cell_type": "code",
   "execution_count": 39,
   "metadata": {
    "collapsed": false
   },
   "outputs": [
    {
     "name": "stdout",
     "output_type": "stream",
     "text": [
      "[ 0.295  0.31   0.325  0.34   0.355  0.37   0.385  0.4    0.415  0.43\n",
      "  0.445  0.46   0.475  0.49   0.505  0.52   0.535  0.55   0.565  0.58\n",
      "  0.595  0.61   0.625  0.64   0.655  0.67   0.685  0.7    0.715  0.73\n",
      "  0.745  0.76   0.775  0.79   0.805  0.82   0.835  0.85   0.865  0.88\n",
      "  0.895  0.91   0.925  0.94   0.955  0.97   0.985  1.     1.015  1.03\n",
      "  1.045  1.06   1.075  1.09   1.105  1.12   1.135  1.15   1.165  1.18\n",
      "  1.195  1.21   1.225  1.24   1.255  1.27   1.285  1.3    1.315  1.33\n",
      "  1.345  1.36   1.375  1.39   1.405  1.42   1.435  1.45   1.465  1.48\n",
      "  1.495  1.51   1.525  1.54   1.555  1.57   1.585  1.6    1.615  1.63\n",
      "  1.645  1.66   1.675  1.69   1.705  1.72   1.735  1.75 ]\n",
      "[  4.47599837e+02   3.49294326e+02   2.75792972e+02   2.20092587e+02\n",
      "   1.77361043e+02   1.44208673e+02   1.18221469e+02   9.76562500e+01\n",
      "   8.12380549e+01   6.80233039e+01   5.73059802e+01   4.85524156e+01\n",
      "   4.13553739e+01   3.54013317e+01   3.04469020e+01   2.63016674e+01\n",
      "   2.28155577e+01   1.98694823e+01   1.73683179e+01   1.52356165e+01\n",
      "   1.34095798e+01   1.18399760e+01   1.04857599e+01   9.31322565e+00\n",
      "   8.29456265e+00   7.40672076e+00   6.63051277e+00   5.94990116e+00\n",
      "   5.35142819e+00   4.82375828e+00   4.35730881e+00   3.94395090e+00\n",
      "   3.57676581e+00   3.24984580e+00   2.95813057e+00   2.69727234e+00\n",
      "   2.46352402e+00   2.25364577e+00   2.06482637e+00   1.89461592e+00\n",
      "   1.74086687e+00   1.60167999e+00   1.47535146e+00   1.36031575e+00\n",
      "   1.25507673e+00   1.15811610e+00   1.06776378e+00   9.82013790e-01\n",
      "   8.98281727e-01   8.13160447e-01   7.22406162e-01   6.21732538e-01\n",
      "   5.09225164e-01   3.89105901e-01   2.73250713e-01   1.75916805e-01\n",
      "   1.05022500e-01   5.92649196e-02   3.22173508e-02   1.71196984e-02\n",
      "   8.97910432e-03   4.67603672e-03   2.42622296e-03   1.25672275e-03\n",
      "   6.50541648e-04   3.36740599e-04   1.74357170e-04   9.03195399e-05\n",
      "   4.68121664e-05   2.42766455e-05   1.25973317e-05   6.54078102e-06\n",
      "   3.39812942e-06   1.76646872e-06   9.18805038e-07   4.78175618e-07\n",
      "   2.48996496e-07   1.29728632e-07   6.76254617e-08   3.52704789e-08\n",
      "   1.84049151e-08   9.60885542e-09   5.01900510e-09   2.62278061e-09\n",
      "   1.37116549e-09   7.17095494e-10   3.75128873e-10   1.96255648e-10\n",
      "   1.02649313e-10   5.36421348e-11   2.79733679e-11   1.45228872e-11\n",
      "   7.47182404e-12   3.77395128e-12   1.83383770e-12   8.15538737e-13\n",
      "   2.80858126e-13   0.00000000e+00]\n"
     ]
    }
   ],
   "source": [
    "print R\n",
    "print UR"
   ]
  },
  {
   "cell_type": "code",
   "execution_count": 40,
   "metadata": {
    "collapsed": true
   },
   "outputs": [],
   "source": [
    "init_guess(R, UR, N_fix)"
   ]
  },
  {
   "cell_type": "code",
   "execution_count": 41,
   "metadata": {
    "collapsed": false
   },
   "outputs": [
    {
     "data": {
      "text/plain": [
       "98"
      ]
     },
     "execution_count": 41,
     "metadata": {},
     "output_type": "execute_result"
    }
   ],
   "source": [
    "len(R)"
   ]
  },
  {
   "cell_type": "code",
   "execution_count": null,
   "metadata": {
    "collapsed": true
   },
   "outputs": [],
   "source": []
  },
  {
   "cell_type": "code",
   "execution_count": null,
   "metadata": {
    "collapsed": true
   },
   "outputs": [],
   "source": []
  },
  {
   "cell_type": "code",
   "execution_count": 42,
   "metadata": {
    "collapsed": true
   },
   "outputs": [],
   "source": [
    "#RECTANGLE(3.0) 3c"
   ]
  },
  {
   "cell_type": "code",
   "execution_count": 55,
   "metadata": {
    "collapsed": true
   },
   "outputs": [],
   "source": [
    "#trial ipl params\n",
    "d = 1.0\n",
    "a = 5.0\n",
    "A = 1.0\n",
    "k = 20.0\n",
    "\n",
    "#re potential constraints\n",
    "dr = 0.015\n",
    "N_opt = 165\n",
    "N_fix = 3\n",
    "r_shrink = 1.10\n",
    "r_cut = 2.78 + (N_fix-1)*dr\n",
    "\n",
    "#vector of r values\n",
    "R_temp = [r_cut - i*dr for i in range(N_opt + N_fix)]\n",
    "R_temp.reverse()\n",
    "R = array(R_temp)\n",
    "\n",
    "#get the potential\n",
    "UR = ipl_pot(R, \n",
    "             d, a, A, k, \n",
    "             r_cut, dr, r_shrink)"
   ]
  },
  {
   "cell_type": "code",
   "execution_count": 56,
   "metadata": {
    "collapsed": false
   },
   "outputs": [
    {
     "name": "stdout",
     "output_type": "stream",
     "text": [
      "[ 0.305  0.32   0.335  0.35   0.365  0.38   0.395  0.41   0.425  0.44\n",
      "  0.455  0.47   0.485  0.5    0.515  0.53   0.545  0.56   0.575  0.59\n",
      "  0.605  0.62   0.635  0.65   0.665  0.68   0.695  0.71   0.725  0.74\n",
      "  0.755  0.77   0.785  0.8    0.815  0.83   0.845  0.86   0.875  0.89\n",
      "  0.905  0.92   0.935  0.95   0.965  0.98   0.995  1.01   1.025  1.04\n",
      "  1.055  1.07   1.085  1.1    1.115  1.13   1.145  1.16   1.175  1.19\n",
      "  1.205  1.22   1.235  1.25   1.265  1.28   1.295  1.31   1.325  1.34\n",
      "  1.355  1.37   1.385  1.4    1.415  1.43   1.445  1.46   1.475  1.49\n",
      "  1.505  1.52   1.535  1.55   1.565  1.58   1.595  1.61   1.625  1.64\n",
      "  1.655  1.67   1.685  1.7    1.715  1.73   1.745  1.76   1.775  1.79\n",
      "  1.805  1.82   1.835  1.85   1.865  1.88   1.895  1.91   1.925  1.94\n",
      "  1.955  1.97   1.985  2.     2.015  2.03   2.045  2.06   2.075  2.09\n",
      "  2.105  2.12   2.135  2.15   2.165  2.18   2.195  2.21   2.225  2.24\n",
      "  2.255  2.27   2.285  2.3    2.315  2.33   2.345  2.36   2.375  2.39\n",
      "  2.405  2.42   2.435  2.45   2.465  2.48   2.495  2.51   2.525  2.54\n",
      "  2.555  2.57   2.585  2.6    2.615  2.63   2.645  2.66   2.675  2.69\n",
      "  2.705  2.72   2.735  2.75   2.765  2.78   2.795  2.81 ]\n",
      "[  3.78879235e+02   2.98023224e+02   2.37015072e+02   1.90396858e+02\n",
      "   1.54360323e+02   1.26206585e+02   1.03995494e+02   8.63138953e+01\n",
      "   7.21199388e+01   6.06368480e+01   5.12794096e+01   4.36024317e+01\n",
      "   3.72641575e+01   3.20000000e+01   2.76034811e+01   2.39122615e+01\n",
      "   2.07978044e+01   1.81576594e+01   1.59096555e+01   1.39874949e+01\n",
      "   1.23373852e+01   1.09154476e+01   9.68570795e+00   8.61853025e+00\n",
      "   7.68938775e+00   6.87789299e+00   6.16702824e+00   5.54253167e+00\n",
      "   4.99240529e+00   4.50651851e+00   4.07628744e+00   3.69441408e+00\n",
      "   3.35467345e+00   3.05173906e+00   2.78103910e+00   2.53863743e+00\n",
      "   2.32113453e+00   2.12558429e+00   1.94942325e+00   1.79040928e+00\n",
      "   1.64656619e+00   1.51613106e+00   1.39749913e+00   1.28915993e+00\n",
      "   1.18961470e+00   1.09726143e+00   1.01023043e+00   9.26159561e-01\n",
      "   8.41936726e-01   7.53565213e-01   6.56599231e-01   5.47947549e-01\n",
      "   4.29390771e-01   3.10460662e-01   2.05612906e-01   1.25635474e-01\n",
      "   7.20784049e-02   3.95996033e-02   2.11751260e-02   1.11454534e-02\n",
      "   5.81518843e-03   3.02014522e-03   1.56501282e-03   8.10229156e-04\n",
      "   4.19385483e-04   2.17122967e-04   1.12454358e-04   5.82736507e-05\n",
      "   3.02145881e-05   1.56754338e-05   8.13736255e-06   4.22676303e-06\n",
      "   2.19679321e-06   1.14241362e-06   5.94437042e-07   3.09479472e-07\n",
      "   1.61211669e-07   8.40223724e-08   4.38149719e-08   2.28599180e-08\n",
      "   1.19329234e-08   6.23210472e-09   3.25637269e-09   1.70231854e-09\n",
      "   8.90329829e-10   4.65865460e-10   2.43874179e-10   1.27721258e-10\n",
      "   6.69189424e-11   3.50767982e-11   1.83938431e-11   9.64947185e-12\n",
      "   5.06418422e-12   2.65881406e-12   1.39648088e-12   7.33749003e-13\n",
      "   3.85676768e-13   2.02796205e-13   1.06674981e-13   5.61316146e-14\n",
      "   2.95467155e-14   1.55588897e-14   8.19636146e-15   4.31895981e-15\n",
      "   2.27576695e-15   1.20075582e-15   6.33779760e-16   3.34121813e-16\n",
      "   1.76402953e-16   9.29243252e-17   4.85944235e-17   2.61925112e-17\n",
      "   1.44101223e-17   6.93889390e-18   3.34221957e-18   1.61027498e-18\n",
      "   1.55207846e-18   0.00000000e+00   0.00000000e+00   0.00000000e+00\n",
      "   0.00000000e+00   0.00000000e+00   0.00000000e+00   0.00000000e+00\n",
      "   0.00000000e+00   0.00000000e+00   0.00000000e+00   0.00000000e+00\n",
      "   0.00000000e+00   0.00000000e+00   0.00000000e+00   0.00000000e+00\n",
      "   0.00000000e+00   0.00000000e+00   0.00000000e+00   0.00000000e+00\n",
      "   0.00000000e+00   0.00000000e+00   0.00000000e+00   0.00000000e+00\n",
      "   0.00000000e+00   0.00000000e+00   0.00000000e+00   0.00000000e+00\n",
      "   0.00000000e+00   0.00000000e+00   0.00000000e+00   0.00000000e+00\n",
      "   0.00000000e+00   0.00000000e+00   0.00000000e+00   0.00000000e+00\n",
      "   0.00000000e+00   0.00000000e+00   0.00000000e+00   0.00000000e+00\n",
      "   0.00000000e+00   0.00000000e+00   0.00000000e+00   0.00000000e+00\n",
      "   0.00000000e+00   0.00000000e+00   0.00000000e+00   0.00000000e+00\n",
      "   0.00000000e+00   0.00000000e+00   0.00000000e+00   0.00000000e+00]\n"
     ]
    }
   ],
   "source": [
    "print R\n",
    "print UR"
   ]
  },
  {
   "cell_type": "code",
   "execution_count": 57,
   "metadata": {
    "collapsed": true
   },
   "outputs": [],
   "source": [
    "init_guess(R, UR, N_fix)"
   ]
  },
  {
   "cell_type": "code",
   "execution_count": 58,
   "metadata": {
    "collapsed": false
   },
   "outputs": [
    {
     "data": {
      "text/plain": [
       "168"
      ]
     },
     "execution_count": 58,
     "metadata": {},
     "output_type": "execute_result"
    }
   ],
   "source": [
    "len(R)"
   ]
  },
  {
   "cell_type": "code",
   "execution_count": null,
   "metadata": {
    "collapsed": true
   },
   "outputs": [],
   "source": []
  },
  {
   "cell_type": "code",
   "execution_count": null,
   "metadata": {
    "collapsed": true
   },
   "outputs": [],
   "source": []
  },
  {
   "cell_type": "code",
   "execution_count": 12,
   "metadata": {
    "collapsed": true
   },
   "outputs": [],
   "source": [
    "#RECTANGLE KAGOME 5c"
   ]
  },
  {
   "cell_type": "code",
   "execution_count": 17,
   "metadata": {
    "collapsed": true
   },
   "outputs": [],
   "source": [
    "#trial ipl params\n",
    "d = 1.0\n",
    "a = 5.0\n",
    "A = 1.0\n",
    "k = 20.0\n",
    "\n",
    "#re potential constraints\n",
    "dr = 0.015\n",
    "N_opt = 169\n",
    "N_fix = 3\n",
    "r_shrink = 1.10\n",
    "r_cut = 2.82 + (N_fix-1)*dr\n",
    "\n",
    "#vector of r values\n",
    "R_temp = [r_cut - i*dr for i in range(N_opt + N_fix)]\n",
    "R_temp.reverse()\n",
    "R = array(R_temp)\n",
    "\n",
    "#get the potential\n",
    "UR = ipl_pot(R, \n",
    "             d, a, A, k, \n",
    "             r_cut, dr, r_shrink)"
   ]
  },
  {
   "cell_type": "code",
   "execution_count": 18,
   "metadata": {
    "collapsed": false,
    "scrolled": true
   },
   "outputs": [
    {
     "name": "stdout",
     "output_type": "stream",
     "text": [
      "[ 0.285  0.3    0.315  0.33   0.345  0.36   0.375  0.39   0.405  0.42\n",
      "  0.435  0.45   0.465  0.48   0.495  0.51   0.525  0.54   0.555  0.57\n",
      "  0.585  0.6    0.615  0.63   0.645  0.66   0.675  0.69   0.705  0.72\n",
      "  0.735  0.75   0.765  0.78   0.795  0.81   0.825  0.84   0.855  0.87\n",
      "  0.885  0.9    0.915  0.93   0.945  0.96   0.975  0.99   1.005  1.02\n",
      "  1.035  1.05   1.065  1.08   1.095  1.11   1.125  1.14   1.155  1.17\n",
      "  1.185  1.2    1.215  1.23   1.245  1.26   1.275  1.29   1.305  1.32\n",
      "  1.335  1.35   1.365  1.38   1.395  1.41   1.425  1.44   1.455  1.47\n",
      "  1.485  1.5    1.515  1.53   1.545  1.56   1.575  1.59   1.605  1.62\n",
      "  1.635  1.65   1.665  1.68   1.695  1.71   1.725  1.74   1.755  1.77\n",
      "  1.785  1.8    1.815  1.83   1.845  1.86   1.875  1.89   1.905  1.92\n",
      "  1.935  1.95   1.965  1.98   1.995  2.01   2.025  2.04   2.055  2.07\n",
      "  2.085  2.1    2.115  2.13   2.145  2.16   2.175  2.19   2.205  2.22\n",
      "  2.235  2.25   2.265  2.28   2.295  2.31   2.325  2.34   2.355  2.37\n",
      "  2.385  2.4    2.415  2.43   2.445  2.46   2.475  2.49   2.505  2.52\n",
      "  2.535  2.55   2.565  2.58   2.595  2.61   2.625  2.64   2.655  2.67\n",
      "  2.685  2.7    2.715  2.73   2.745  2.76   2.775  2.79   2.805  2.82\n",
      "  2.835  2.85 ]\n",
      "[  5.31833512e+02   4.11522634e+02   3.22438752e+02   2.55523178e+02\n",
      "   2.04599480e+02   1.65381717e+02   1.34847737e+02   1.10835010e+02\n",
      "   9.17751037e+01   7.65162272e+01   6.42027625e+01   5.41922810e+01\n",
      "   4.59976067e+01   3.92458566e+01   3.36491428e+01   2.89833859e+01\n",
      "   2.50728373e+01   2.17786623e+01   1.89904425e+01   1.66197972e+01\n",
      "   1.45955569e+01   1.28600823e+01   1.13664388e+01   1.00762109e+01\n",
      "   8.95780123e+00   7.98509914e+00   7.13643177e+00   6.39373325e+00\n",
      "   5.74188322e+00   5.16817736e+00   4.66190164e+00   4.21398827e+00\n",
      "   3.81673640e+00   3.46358450e+00   3.14892395e+00   2.86794570e+00\n",
      "   2.61651364e+00   2.39105933e+00   2.18849392e+00   2.00613363e+00\n",
      "   1.84163558e+00   1.69294086e+00   1.55822134e+00   1.43582602e+00\n",
      "   1.32422103e+00   1.22191455e+00   1.12735445e+00   1.03878223e+00\n",
      "   9.54028319e-01   8.70257208e-01   7.83760472e-01   6.90127558e-01\n",
      "   5.85498648e-01   4.69585038e-01   3.49269766e-01   2.38159341e-01\n",
      "   1.49243383e-01   8.72443869e-02   4.85294213e-02   2.61461959e-02\n",
      "   1.38213284e-02   7.22825439e-03   3.75854999e-03   1.94874004e-03\n",
      "   1.00909577e-03   5.22325927e-04   2.70390767e-04   1.40021942e-04\n",
      "   7.25459924e-05   3.76074118e-05   1.95069610e-05   1.01243377e-05\n",
      "   5.25780426e-06   2.73212416e-06   1.42053133e-06   7.39011289e-07\n",
      "   3.84677187e-07   2.00346632e-07   1.04400624e-07   5.44320677e-08\n",
      "   2.83943951e-08   1.48194452e-08   7.73835072e-09   4.04275798e-09\n",
      "   2.11307930e-09   1.10499048e-09   5.78098776e-10   3.02581610e-10\n",
      "   1.58444175e-10   8.30041285e-11   4.35020057e-11   2.28087601e-11\n",
      "   1.19639212e-11   6.27800566e-12   3.29566450e-12   1.73074875e-12\n",
      "   9.09269310e-13   4.77874679e-13   2.51247032e-13   1.32142320e-13\n",
      "   6.95245929e-14   3.65928561e-14   1.92663365e-14   1.01481672e-14\n",
      "   5.34631728e-15   2.81769484e-15   1.48513374e-15   7.82618537e-16\n",
      "   4.13758511e-16   2.19134782e-16   1.14594405e-16   6.10335837e-17\n",
      "   3.22119030e-17   1.64171132e-17   8.78285552e-18   5.07599519e-18\n",
      "   3.26050666e-18   1.57119250e-18   0.00000000e+00   0.00000000e+00\n",
      "   0.00000000e+00   0.00000000e+00   0.00000000e+00   0.00000000e+00\n",
      "   0.00000000e+00   0.00000000e+00   0.00000000e+00   0.00000000e+00\n",
      "   0.00000000e+00   0.00000000e+00   0.00000000e+00   0.00000000e+00\n",
      "   0.00000000e+00   0.00000000e+00   0.00000000e+00   0.00000000e+00\n",
      "   0.00000000e+00   0.00000000e+00   0.00000000e+00   0.00000000e+00\n",
      "   0.00000000e+00   0.00000000e+00   0.00000000e+00   0.00000000e+00\n",
      "   0.00000000e+00   0.00000000e+00   0.00000000e+00   0.00000000e+00\n",
      "   0.00000000e+00   0.00000000e+00   0.00000000e+00   0.00000000e+00\n",
      "   0.00000000e+00   0.00000000e+00   0.00000000e+00   0.00000000e+00\n",
      "   0.00000000e+00   0.00000000e+00   0.00000000e+00   0.00000000e+00\n",
      "   0.00000000e+00   0.00000000e+00   0.00000000e+00   0.00000000e+00\n",
      "   0.00000000e+00   0.00000000e+00   0.00000000e+00   0.00000000e+00\n",
      "   0.00000000e+00   0.00000000e+00   0.00000000e+00   0.00000000e+00]\n"
     ]
    }
   ],
   "source": [
    "print R\n",
    "print UR"
   ]
  },
  {
   "cell_type": "code",
   "execution_count": 19,
   "metadata": {
    "collapsed": true
   },
   "outputs": [],
   "source": [
    "init_guess(R, UR, N_fix)"
   ]
  },
  {
   "cell_type": "code",
   "execution_count": 20,
   "metadata": {
    "collapsed": false
   },
   "outputs": [
    {
     "data": {
      "text/plain": [
       "172"
      ]
     },
     "execution_count": 20,
     "metadata": {},
     "output_type": "execute_result"
    }
   ],
   "source": [
    "len(R)"
   ]
  },
  {
   "cell_type": "code",
   "execution_count": null,
   "metadata": {
    "collapsed": true
   },
   "outputs": [],
   "source": []
  },
  {
   "cell_type": "code",
   "execution_count": null,
   "metadata": {
    "collapsed": true
   },
   "outputs": [],
   "source": []
  },
  {
   "cell_type": "code",
   "execution_count": null,
   "metadata": {
    "collapsed": true
   },
   "outputs": [],
   "source": []
  },
  {
   "cell_type": "code",
   "execution_count": 4,
   "metadata": {
    "collapsed": true
   },
   "outputs": [],
   "source": [
    "#RECTANGLE KAGOME 7c"
   ]
  },
  {
   "cell_type": "code",
   "execution_count": 17,
   "metadata": {
    "collapsed": true
   },
   "outputs": [],
   "source": [
    "#trial ipl params\n",
    "d = 1.0\n",
    "a = 5.0\n",
    "A = 1.0\n",
    "k = 20.0\n",
    "\n",
    "#re potential constraints\n",
    "dr = 0.015\n",
    "N_opt = 202\n",
    "N_fix = 3\n",
    "r_shrink = 1.10\n",
    "r_cut = 3.34 + (N_fix-1)*dr\n",
    "\n",
    "#vector of r values\n",
    "R_temp = [r_cut - i*dr for i in range(N_opt + N_fix)]\n",
    "R_temp.reverse()\n",
    "R = array(R_temp)\n",
    "\n",
    "#get the potential\n",
    "UR = ipl_pot(R, \n",
    "             d, a, A, k, \n",
    "             r_cut, dr, r_shrink)"
   ]
  },
  {
   "cell_type": "code",
   "execution_count": 18,
   "metadata": {
    "collapsed": false,
    "scrolled": true
   },
   "outputs": [
    {
     "name": "stdout",
     "output_type": "stream",
     "text": [
      "[ 0.31   0.325  0.34   0.355  0.37   0.385  0.4    0.415  0.43   0.445\n",
      "  0.46   0.475  0.49   0.505  0.52   0.535  0.55   0.565  0.58   0.595\n",
      "  0.61   0.625  0.64   0.655  0.67   0.685  0.7    0.715  0.73   0.745\n",
      "  0.76   0.775  0.79   0.805  0.82   0.835  0.85   0.865  0.88   0.895\n",
      "  0.91   0.925  0.94   0.955  0.97   0.985  1.     1.015  1.03   1.045\n",
      "  1.06   1.075  1.09   1.105  1.12   1.135  1.15   1.165  1.18   1.195\n",
      "  1.21   1.225  1.24   1.255  1.27   1.285  1.3    1.315  1.33   1.345\n",
      "  1.36   1.375  1.39   1.405  1.42   1.435  1.45   1.465  1.48   1.495\n",
      "  1.51   1.525  1.54   1.555  1.57   1.585  1.6    1.615  1.63   1.645\n",
      "  1.66   1.675  1.69   1.705  1.72   1.735  1.75   1.765  1.78   1.795\n",
      "  1.81   1.825  1.84   1.855  1.87   1.885  1.9    1.915  1.93   1.945\n",
      "  1.96   1.975  1.99   2.005  2.02   2.035  2.05   2.065  2.08   2.095\n",
      "  2.11   2.125  2.14   2.155  2.17   2.185  2.2    2.215  2.23   2.245\n",
      "  2.26   2.275  2.29   2.305  2.32   2.335  2.35   2.365  2.38   2.395\n",
      "  2.41   2.425  2.44   2.455  2.47   2.485  2.5    2.515  2.53   2.545\n",
      "  2.56   2.575  2.59   2.605  2.62   2.635  2.65   2.665  2.68   2.695\n",
      "  2.71   2.725  2.74   2.755  2.77   2.785  2.8    2.815  2.83   2.845\n",
      "  2.86   2.875  2.89   2.905  2.92   2.935  2.95   2.965  2.98   2.995\n",
      "  3.01   3.025  3.04   3.055  3.07   3.085  3.1    3.115  3.13   3.145\n",
      "  3.16   3.175  3.19   3.205  3.22   3.235  3.25   3.265  3.28   3.295\n",
      "  3.31   3.325  3.34   3.355  3.37 ]\n",
      "[  3.49294326e+02   2.75792972e+02   2.20092587e+02   1.77361043e+02\n",
      "   1.44208673e+02   1.18221469e+02   9.76562500e+01   8.12380549e+01\n",
      "   6.80233039e+01   5.73059802e+01   4.85524156e+01   4.13553739e+01\n",
      "   3.54013317e+01   3.04469020e+01   2.63016674e+01   2.28155577e+01\n",
      "   1.98694823e+01   1.73683179e+01   1.52356165e+01   1.34095798e+01\n",
      "   1.18399760e+01   1.04857599e+01   9.31322565e+00   8.29456265e+00\n",
      "   7.40672076e+00   6.63051277e+00   5.94990116e+00   5.35142819e+00\n",
      "   4.82375828e+00   4.35730881e+00   3.94395090e+00   3.57676581e+00\n",
      "   3.24984580e+00   2.95813057e+00   2.69727234e+00   2.46352402e+00\n",
      "   2.25364577e+00   2.06482637e+00   1.89461592e+00   1.74086687e+00\n",
      "   1.60167999e+00   1.47535146e+00   1.36031575e+00   1.25507673e+00\n",
      "   1.15811610e+00   1.06776378e+00   9.82013790e-01   8.98281727e-01\n",
      "   8.13160447e-01   7.22406162e-01   6.21732538e-01   5.09225164e-01\n",
      "   3.89105901e-01   2.73250713e-01   1.75916805e-01   1.05022500e-01\n",
      "   5.92649196e-02   3.22173508e-02   1.71196984e-02   8.97910432e-03\n",
      "   4.67603672e-03   2.42622296e-03   1.25672275e-03   6.50541648e-04\n",
      "   3.36740600e-04   1.74357171e-04   9.03195402e-05   4.68121667e-05\n",
      "   2.42766459e-05   1.25973320e-05   6.54078133e-06   3.39812973e-06\n",
      "   1.76646903e-06   9.18805349e-07   4.78175929e-07   2.48996808e-07\n",
      "   1.29728943e-07   6.76257730e-08   3.52707902e-08   1.84052264e-08\n",
      "   9.60916670e-09   5.01931638e-09   2.62309189e-09   1.37147677e-09\n",
      "   7.17406775e-10   3.75440154e-10   1.96566929e-10   1.02960594e-10\n",
      "   5.39534157e-11   2.82846487e-11   1.48341681e-11   7.78310492e-12\n",
      "   4.08523216e-12   2.14511858e-12   1.12681962e-12   5.92139006e-13\n",
      "   3.11280879e-13   1.63697728e-13   8.61170443e-14   4.53211980e-14\n",
      "   2.38573291e-14   1.25637989e-14   6.61955978e-15   3.48770505e-15\n",
      "   1.83767235e-15   9.70324042e-16   5.11148483e-16   2.69430251e-16\n",
      "   1.43035151e-16   7.57819546e-17   4.03013108e-17   2.03206418e-17\n",
      "   1.06724985e-17   5.13960336e-18   3.30105973e-18   1.59058970e-18\n",
      "   1.53324278e-18   0.00000000e+00   0.00000000e+00   0.00000000e+00\n",
      "   0.00000000e+00   0.00000000e+00   0.00000000e+00   0.00000000e+00\n",
      "   0.00000000e+00   0.00000000e+00   0.00000000e+00   0.00000000e+00\n",
      "   0.00000000e+00   0.00000000e+00   0.00000000e+00   0.00000000e+00\n",
      "   0.00000000e+00   0.00000000e+00   0.00000000e+00   0.00000000e+00\n",
      "   0.00000000e+00   0.00000000e+00   0.00000000e+00   0.00000000e+00\n",
      "   0.00000000e+00   0.00000000e+00   0.00000000e+00   0.00000000e+00\n",
      "   0.00000000e+00   0.00000000e+00   0.00000000e+00   0.00000000e+00\n",
      "   0.00000000e+00   0.00000000e+00   0.00000000e+00   0.00000000e+00\n",
      "   0.00000000e+00   0.00000000e+00   0.00000000e+00   0.00000000e+00\n",
      "   0.00000000e+00   0.00000000e+00   0.00000000e+00   0.00000000e+00\n",
      "   0.00000000e+00   0.00000000e+00   0.00000000e+00   0.00000000e+00\n",
      "   0.00000000e+00   0.00000000e+00   0.00000000e+00   0.00000000e+00\n",
      "   0.00000000e+00   0.00000000e+00   0.00000000e+00   0.00000000e+00\n",
      "   0.00000000e+00   0.00000000e+00   0.00000000e+00   0.00000000e+00\n",
      "   0.00000000e+00   0.00000000e+00   0.00000000e+00   0.00000000e+00\n",
      "   0.00000000e+00   0.00000000e+00   0.00000000e+00   0.00000000e+00\n",
      "   0.00000000e+00   0.00000000e+00   0.00000000e+00   0.00000000e+00\n",
      "   0.00000000e+00   0.00000000e+00   0.00000000e+00   0.00000000e+00\n",
      "   0.00000000e+00   0.00000000e+00   0.00000000e+00   0.00000000e+00\n",
      "   0.00000000e+00   0.00000000e+00   0.00000000e+00   0.00000000e+00\n",
      "   0.00000000e+00   0.00000000e+00   0.00000000e+00   0.00000000e+00\n",
      "   0.00000000e+00]\n"
     ]
    }
   ],
   "source": [
    "print R\n",
    "print UR"
   ]
  },
  {
   "cell_type": "code",
   "execution_count": 19,
   "metadata": {
    "collapsed": true
   },
   "outputs": [],
   "source": [
    "init_guess(R, UR, N_fix)"
   ]
  },
  {
   "cell_type": "code",
   "execution_count": 20,
   "metadata": {
    "collapsed": false
   },
   "outputs": [
    {
     "data": {
      "text/plain": [
       "205"
      ]
     },
     "execution_count": 20,
     "metadata": {},
     "output_type": "execute_result"
    }
   ],
   "source": [
    "len(R)"
   ]
  },
  {
   "cell_type": "code",
   "execution_count": 21,
   "metadata": {
    "collapsed": false
   },
   "outputs": [
    {
     "data": {
      "text/plain": [
       "1.62"
      ]
     },
     "execution_count": 21,
     "metadata": {},
     "output_type": "execute_result"
    }
   ],
   "source": [
    "1.62"
   ]
  },
  {
   "cell_type": "code",
   "execution_count": null,
   "metadata": {
    "collapsed": true
   },
   "outputs": [],
   "source": []
  },
  {
   "cell_type": "code",
   "execution_count": null,
   "metadata": {
    "collapsed": true
   },
   "outputs": [],
   "source": []
  },
  {
   "cell_type": "code",
   "execution_count": 22,
   "metadata": {
    "collapsed": true
   },
   "outputs": [],
   "source": [
    "#ELONGATED TRIANGLE 3c"
   ]
  },
  {
   "cell_type": "code",
   "execution_count": 32,
   "metadata": {
    "collapsed": true
   },
   "outputs": [],
   "source": [
    "#trial ipl params\n",
    "d = 1.0\n",
    "a = 5.0\n",
    "A = 1.0\n",
    "k = 20.0\n",
    "\n",
    "#re potential constraints\n",
    "dr = 0.015\n",
    "N_opt = 90\n",
    "N_fix = 3\n",
    "r_shrink = 1.10\n",
    "r_cut = 1.62 + (N_fix-1)*dr\n",
    "\n",
    "#vector of r values\n",
    "R_temp = [r_cut - i*dr for i in range(N_opt + N_fix)]\n",
    "R_temp.reverse()\n",
    "R = array(R_temp)\n",
    "\n",
    "#get the potential\n",
    "UR = ipl_pot(R, \n",
    "             d, a, A, k, \n",
    "             r_cut, dr, r_shrink)"
   ]
  },
  {
   "cell_type": "code",
   "execution_count": 33,
   "metadata": {
    "collapsed": false,
    "scrolled": true
   },
   "outputs": [
    {
     "name": "stdout",
     "output_type": "stream",
     "text": [
      "[ 0.27   0.285  0.3    0.315  0.33   0.345  0.36   0.375  0.39   0.405\n",
      "  0.42   0.435  0.45   0.465  0.48   0.495  0.51   0.525  0.54   0.555\n",
      "  0.57   0.585  0.6    0.615  0.63   0.645  0.66   0.675  0.69   0.705\n",
      "  0.72   0.735  0.75   0.765  0.78   0.795  0.81   0.825  0.84   0.855\n",
      "  0.87   0.885  0.9    0.915  0.93   0.945  0.96   0.975  0.99   1.005\n",
      "  1.02   1.035  1.05   1.065  1.08   1.095  1.11   1.125  1.14   1.155\n",
      "  1.17   1.185  1.2    1.215  1.23   1.245  1.26   1.275  1.29   1.305\n",
      "  1.32   1.335  1.35   1.365  1.38   1.395  1.41   1.425  1.44   1.455\n",
      "  1.47   1.485  1.5    1.515  1.53   1.545  1.56   1.575  1.59   1.605\n",
      "  1.62   1.635  1.65 ]\n",
      "[  6.96917194e+02   5.31833512e+02   4.11522634e+02   3.22438752e+02\n",
      "   2.55523178e+02   2.04599480e+02   1.65381717e+02   1.34847737e+02\n",
      "   1.10835010e+02   9.17751037e+01   7.65162272e+01   6.42027625e+01\n",
      "   5.41922810e+01   4.59976067e+01   3.92458566e+01   3.36491428e+01\n",
      "   2.89833859e+01   2.50728373e+01   2.17786623e+01   1.89904425e+01\n",
      "   1.66197972e+01   1.45955569e+01   1.28600823e+01   1.13664388e+01\n",
      "   1.00762109e+01   8.95780123e+00   7.98509914e+00   7.13643177e+00\n",
      "   6.39373325e+00   5.74188322e+00   5.16817736e+00   4.66190164e+00\n",
      "   4.21398827e+00   3.81673640e+00   3.46358450e+00   3.14892395e+00\n",
      "   2.86794570e+00   2.61651364e+00   2.39105933e+00   2.18849392e+00\n",
      "   2.00613363e+00   1.84163558e+00   1.69294086e+00   1.55822134e+00\n",
      "   1.43582602e+00   1.32422103e+00   1.22191455e+00   1.12735445e+00\n",
      "   1.03878223e+00   9.54028318e-01   8.70257208e-01   7.83760472e-01\n",
      "   6.90127558e-01   5.85498648e-01   4.69585038e-01   3.49269766e-01\n",
      "   2.38159341e-01   1.49243383e-01   8.72443869e-02   4.85294213e-02\n",
      "   2.61461959e-02   1.38213284e-02   7.22825437e-03   3.75854997e-03\n",
      "   1.94874001e-03   1.00909574e-03   5.22325904e-04   2.70390744e-04\n",
      "   1.40021919e-04   7.25459696e-05   3.76073890e-05   1.95069382e-05\n",
      "   1.01243149e-05   5.25778145e-06   2.73210135e-06   1.42050852e-06\n",
      "   7.38988480e-07   3.84654379e-07   2.00323824e-07   1.04377815e-07\n",
      "   5.44092589e-08   2.83715864e-08   1.47966365e-08   7.71554196e-09\n",
      "   4.01994922e-09   2.09027054e-09   1.08218172e-09   5.55290016e-10\n",
      "   2.79772850e-10   1.35635415e-10   6.01953683e-11   2.06932455e-11\n",
      "   0.00000000e+00]\n"
     ]
    }
   ],
   "source": [
    "print R\n",
    "print UR"
   ]
  },
  {
   "cell_type": "code",
   "execution_count": 34,
   "metadata": {
    "collapsed": true
   },
   "outputs": [],
   "source": [
    "init_guess(R, UR, N_fix)"
   ]
  },
  {
   "cell_type": "code",
   "execution_count": 35,
   "metadata": {
    "collapsed": false
   },
   "outputs": [
    {
     "data": {
      "text/plain": [
       "93"
      ]
     },
     "execution_count": 35,
     "metadata": {},
     "output_type": "execute_result"
    }
   ],
   "source": [
    "len(R)"
   ]
  },
  {
   "cell_type": "code",
   "execution_count": 36,
   "metadata": {
    "collapsed": false
   },
   "outputs": [
    {
     "data": {
      "text/plain": [
       "1.86"
      ]
     },
     "execution_count": 36,
     "metadata": {},
     "output_type": "execute_result"
    }
   ],
   "source": [
    "1.86"
   ]
  },
  {
   "cell_type": "code",
   "execution_count": null,
   "metadata": {
    "collapsed": true
   },
   "outputs": [],
   "source": []
  },
  {
   "cell_type": "code",
   "execution_count": null,
   "metadata": {
    "collapsed": true
   },
   "outputs": [],
   "source": [
    "#ELONGATED TRIANGLE 5c"
   ]
  },
  {
   "cell_type": "code",
   "execution_count": null,
   "metadata": {
    "collapsed": true
   },
   "outputs": [],
   "source": [
    "#trial ipl params\n",
    "d = 1.0\n",
    "a = 5.0\n",
    "A = 1.0\n",
    "k = 20.0\n",
    "\n",
    "#re potential constraints\n",
    "dr = 0.015\n",
    "N_opt = 90\n",
    "N_fix = 3\n",
    "r_shrink = 1.10\n",
    "r_cut = 1.86 + (N_fix-1)*dr\n",
    "\n",
    "#vector of r values\n",
    "R_temp = [r_cut - i*dr for i in range(N_opt + N_fix)]\n",
    "R_temp.reverse()\n",
    "R = array(R_temp)\n",
    "\n",
    "#get the potential\n",
    "UR = ipl_pot(R, \n",
    "             d, a, A, k, \n",
    "             r_cut, dr, r_shrink)"
   ]
  },
  {
   "cell_type": "code",
   "execution_count": null,
   "metadata": {
    "collapsed": true
   },
   "outputs": [],
   "source": []
  }
 ],
 "metadata": {
  "kernelspec": {
   "display_name": "Python 2",
   "language": "python",
   "name": "python2"
  },
  "language_info": {
   "codemirror_mode": {
    "name": "ipython",
    "version": 2
   },
   "file_extension": ".py",
   "mimetype": "text/x-python",
   "name": "python",
   "nbconvert_exporter": "python",
   "pygments_lexer": "ipython2",
   "version": "2.7.10"
  }
 },
 "nbformat": 4,
 "nbformat_minor": 0
}
