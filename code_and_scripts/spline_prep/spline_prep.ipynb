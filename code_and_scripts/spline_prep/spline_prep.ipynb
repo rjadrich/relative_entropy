{
 "cells": [
  {
   "cell_type": "markdown",
   "metadata": {},
   "source": [
    "###This notebook prepares a spline input to the relative entropy code"
   ]
  },
  {
   "cell_type": "code",
   "execution_count": 1,
   "metadata": {
    "collapsed": false
   },
   "outputs": [],
   "source": [
    "import pandas as pd\n",
    "from scipy.optimize import curve_fit\n",
    "from numpy import power, linspace, tanh, array\n",
    "import matplotlib.pyplot as plt\n",
    "%matplotlib inline "
   ]
  },
  {
   "cell_type": "markdown",
   "metadata": {},
   "source": [
    "**Simple IPL potential to fit the re potential and parameters**"
   ]
  },
  {
   "cell_type": "code",
   "execution_count": 2,
   "metadata": {
    "collapsed": true
   },
   "outputs": [],
   "source": [
    "def ipl_pot(R, d, a, A, k, r_cut, dr, r_shrink):\n",
    "    UR = A*power(d/R, a)*((1.0 - tanh(k*(R/d - r_shrink)))/2.0)\n",
    "    UR = UR - UR[-1]\n",
    "    return UR"
   ]
  },
  {
   "cell_type": "markdown",
   "metadata": {},
   "source": [
    "**Function to make the initial guess**"
   ]
  },
  {
   "cell_type": "code",
   "execution_count": 3,
   "metadata": {
    "collapsed": true
   },
   "outputs": [],
   "source": [
    "def init_guess(R, UR, N_fix):\n",
    "    #oprn filestream\n",
    "    parameters_filestream = open(\"parameters.txt\", 'w')\n",
    "    \n",
    "    #the line that says do a spline\n",
    "    parameters_filestream.write(\"-1\\n\")\n",
    "                    \n",
    "    for i in range(0, len(R) - N_fix):\n",
    "        line = \"%0.15f\\n\" % R[i]\n",
    "        parameters_filestream.write(line)\n",
    "        line = \"%0.15f\\n\" % (UR[i] - UR[i + 1])\n",
    "        parameters_filestream.write(line)\n",
    "        line = \"%d\\n\" % 1\n",
    "        parameters_filestream.write(line)\n",
    "    \n",
    "    for i in range(len(R) - N_fix, len(R) - 1):\n",
    "        line = \"%0.15f\\n\" % R[i]\n",
    "        parameters_filestream.write(line)\n",
    "        line = \"%0.15f\\n\" % (UR[i] - UR[i + 1])\n",
    "        parameters_filestream.write(line)\n",
    "        line = \"%d\\n\" % 0\n",
    "        parameters_filestream.write(line)\n",
    "        \n",
    "    #final line for cut point\n",
    "    line = \"%0.15f\\n\" % R[-1]\n",
    "    parameters_filestream.write(line)\n",
    "        \n",
    "    parameters_filestream.close()"
   ]
  },
  {
   "cell_type": "markdown",
   "metadata": {},
   "source": [
    "**Parameters to generate initial guess**"
   ]
  },
  {
   "cell_type": "code",
   "execution_count": 15,
   "metadata": {
    "collapsed": false
   },
   "outputs": [],
   "source": [
    "#trial ipl params\n",
    "d = 1.0\n",
    "a = 5.0\n",
    "A = 8.0\n",
    "k = 9.0\n",
    "\n",
    "#re potential constraints\n",
    "r_cut = 3.00\n",
    "dr = 0.1\n",
    "N_opt = 26\n",
    "N_fix = 3\n",
    "r_shrink = 2.40\n",
    "\n",
    "#vector of r values\n",
    "R_temp = [r_cut - i*dr for i in range(N_opt + N_fix)]\n",
    "R_temp.reverse()\n",
    "R = array(R_temp)\n",
    "\n",
    "#get the potential\n",
    "UR = ipl_pot(R, \n",
    "             d, a, A, k, \n",
    "             r_cut, dr, r_shrink)"
   ]
  },
  {
   "cell_type": "markdown",
   "metadata": {},
   "source": [
    "**Generate initial guess file**"
   ]
  },
  {
   "cell_type": "code",
   "execution_count": 17,
   "metadata": {
    "collapsed": false
   },
   "outputs": [],
   "source": [
    "init_guess(R, UR, N_fix)"
   ]
  },
  {
   "cell_type": "markdown",
   "metadata": {},
   "source": [
    "**Plot our initial guess**"
   ]
  },
  {
   "cell_type": "code",
   "execution_count": 18,
   "metadata": {
    "collapsed": false
   },
   "outputs": [
    {
     "data": {
      "text/plain": [
       "<matplotlib.text.Text at 0x16ed4f60>"
      ]
     },
     "execution_count": 18,
     "metadata": {},
     "output_type": "execute_result"
    },
    {
     "data": {
      "image/png": "[encoded data removed]",
      "text/plain": [
       "<matplotlib.figure.Figure at 0x16e89470>"
      ]
     },
     "metadata": {},
     "output_type": "display_data"
    }
   ],
   "source": [
    "#font scpecifications\n",
    "title_font = {'family' : 'arial', 'color'  : 'black', 'weight' : 'heavy','size': 20}\n",
    "axis_label_font = {'family' : 'arial', 'color'  : 'black', 'weight' : 'normal','size': 20}\n",
    "axescolor = '#f6f6f6'\n",
    "\n",
    "#figure size and tick style\n",
    "plt.rcParams[\"figure.figsize\"] = [6,6]\n",
    "plt.rc('axes',edgecolor='black',linewidth=1)\n",
    "plt.tick_params(which='both', axis='both', color='black', length=4, width=0.5)\n",
    "plt.rcParams['xtick.direction'] = 'in'\n",
    "plt.rcParams['ytick.direction'] = 'in'\n",
    "\n",
    "#actual data and labeling\n",
    "plt.xlabel('$\\mathbf{r}$', fontsize=20, fontdict = axis_label_font)\n",
    "plt.ylabel('$\\mathbf{u(r)}$', fontsize=20, fontdict = axis_label_font)\n",
    "plt.plot(R, UR, c=\"g\", linestyle = '-', linewidth = 2)\n",
    "plt.scatter(R, UR, c=\"g\", linestyle = '-', linewidth = 2)\n",
    "plt.ylim((0,5.0))\n",
    "plt.xlim((0,3.5))\n",
    "\n",
    "#title and axis labels\n",
    "plt.tick_params(axis='both', labelsize=20)\n",
    "plt.title(\"Asymptotic fit\", y=1.05, fontdict = title_font)"
   ]
  },
  {
   "cell_type": "code",
   "execution_count": 16,
   "metadata": {
    "collapsed": false
   },
   "outputs": [
    {
     "name": "stdout",
     "output_type": "stream",
     "text": [
      "[ 0.2  0.3  0.4  0.5  0.6  0.7  0.8  0.9  1.   1.1  1.2  1.3  1.4  1.5  1.6\n",
      "  1.7  1.8  1.9  2.   2.1  2.2  2.3  2.4  2.5  2.6  2.7  2.8  2.9  3. ]\n",
      "[  2.50000000e+04   3.29218107e+03   7.81249999e+02   2.55999999e+02\n",
      "   1.02880658e+02   4.75992139e+01   2.44140618e+01   1.35480696e+01\n",
      "   7.99999933e+00   4.96736991e+00   3.21501990e+00   2.15463192e+00\n",
      "   1.48747476e+00   1.05349717e+00   7.62938356e-01   5.63434451e-01\n",
      "   4.23367887e-01   3.23048320e-01   2.49812821e-01   1.95000133e-01\n",
      "   1.51100999e-01   1.06662250e-01   5.02340249e-02   1.16197677e-02\n",
      "   1.79016434e-03   2.50010831e-04   3.40065370e-05   4.14120575e-06\n",
      "   0.00000000e+00]\n"
     ]
    }
   ],
   "source": [
    "print R\n",
    "print UR"
   ]
  },
  {
   "cell_type": "code",
   "execution_count": 19,
   "metadata": {
    "collapsed": false
   },
   "outputs": [
    {
     "data": {
      "text/plain": [
       "29"
      ]
     },
     "execution_count": 19,
     "metadata": {},
     "output_type": "execute_result"
    }
   ],
   "source": [
    "len(R)"
   ]
  },
  {
   "cell_type": "code",
   "execution_count": 15,
   "metadata": {
    "collapsed": false
   },
   "outputs": [
    {
     "name": "stdout",
     "output_type": "stream",
     "text": [
      "None\n"
     ]
    }
   ],
   "source": [
    "print ([3,5,6,2]).reverse()"
   ]
  },
  {
   "cell_type": "code",
   "execution_count": null,
   "metadata": {
    "collapsed": true
   },
   "outputs": [],
   "source": []
  },
  {
   "cell_type": "code",
   "execution_count": null,
   "metadata": {
    "collapsed": true
   },
   "outputs": [],
   "source": []
  },
  {
   "cell_type": "code",
   "execution_count": null,
   "metadata": {
    "collapsed": true
   },
   "outputs": [],
   "source": []
  },
  {
   "cell_type": "code",
   "execution_count": 50,
   "metadata": {
    "collapsed": true
   },
   "outputs": [],
   "source": [
    "#trial ipl params\n",
    "d = 1.0\n",
    "a = 5.0\n",
    "A = 8.0\n",
    "k = 9.0\n",
    "\n",
    "#re potential constraints\n",
    "r_cut = 4.8\n",
    "dr = 0.15\n",
    "N_opt = 29\n",
    "N_fix = 2\n",
    "r_shrink = 4.2\n",
    "\n",
    "#vector of r values\n",
    "R_temp = [r_cut - i*dr for i in range(N_opt + N_fix)]\n",
    "R_temp.reverse()\n",
    "R = array(R_temp)\n",
    "\n",
    "#get the potential\n",
    "UR = ipl_pot(R, \n",
    "             d, a, A, k, \n",
    "             r_cut, dr, r_shrink)"
   ]
  },
  {
   "cell_type": "code",
   "execution_count": 51,
   "metadata": {
    "collapsed": false
   },
   "outputs": [
    {
     "data": {
      "text/plain": [
       "<matplotlib.text.Text at 0x1a34e3c8>"
      ]
     },
     "execution_count": 51,
     "metadata": {},
     "output_type": "execute_result"
    },
    {
     "data": {
      "image/png": "[encoded data removed]",
      "text/plain": [
       "<matplotlib.figure.Figure at 0x19dc75f8>"
      ]
     },
     "metadata": {},
     "output_type": "display_data"
    }
   ],
   "source": [
    "#font scpecifications\n",
    "title_font = {'family' : 'arial', 'color'  : 'black', 'weight' : 'heavy','size': 20}\n",
    "axis_label_font = {'family' : 'arial', 'color'  : 'black', 'weight' : 'normal','size': 20}\n",
    "axescolor = '#f6f6f6'\n",
    "\n",
    "#figure size and tick style\n",
    "plt.rcParams[\"figure.figsize\"] = [6,6]\n",
    "plt.rc('axes',edgecolor='black',linewidth=1)\n",
    "plt.tick_params(which='both', axis='both', color='black', length=4, width=0.5)\n",
    "plt.rcParams['xtick.direction'] = 'in'\n",
    "plt.rcParams['ytick.direction'] = 'in'\n",
    "\n",
    "#actual data and labeling\n",
    "plt.xlabel('$\\mathbf{r}$', fontsize=20, fontdict = axis_label_font)\n",
    "plt.ylabel('$\\mathbf{u(r)}$', fontsize=20, fontdict = axis_label_font)\n",
    "plt.plot(R, UR, c=\"g\", linestyle = '-', linewidth = 2)\n",
    "plt.scatter(R, UR, c=\"g\", linestyle = '-', linewidth = 2)\n",
    "plt.ylim((0,5.0))\n",
    "plt.xlim((0,5.0))\n",
    "\n",
    "#title and axis labels\n",
    "plt.tick_params(axis='both', labelsize=20)\n",
    "plt.title(\"Asymptotic fit\", y=1.05, fontdict = title_font)"
   ]
  },
  {
   "cell_type": "code",
   "execution_count": 52,
   "metadata": {
    "collapsed": false
   },
   "outputs": [
    {
     "name": "stdout",
     "output_type": "stream",
     "text": [
      "[ 0.3   0.45  0.6   0.75  0.9   1.05  1.2   1.35  1.5   1.65  1.8   1.95\n",
      "  2.1   2.25  2.4   2.55  2.7   2.85  3.    3.15  3.3   3.45  3.6   3.75\n",
      "  3.9   4.05  4.2   4.35  4.5   4.65  4.8 ]\n",
      "[  3.29218107e+03   4.33538248e+02   1.02880658e+02   3.37119341e+01\n",
      "   1.35480702e+01   6.26820927e+00   3.21502051e+00   1.78410795e+00\n",
      "   1.05349788e+00   6.54139272e-01   4.23377131e-01   2.83737562e-01\n",
      "   1.95881478e-01   1.38732175e-01   1.00469329e-01   7.41974039e-02\n",
      "   5.57533115e-02   4.25466169e-02   3.29217466e-02   2.57950359e-02\n",
      "   2.04417883e-02   1.63678719e-02   1.32302034e-02   1.07844814e-02\n",
      "   8.82686920e-03   6.87959335e-03   3.06058504e-03   3.23381027e-04\n",
      "   1.94290175e-05   1.05258060e-06   0.00000000e+00]\n"
     ]
    }
   ],
   "source": [
    "print R\n",
    "print UR"
   ]
  },
  {
   "cell_type": "code",
   "execution_count": 53,
   "metadata": {
    "collapsed": true
   },
   "outputs": [],
   "source": [
    "init_guess(R, UR, N_fix)"
   ]
  },
  {
   "cell_type": "code",
   "execution_count": 54,
   "metadata": {
    "collapsed": false
   },
   "outputs": [
    {
     "data": {
      "text/plain": [
       "31"
      ]
     },
     "execution_count": 54,
     "metadata": {},
     "output_type": "execute_result"
    }
   ],
   "source": [
    "len(R)"
   ]
  },
  {
   "cell_type": "code",
   "execution_count": 3,
   "metadata": {
    "collapsed": false
   },
   "outputs": [],
   "source": [
    "ur_df = pd.read_csv(\"table.xvg\", delim_whitespace = True, index_col = False)[[\"r\", \"ur\"]]"
   ]
  },
  {
   "cell_type": "code",
   "execution_count": 4,
   "metadata": {
    "collapsed": false
   },
   "outputs": [
    {
     "data": {
      "text/html": [
       "<div>\n",
       "<table border=\"1\" class=\"dataframe\">\n",
       "  <thead>\n",
       "    <tr style=\"text-align: right;\">\n",
       "      <th></th>\n",
       "      <th>r</th>\n",
       "      <th>ur</th>\n",
       "    </tr>\n",
       "  </thead>\n",
       "  <tbody>\n",
       "    <tr>\n",
       "      <th>0</th>\n",
       "      <td>0.000</td>\n",
       "      <td>68411.927957</td>\n",
       "    </tr>\n",
       "    <tr>\n",
       "      <th>1</th>\n",
       "      <td>0.005</td>\n",
       "      <td>67326.537007</td>\n",
       "    </tr>\n",
       "    <tr>\n",
       "      <th>2</th>\n",
       "      <td>0.010</td>\n",
       "      <td>66241.146057</td>\n",
       "    </tr>\n",
       "    <tr>\n",
       "      <th>3</th>\n",
       "      <td>0.015</td>\n",
       "      <td>65155.755107</td>\n",
       "    </tr>\n",
       "    <tr>\n",
       "      <th>4</th>\n",
       "      <td>0.020</td>\n",
       "      <td>64070.364157</td>\n",
       "    </tr>\n",
       "    <tr>\n",
       "      <th>5</th>\n",
       "      <td>0.025</td>\n",
       "      <td>62984.973207</td>\n",
       "    </tr>\n",
       "    <tr>\n",
       "      <th>6</th>\n",
       "      <td>0.030</td>\n",
       "      <td>61899.582257</td>\n",
       "    </tr>\n",
       "    <tr>\n",
       "      <th>7</th>\n",
       "      <td>0.035</td>\n",
       "      <td>60814.191307</td>\n",
       "    </tr>\n",
       "    <tr>\n",
       "      <th>8</th>\n",
       "      <td>0.040</td>\n",
       "      <td>59728.800357</td>\n",
       "    </tr>\n",
       "    <tr>\n",
       "      <th>9</th>\n",
       "      <td>0.045</td>\n",
       "      <td>58643.409407</td>\n",
       "    </tr>\n",
       "    <tr>\n",
       "      <th>10</th>\n",
       "      <td>0.050</td>\n",
       "      <td>57558.018457</td>\n",
       "    </tr>\n",
       "    <tr>\n",
       "      <th>11</th>\n",
       "      <td>0.055</td>\n",
       "      <td>56472.627507</td>\n",
       "    </tr>\n",
       "    <tr>\n",
       "      <th>12</th>\n",
       "      <td>0.060</td>\n",
       "      <td>55387.236557</td>\n",
       "    </tr>\n",
       "    <tr>\n",
       "      <th>13</th>\n",
       "      <td>0.065</td>\n",
       "      <td>54301.845607</td>\n",
       "    </tr>\n",
       "    <tr>\n",
       "      <th>14</th>\n",
       "      <td>0.070</td>\n",
       "      <td>53216.454657</td>\n",
       "    </tr>\n",
       "    <tr>\n",
       "      <th>15</th>\n",
       "      <td>0.075</td>\n",
       "      <td>52131.063707</td>\n",
       "    </tr>\n",
       "    <tr>\n",
       "      <th>16</th>\n",
       "      <td>0.080</td>\n",
       "      <td>51045.672757</td>\n",
       "    </tr>\n",
       "    <tr>\n",
       "      <th>17</th>\n",
       "      <td>0.085</td>\n",
       "      <td>49960.281807</td>\n",
       "    </tr>\n",
       "    <tr>\n",
       "      <th>18</th>\n",
       "      <td>0.090</td>\n",
       "      <td>48874.890857</td>\n",
       "    </tr>\n",
       "    <tr>\n",
       "      <th>19</th>\n",
       "      <td>0.095</td>\n",
       "      <td>47789.499907</td>\n",
       "    </tr>\n",
       "    <tr>\n",
       "      <th>20</th>\n",
       "      <td>0.100</td>\n",
       "      <td>46704.108957</td>\n",
       "    </tr>\n",
       "    <tr>\n",
       "      <th>21</th>\n",
       "      <td>0.105</td>\n",
       "      <td>45618.718007</td>\n",
       "    </tr>\n",
       "    <tr>\n",
       "      <th>22</th>\n",
       "      <td>0.110</td>\n",
       "      <td>44533.327057</td>\n",
       "    </tr>\n",
       "    <tr>\n",
       "      <th>23</th>\n",
       "      <td>0.115</td>\n",
       "      <td>43447.936107</td>\n",
       "    </tr>\n",
       "    <tr>\n",
       "      <th>24</th>\n",
       "      <td>0.120</td>\n",
       "      <td>42362.545157</td>\n",
       "    </tr>\n",
       "    <tr>\n",
       "      <th>25</th>\n",
       "      <td>0.125</td>\n",
       "      <td>41277.154207</td>\n",
       "    </tr>\n",
       "    <tr>\n",
       "      <th>26</th>\n",
       "      <td>0.130</td>\n",
       "      <td>40191.763257</td>\n",
       "    </tr>\n",
       "    <tr>\n",
       "      <th>27</th>\n",
       "      <td>0.135</td>\n",
       "      <td>39106.372307</td>\n",
       "    </tr>\n",
       "    <tr>\n",
       "      <th>28</th>\n",
       "      <td>0.140</td>\n",
       "      <td>38020.981357</td>\n",
       "    </tr>\n",
       "    <tr>\n",
       "      <th>29</th>\n",
       "      <td>0.145</td>\n",
       "      <td>36935.590407</td>\n",
       "    </tr>\n",
       "    <tr>\n",
       "      <th>...</th>\n",
       "      <td>...</td>\n",
       "      <td>...</td>\n",
       "    </tr>\n",
       "    <tr>\n",
       "      <th>3171</th>\n",
       "      <td>15.855</td>\n",
       "      <td>0.000000</td>\n",
       "    </tr>\n",
       "    <tr>\n",
       "      <th>3172</th>\n",
       "      <td>15.860</td>\n",
       "      <td>0.000000</td>\n",
       "    </tr>\n",
       "    <tr>\n",
       "      <th>3173</th>\n",
       "      <td>15.865</td>\n",
       "      <td>0.000000</td>\n",
       "    </tr>\n",
       "    <tr>\n",
       "      <th>3174</th>\n",
       "      <td>15.870</td>\n",
       "      <td>0.000000</td>\n",
       "    </tr>\n",
       "    <tr>\n",
       "      <th>3175</th>\n",
       "      <td>15.875</td>\n",
       "      <td>0.000000</td>\n",
       "    </tr>\n",
       "    <tr>\n",
       "      <th>3176</th>\n",
       "      <td>15.880</td>\n",
       "      <td>0.000000</td>\n",
       "    </tr>\n",
       "    <tr>\n",
       "      <th>3177</th>\n",
       "      <td>15.885</td>\n",
       "      <td>0.000000</td>\n",
       "    </tr>\n",
       "    <tr>\n",
       "      <th>3178</th>\n",
       "      <td>15.890</td>\n",
       "      <td>0.000000</td>\n",
       "    </tr>\n",
       "    <tr>\n",
       "      <th>3179</th>\n",
       "      <td>15.895</td>\n",
       "      <td>0.000000</td>\n",
       "    </tr>\n",
       "    <tr>\n",
       "      <th>3180</th>\n",
       "      <td>15.900</td>\n",
       "      <td>0.000000</td>\n",
       "    </tr>\n",
       "    <tr>\n",
       "      <th>3181</th>\n",
       "      <td>15.905</td>\n",
       "      <td>0.000000</td>\n",
       "    </tr>\n",
       "    <tr>\n",
       "      <th>3182</th>\n",
       "      <td>15.910</td>\n",
       "      <td>0.000000</td>\n",
       "    </tr>\n",
       "    <tr>\n",
       "      <th>3183</th>\n",
       "      <td>15.915</td>\n",
       "      <td>0.000000</td>\n",
       "    </tr>\n",
       "    <tr>\n",
       "      <th>3184</th>\n",
       "      <td>15.920</td>\n",
       "      <td>0.000000</td>\n",
       "    </tr>\n",
       "    <tr>\n",
       "      <th>3185</th>\n",
       "      <td>15.925</td>\n",
       "      <td>0.000000</td>\n",
       "    </tr>\n",
       "    <tr>\n",
       "      <th>3186</th>\n",
       "      <td>15.930</td>\n",
       "      <td>0.000000</td>\n",
       "    </tr>\n",
       "    <tr>\n",
       "      <th>3187</th>\n",
       "      <td>15.935</td>\n",
       "      <td>0.000000</td>\n",
       "    </tr>\n",
       "    <tr>\n",
       "      <th>3188</th>\n",
       "      <td>15.940</td>\n",
       "      <td>0.000000</td>\n",
       "    </tr>\n",
       "    <tr>\n",
       "      <th>3189</th>\n",
       "      <td>15.945</td>\n",
       "      <td>0.000000</td>\n",
       "    </tr>\n",
       "    <tr>\n",
       "      <th>3190</th>\n",
       "      <td>15.950</td>\n",
       "      <td>0.000000</td>\n",
       "    </tr>\n",
       "    <tr>\n",
       "      <th>3191</th>\n",
       "      <td>15.955</td>\n",
       "      <td>0.000000</td>\n",
       "    </tr>\n",
       "    <tr>\n",
       "      <th>3192</th>\n",
       "      <td>15.960</td>\n",
       "      <td>0.000000</td>\n",
       "    </tr>\n",
       "    <tr>\n",
       "      <th>3193</th>\n",
       "      <td>15.965</td>\n",
       "      <td>0.000000</td>\n",
       "    </tr>\n",
       "    <tr>\n",
       "      <th>3194</th>\n",
       "      <td>15.970</td>\n",
       "      <td>0.000000</td>\n",
       "    </tr>\n",
       "    <tr>\n",
       "      <th>3195</th>\n",
       "      <td>15.975</td>\n",
       "      <td>0.000000</td>\n",
       "    </tr>\n",
       "    <tr>\n",
       "      <th>3196</th>\n",
       "      <td>15.980</td>\n",
       "      <td>0.000000</td>\n",
       "    </tr>\n",
       "    <tr>\n",
       "      <th>3197</th>\n",
       "      <td>15.985</td>\n",
       "      <td>0.000000</td>\n",
       "    </tr>\n",
       "    <tr>\n",
       "      <th>3198</th>\n",
       "      <td>15.990</td>\n",
       "      <td>0.000000</td>\n",
       "    </tr>\n",
       "    <tr>\n",
       "      <th>3199</th>\n",
       "      <td>15.995</td>\n",
       "      <td>0.000000</td>\n",
       "    </tr>\n",
       "    <tr>\n",
       "      <th>3200</th>\n",
       "      <td>16.000</td>\n",
       "      <td>0.000000</td>\n",
       "    </tr>\n",
       "  </tbody>\n",
       "</table>\n",
       "<p>3201 rows × 2 columns</p>\n",
       "</div>"
      ],
      "text/plain": [
       "           r            ur\n",
       "0      0.000  68411.927957\n",
       "1      0.005  67326.537007\n",
       "2      0.010  66241.146057\n",
       "3      0.015  65155.755107\n",
       "4      0.020  64070.364157\n",
       "5      0.025  62984.973207\n",
       "6      0.030  61899.582257\n",
       "7      0.035  60814.191307\n",
       "8      0.040  59728.800357\n",
       "9      0.045  58643.409407\n",
       "10     0.050  57558.018457\n",
       "11     0.055  56472.627507\n",
       "12     0.060  55387.236557\n",
       "13     0.065  54301.845607\n",
       "14     0.070  53216.454657\n",
       "15     0.075  52131.063707\n",
       "16     0.080  51045.672757\n",
       "17     0.085  49960.281807\n",
       "18     0.090  48874.890857\n",
       "19     0.095  47789.499907\n",
       "20     0.100  46704.108957\n",
       "21     0.105  45618.718007\n",
       "22     0.110  44533.327057\n",
       "23     0.115  43447.936107\n",
       "24     0.120  42362.545157\n",
       "25     0.125  41277.154207\n",
       "26     0.130  40191.763257\n",
       "27     0.135  39106.372307\n",
       "28     0.140  38020.981357\n",
       "29     0.145  36935.590407\n",
       "...      ...           ...\n",
       "3171  15.855      0.000000\n",
       "3172  15.860      0.000000\n",
       "3173  15.865      0.000000\n",
       "3174  15.870      0.000000\n",
       "3175  15.875      0.000000\n",
       "3176  15.880      0.000000\n",
       "3177  15.885      0.000000\n",
       "3178  15.890      0.000000\n",
       "3179  15.895      0.000000\n",
       "3180  15.900      0.000000\n",
       "3181  15.905      0.000000\n",
       "3182  15.910      0.000000\n",
       "3183  15.915      0.000000\n",
       "3184  15.920      0.000000\n",
       "3185  15.925      0.000000\n",
       "3186  15.930      0.000000\n",
       "3187  15.935      0.000000\n",
       "3188  15.940      0.000000\n",
       "3189  15.945      0.000000\n",
       "3190  15.950      0.000000\n",
       "3191  15.955      0.000000\n",
       "3192  15.960      0.000000\n",
       "3193  15.965      0.000000\n",
       "3194  15.970      0.000000\n",
       "3195  15.975      0.000000\n",
       "3196  15.980      0.000000\n",
       "3197  15.985      0.000000\n",
       "3198  15.990      0.000000\n",
       "3199  15.995      0.000000\n",
       "3200  16.000      0.000000\n",
       "\n",
       "[3201 rows x 2 columns]"
      ]
     },
     "execution_count": 4,
     "metadata": {},
     "output_type": "execute_result"
    }
   ],
   "source": [
    "ur_df"
   ]
  },
  {
   "cell_type": "code",
   "execution_count": 21,
   "metadata": {
    "collapsed": false
   },
   "outputs": [],
   "source": [
    "R = []\n",
    "UR = []\n",
    "for k in range(len(ur_df)):\n",
    "    r = ur_df[\"r\"][k]\n",
    "    ur = ur_df[\"ur\"][k]\n",
    "    if abs((r/0.2)-1.0) < 0.000001:\n",
    "        R.append(r)\n",
    "        UR.append(ur)\n",
    "    elif len(R) > 0:\n",
    "        if abs((r - R[-1]/0.02)) < 0.000001:\n",
    "            R.append(r)\n",
    "            UR.append(ur)\n",
    "    "
   ]
  },
  {
   "cell_type": "code",
   "execution_count": 22,
   "metadata": {
    "collapsed": false
   },
   "outputs": [
    {
     "data": {
      "text/plain": [
       "[0.20000000000000001, 10.0]"
      ]
     },
     "execution_count": 22,
     "metadata": {},
     "output_type": "execute_result"
    }
   ],
   "source": [
    "R"
   ]
  },
  {
   "cell_type": "code",
   "execution_count": 26,
   "metadata": {
    "collapsed": false
   },
   "outputs": [],
   "source": [
    "knot_locs = [0.2 + i*0.02 for i in range(100) if 0.2 + i*0.02 <= 1.6]"
   ]
  },
  {
   "cell_type": "code",
   "execution_count": null,
   "metadata": {
    "collapsed": true
   },
   "outputs": [],
   "source": [
    "ur_df[\"keep\"] = "
   ]
  },
  {
   "cell_type": "code",
   "execution_count": null,
   "metadata": {
    "collapsed": true
   },
   "outputs": [],
   "source": []
  },
  {
   "cell_type": "code",
   "execution_count": null,
   "metadata": {
    "collapsed": true
   },
   "outputs": [],
   "source": [
    "FOR SIMPLE CUBIC"
   ]
  },
  {
   "cell_type": "code",
   "execution_count": 70,
   "metadata": {
    "collapsed": true
   },
   "outputs": [],
   "source": [
    "#trial ipl params\n",
    "d = 1.0\n",
    "a = 5.0\n",
    "A = 8.0\n",
    "k = 9.0\n",
    "\n",
    "#re potential constraints\n",
    "r_cut = 1.70\n",
    "dr = 0.025\n",
    "N_opt = 50\n",
    "N_fix = 3\n",
    "r_shrink = 1.10\n",
    "\n",
    "#vector of r values\n",
    "R_temp = [r_cut - i*dr for i in range(N_opt + N_fix)]\n",
    "R_temp.reverse()\n",
    "R = array(R_temp)\n",
    "\n",
    "#get the potential\n",
    "UR = ipl_pot(R, \n",
    "             d, a, A, k, \n",
    "             r_cut, dr, r_shrink)"
   ]
  },
  {
   "cell_type": "code",
   "execution_count": 71,
   "metadata": {
    "collapsed": true
   },
   "outputs": [],
   "source": [
    "init_guess(R, UR, N_fix)"
   ]
  },
  {
   "cell_type": "code",
   "execution_count": 67,
   "metadata": {
    "collapsed": false
   },
   "outputs": [
    {
     "data": {
      "text/plain": [
       "<matplotlib.text.Text at 0x1a16aa90>"
      ]
     },
     "execution_count": 67,
     "metadata": {},
     "output_type": "execute_result"
    },
    {
     "data": {
      "image/png": "[encoded data removed]",
      "text/plain": [
       "<matplotlib.figure.Figure at 0x1a033b00>"
      ]
     },
     "metadata": {},
     "output_type": "display_data"
    }
   ],
   "source": [
    "#font scpecifications\n",
    "title_font = {'family' : 'arial', 'color'  : 'black', 'weight' : 'heavy','size': 20}\n",
    "axis_label_font = {'family' : 'arial', 'color'  : 'black', 'weight' : 'normal','size': 20}\n",
    "axescolor = '#f6f6f6'\n",
    "\n",
    "#figure size and tick style\n",
    "plt.rcParams[\"figure.figsize\"] = [6,6]\n",
    "plt.rc('axes',edgecolor='black',linewidth=1)\n",
    "plt.tick_params(which='both', axis='both', color='black', length=4, width=0.5)\n",
    "plt.rcParams['xtick.direction'] = 'in'\n",
    "plt.rcParams['ytick.direction'] = 'in'\n",
    "\n",
    "#actual data and labeling\n",
    "plt.xlabel('$\\mathbf{r}$', fontsize=20, fontdict = axis_label_font)\n",
    "plt.ylabel('$\\mathbf{u(r)}$', fontsize=20, fontdict = axis_label_font)\n",
    "plt.plot(R, UR, c=\"g\", linestyle = '-', linewidth = 2)\n",
    "plt.scatter(R, UR, c=\"g\", linestyle = '-', linewidth = 2)\n",
    "plt.ylim((0,5.0))\n",
    "plt.xlim((0,5.0))\n",
    "\n",
    "#title and axis labels\n",
    "plt.tick_params(axis='both', labelsize=20)\n",
    "plt.title(\"Asymptotic fit\", y=1.05, fontdict = title_font)"
   ]
  },
  {
   "cell_type": "code",
   "execution_count": 68,
   "metadata": {
    "collapsed": false
   },
   "outputs": [
    {
     "name": "stdout",
     "output_type": "stream",
     "text": [
      "[ 0.4    0.425  0.45   0.475  0.5    0.525  0.55   0.575  0.6    0.625\n",
      "  0.65   0.675  0.7    0.725  0.75   0.775  0.8    0.825  0.85   0.875  0.9\n",
      "  0.925  0.95   0.975  1.     1.025  1.05   1.075  1.1    1.125  1.15\n",
      "  1.175  1.2    1.225  1.25   1.275  1.3    1.325  1.35   1.375  1.4    1.425\n",
      "  1.45   1.475  1.5    1.525  1.55   1.575  1.6    1.625  1.65   1.675  1.7  ]\n",
      "[  7.81247354e+02   5.76956448e+02   4.33534641e+02   3.30838677e+02\n",
      "   2.55994766e+02   2.00576270e+02   1.58947872e+02   1.27267218e+02\n",
      "   1.02867952e+02   8.38698359e+01   6.89273094e+01   5.70642799e+01\n",
      "   4.75636927e+01   3.98925336e+01   3.36501307e+01   2.85320103e+01\n",
      "   2.43042787e+01   2.07852170e+01   1.78318788e+01   1.53302103e+01\n",
      "   1.31877208e+01   1.13281281e+01   9.68776031e+00   8.21385714e+00\n",
      "   6.86517999e+00   5.61514752e+00   4.45636881e+00   3.40275674e+00\n",
      "   2.48367380e+00   1.72852902e+00   1.14966197e+00   7.35339194e-01\n",
      "   4.56042599e-01   2.76509306e-01   1.65069381e-01   9.75523079e-02\n",
      "   5.72952557e-02   3.35326462e-02   1.95903988e-02   1.14371324e-02\n",
      "   6.67660237e-03   3.89821167e-03   2.27620061e-03   1.32859627e-03\n",
      "   7.74446240e-04   4.50016582e-04   2.59846753e-04   1.48235971e-04\n",
      "   8.26489893e-05   4.40592220e-05   2.13259855e-05   7.91767785e-06\n",
      "   0.00000000e+00]\n"
     ]
    }
   ],
   "source": [
    "print R\n",
    "print UR"
   ]
  },
  {
   "cell_type": "code",
   "execution_count": 72,
   "metadata": {
    "collapsed": false
   },
   "outputs": [
    {
     "data": {
      "text/plain": [
       "53"
      ]
     },
     "execution_count": 72,
     "metadata": {},
     "output_type": "execute_result"
    }
   ],
   "source": [
    "len(R)"
   ]
  },
  {
   "cell_type": "code",
   "execution_count": null,
   "metadata": {
    "collapsed": true
   },
   "outputs": [],
   "source": [
    "FOR DIAMOND"
   ]
  },
  {
   "cell_type": "code",
   "execution_count": 32,
   "metadata": {
    "collapsed": true
   },
   "outputs": [],
   "source": [
    "#trial ipl params\n",
    "d = 1.0\n",
    "a = 5.0\n",
    "A = 1.0\n",
    "k = 9.0\n",
    "\n",
    "#re potential constraints\n",
    "r_cut = 1.85\n",
    "dr = 0.015\n",
    "N_opt = 103\n",
    "N_fix = 3\n",
    "r_shrink = 1.10\n",
    "\n",
    "#vector of r values\n",
    "R_temp = [r_cut - i*dr for i in range(N_opt + N_fix)]\n",
    "R_temp.reverse()\n",
    "R = array(R_temp)\n",
    "\n",
    "#get the potential\n",
    "UR = ipl_pot(R, \n",
    "             d, a, A, k, \n",
    "             r_cut, dr, r_shrink)"
   ]
  },
  {
   "cell_type": "code",
   "execution_count": 33,
   "metadata": {
    "collapsed": false
   },
   "outputs": [
    {
     "name": "stdout",
     "output_type": "stream",
     "text": [
      "[ 0.275  0.29   0.305  0.32   0.335  0.35   0.365  0.38   0.395  0.41\n",
      "  0.425  0.44   0.455  0.47   0.485  0.5    0.515  0.53   0.545  0.56\n",
      "  0.575  0.59   0.605  0.62   0.635  0.65   0.665  0.68   0.695  0.71\n",
      "  0.725  0.74   0.755  0.77   0.785  0.8    0.815  0.83   0.845  0.86\n",
      "  0.875  0.89   0.905  0.92   0.935  0.95   0.965  0.98   0.995  1.01\n",
      "  1.025  1.04   1.055  1.07   1.085  1.1    1.115  1.13   1.145  1.16\n",
      "  1.175  1.19   1.205  1.22   1.235  1.25   1.265  1.28   1.295  1.31\n",
      "  1.325  1.34   1.355  1.37   1.385  1.4    1.415  1.43   1.445  1.46\n",
      "  1.475  1.49   1.505  1.52   1.535  1.55   1.565  1.58   1.595  1.61\n",
      "  1.625  1.64   1.655  1.67   1.685  1.7    1.715  1.73   1.745  1.76\n",
      "  1.775  1.79   1.805  1.82   1.835  1.85 ]\n",
      "[  6.35823209e+02   4.87539501e+02   3.78879003e+02   2.98022986e+02\n",
      "   2.37014824e+02   1.90396597e+02   1.54360045e+02   1.26206288e+02\n",
      "   1.03995173e+02   8.63135468e+01   7.21195574e+01   6.06364278e+01\n",
      "   5.12789442e+01   4.36019133e+01   3.72635772e+01   3.19993472e+01\n",
      "   2.76027434e+01   2.39114244e+01   2.07968506e+01   1.81565687e+01\n",
      "   1.59084036e+01   1.39860532e+01   1.23357195e+01   1.09135172e+01\n",
      "   9.68346416e+00   8.61591505e+00   7.68633162e+00   6.87431261e+00\n",
      "   6.16282368e+00   5.53758291e+00   4.98656808e+00   4.49961939e+00\n",
      "   4.06811770e+00   3.68472255e+00   3.34315794e+00   3.03803621e+00\n",
      "   2.76471258e+00   2.51916441e+00   2.29789059e+00   2.09782732e+00\n",
      "   1.91627766e+00   1.75085265e+00   1.59942297e+00   1.46008048e+00\n",
      "   1.33110984e+00   1.21097141e+00   1.09829703e+00   9.91900501e-01\n",
      "   8.90803978e-01   7.94278859e-01   7.01894814e-01   6.13563577e-01\n",
      "   5.29556695e-01   4.50473459e-01   3.77142478e-01   3.10460598e-01\n",
      "   2.51200360e-01   1.99837405e-01   1.56447517e-01   1.20697451e-01\n",
      "   9.19187727e-02   6.92289337e-02   5.16589108e-02   3.82580265e-02\n",
      "   2.81633977e-02   2.06350460e-02   1.50647839e-02   1.09685565e-02\n",
      "   7.97040376e-03   5.78369357e-03   4.19295421e-03   3.03792333e-03\n",
      "   2.20035254e-03   1.59351342e-03   1.15407671e-03   8.35948731e-04\n",
      "   6.05658633e-04   4.38941279e-04   3.18224765e-04   2.30793105e-04\n",
      "   1.67447968e-04   1.21536682e-04   8.82476726e-05   6.41004677e-05\n",
      "   4.65768543e-05   3.38542790e-05   2.46131947e-05   1.78978553e-05\n",
      "   1.30157212e-05   9.46475147e-06   6.88083762e-06   4.99978582e-06\n",
      "   3.62981054e-06   2.63162484e-06   1.90402289e-06   1.37343487e-06\n",
      "   9.86356203e-07   7.03857556e-07   4.97601849e-07   3.46953213e-07\n",
      "   2.36877568e-07   1.56417329e-07   9.75827421e-08   5.45456673e-08\n",
      "   2.30530465e-08   0.00000000e+00]\n"
     ]
    }
   ],
   "source": [
    "print R\n",
    "print UR"
   ]
  },
  {
   "cell_type": "code",
   "execution_count": 34,
   "metadata": {
    "collapsed": false
   },
   "outputs": [
    {
     "data": {
      "text/plain": [
       "<matplotlib.text.Text at 0x16fc9dd8>"
      ]
     },
     "execution_count": 34,
     "metadata": {},
     "output_type": "execute_result"
    },
    {
     "data": {
      "image/png": "[encoded data removed]",
      "text/plain": [
       "<matplotlib.figure.Figure at 0x16fd4240>"
      ]
     },
     "metadata": {},
     "output_type": "display_data"
    }
   ],
   "source": [
    "#font scpecifications\n",
    "title_font = {'family' : 'arial', 'color'  : 'black', 'weight' : 'heavy','size': 20}\n",
    "axis_label_font = {'family' : 'arial', 'color'  : 'black', 'weight' : 'normal','size': 20}\n",
    "axescolor = '#f6f6f6'\n",
    "\n",
    "#figure size and tick style\n",
    "plt.rcParams[\"figure.figsize\"] = [6,6]\n",
    "plt.rc('axes',edgecolor='black',linewidth=1)\n",
    "plt.tick_params(which='both', axis='both', color='black', length=4, width=0.5)\n",
    "plt.rcParams['xtick.direction'] = 'in'\n",
    "plt.rcParams['ytick.direction'] = 'in'\n",
    "\n",
    "#actual data and labeling\n",
    "plt.xlabel('$\\mathbf{r}$', fontsize=20, fontdict = axis_label_font)\n",
    "plt.ylabel('$\\mathbf{u(r)}$', fontsize=20, fontdict = axis_label_font)\n",
    "plt.plot(R, UR, c=\"g\", linestyle = '-', linewidth = 2)\n",
    "plt.scatter(R, UR, c=\"g\", linestyle = '-', linewidth = 2)\n",
    "plt.ylim((0,5.0))\n",
    "plt.xlim((0,5.0))\n",
    "\n",
    "#title and axis labels\n",
    "plt.tick_params(axis='both', labelsize=20)\n",
    "plt.title(\"Asymptotic fit\", y=1.05, fontdict = title_font)"
   ]
  },
  {
   "cell_type": "code",
   "execution_count": 35,
   "metadata": {
    "collapsed": true
   },
   "outputs": [],
   "source": [
    "init_guess(R, UR, N_fix)"
   ]
  },
  {
   "cell_type": "code",
   "execution_count": 36,
   "metadata": {
    "collapsed": false
   },
   "outputs": [
    {
     "data": {
      "text/plain": [
       "106"
      ]
     },
     "execution_count": 36,
     "metadata": {},
     "output_type": "execute_result"
    }
   ],
   "source": [
    "len(R)"
   ]
  },
  {
   "cell_type": "code",
   "execution_count": null,
   "metadata": {
    "collapsed": true
   },
   "outputs": [],
   "source": []
  }
 ],
 "metadata": {
  "kernelspec": {
   "display_name": "Python 2",
   "language": "python",
   "name": "python2"
  },
  "language_info": {
   "codemirror_mode": {
    "name": "ipython",
    "version": 2
   },
   "file_extension": ".py",
   "mimetype": "text/x-python",
   "name": "python",
   "nbconvert_exporter": "python",
   "pygments_lexer": "ipython2",
   "version": "2.7.10"
  }
 },
 "nbformat": 4,
 "nbformat_minor": 0
}
